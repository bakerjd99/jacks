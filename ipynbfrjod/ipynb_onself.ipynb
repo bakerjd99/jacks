{
 "cells": [
  {
   "cell_type": "markdown",
   "metadata": {},
   "source": [
"### :::jword::: IFACEWORDSipynb"   ]
  },
  {
   "cell_type": "code",
   "execution_count": null,
   "metadata": {},
   "outputs": [],
   "source": [
"NB. interface words (IFACEWORDSipynb) group\n",
"IFACEWORDSipynb=:,<'ipynbfrjod'"   ]
  },
  {
   "cell_type": "markdown",
   "metadata": {},
   "source": [
"### :::jword::: JWORDMARK"   ]
  },
  {
   "cell_type": "code",
   "execution_count": null,
   "metadata": {},
   "outputs": [],
   "source": [
"NB. prefix for markdown sections - converts to easily found strings in notebooks\n",
"JWORDMARK=:' :::jword::: '"   ]
  },
  {
   "cell_type": "markdown",
   "metadata": {},
   "source": [
"### :::jword::: LF"   ]
  },
  {
   "cell_type": "code",
   "execution_count": null,
   "metadata": {},
   "outputs": [],
   "source": [
"NB. line feed character\n",
"LF=:10{a."   ]
  },
  {
   "cell_type": "markdown",
   "metadata": {},
   "source": [
"### :::jword::: MDSECTION"   ]
  },
  {
   "cell_type": "code",
   "execution_count": null,
   "metadata": {},
   "outputs": [],
   "source": [
"NB. markdown cell section marker\n",
"MDSECTION=:'###'"   ]
  },
  {
   "cell_type": "markdown",
   "metadata": {},
   "source": [
"### :::jword::: NBHEADER"   ]
  },
  {
   "cell_type": "code",
   "execution_count": null,
   "metadata": {},
   "outputs": [],
   "source": [
"NBHEADER=:123 10 32 34 99 101 108 108 115 34 58 32 91 10{a."   ]
  },
  {
   "cell_type": "markdown",
   "metadata": {},
   "source": [
"### :::jword::: NBJCELLBEGen"   ]
  },
  {
   "cell_type": "code",
   "execution_count": null,
   "metadata": {},
   "outputs": [],
   "source": [
"NBJCELLBEGen=:32 32 32 93 10 32 32 125 44 10 32 32 123 10 32 32 32 34 99 101 108 108 95 116 121 112 101 34 58 32 34 99 111 100 101 34 44 10 32 32 32 34 101 120 101 99 117 116 105 111 110 95 99 111 117 110 116 34 58 32 110 117 108 108 44 10 32 32 32 34 109 101 116 97 100 97 116 97 34 58 32 123 125 44 10 32 32 32 34 111 117 116 112 117 116 115 34 58 32 91 93 44 10 32 32 32 34 115 111 117 114 99 101 34 58 32 91 10{a."   ]
  },
  {
   "cell_type": "markdown",
   "metadata": {},
   "source": [
"### :::jword::: NBJCELLBEGst"   ]
  },
  {
   "cell_type": "code",
   "execution_count": null,
   "metadata": {},
   "outputs": [],
   "source": [
"NBJCELLBEGst=:32 32 123 10 32 32 32 34 99 101 108 108 95 116 121 112 101 34 58 32 34 109 97 114 107 100 111 119 110 34 44 10 32 32 32 34 109 101 116 97 100 97 116 97 34 58 32 123 125 44 10 32 32 32 34 115 111 117 114 99 101 34 58 32 91 10{a."   ]
  },
  {
   "cell_type": "markdown",
   "metadata": {},
   "source": [
"### :::jword::: NBJCELLEND"   ]
  },
  {
   "cell_type": "code",
   "execution_count": null,
   "metadata": {},
   "outputs": [],
   "source": [
"NBJCELLEND=:32 32 32 93 10 32 32 125 44 10{a."   ]
  },
  {
   "cell_type": "markdown",
   "metadata": {},
   "source": [
"### :::jword::: NBTRAILER"   ]
  },
  {
   "cell_type": "code",
   "execution_count": null,
   "metadata": {},
   "outputs": [],
   "source": [
"NBTRAILER=:93 44 10 32 34 109 101 116 97 100 97 116 97 34 58 32 123 10 32 32 34 107 101 114 110 101 108 115 112 101 99 34 58 32 123 10 32 32 32 34 100 105 115 112 108 97 121 95 110 97 109 101 34 58 32 34 74 34 44 10 32 32 32 34 108 97 110 103 117 97 103 101 34 58 32 34 74 34 44 10 32 32 32 34 110 97 109 101 34 58 32 34 106 107 101 114 110 101 108 34 10 32 32 125 44 10 32 32 34 108 97 110 103 117 97 103 101 95 105 110 102 111 34 58 32 123 10 32 32 32 34 102 105 108 101 95 101 120 116 101 110 115 105 111 110 34 58 32 34 46 105 106 115 34 44 10 32 32 32 34 109 105 109 101 116 121 112 101 34 58 32 34 116 101 120 116 47 74 34 44 10 32 32 32 34 110 97 109 101 34 58 32 34 74 34 10 32 32 125 10 32 125 44 10 32 34 110 98 102 111 114 109 97 116 34 58 32 52 44 10 32 34 110 98 102 111 114 109 97 116 95 109 105 110 111 114 34 58 32 53 10 125 10{a."   ]
  },
  {
   "cell_type": "markdown",
   "metadata": {},
   "source": [
"### :::jword::: PYESCAPECHRS"   ]
  },
  {
   "cell_type": "code",
   "execution_count": null,
   "metadata": {},
   "outputs": [],
   "source": [
"NB. common python string escape characters\n",
"PYESCAPECHRS=:254 92 39 254 39 254 92 92 254 92 254 92 34 254 34{a."   ]
  },
  {
   "cell_type": "markdown",
   "metadata": {},
   "source": [
"### :::jword::: REVPYESCAPECHRS"   ]
  },
  {
   "cell_type": "code",
   "execution_count": null,
   "metadata": {},
   "outputs": [],
   "source": [
"NB. reverse python escapes - excluding single quote - order matters\n",
"REVPYESCAPECHRS=:254 92 254 92 92 254 34 254 92 34{a."   ]
  },
  {
   "cell_type": "markdown",
   "metadata": {},
   "source": [
"### :::jword::: ROOTWORDSipynb"   ]
  },
  {
   "cell_type": "code",
   "execution_count": null,
   "metadata": {},
   "outputs": [],
   "source": [
"NB. root words (ROOTWORDSipynb) group\n",
"ROOTWORDSipynb=:<;._1 ' IFACEWORDSipynb PYESCAPECHRS ROOTWORDSipynb VMDipynb ipynbfrjod'"   ]
  },
  {
   "cell_type": "markdown",
   "metadata": {},
   "source": [
"### :::jword::: VMDipynb"   ]
  },
  {
   "cell_type": "code",
   "execution_count": null,
   "metadata": {},
   "outputs": [],
   "source": [
"NB. version, make count and date\n",
"VMDipynb=:'0.8.0';5;'24 Jul 2022 13:25:21'"   ]
  },
  {
   "cell_type": "markdown",
   "metadata": {},
   "source": [
"### :::jword::: beforelaststr"   ]
  },
  {
   "cell_type": "code",
   "execution_count": null,
   "metadata": {},
   "outputs": [],
   "source": [
"NB. retains string (y) before last occurrence of (x)\n",
"beforelaststr=:] {.~ 1&(i:~)@([ E. ])"   ]
  },
  {
   "cell_type": "markdown",
   "metadata": {},
   "source": [
"### :::jword::: changestr"   ]
  },
  {
   "cell_type": "code",
   "execution_count": null,
   "metadata": {},
   "outputs": [],
   "source": [
"changestr=:4 : 0\n",
"\n",
"NB.*changestr v-- replaces substrings - see long documentation.\n",
"NB.\n",
"NB. dyad:  clReps changestr cl\n",
"NB.\n",
"NB.   NB. first character delimits replacements\n",
"NB.   '/change/becomes/me/ehh' changestr 'blah blah ...'\n",
"\n",
"pairs=. 2 {.\"(1) _2 [\\ <;._1 x      NB. change table\n",
"cnt=._1 [ lim=. # pairs\n",
"while. lim > cnt=.>:cnt do.         NB. process each change pair\n",
"  't c'=. cnt { pairs               NB. /target/change\n",
"  if. +./b=. t E. y do.             NB. next if no target\n",
"    r=. I. b                        NB. target starts\n",
"    'l q'=. #&> cnt { pairs         NB. lengths\n",
"    p=. r + 0,+/\\(<:# r)$ d=. q - l NB. change starts\n",
"    s=. * d                         NB. reduce < and > to =\n",
"    if. s = _1 do.\n",
"      b=. 1 #~ # b\n",
"      b=. ((l * # r)$ 1 0 #~ q,l-q) (,r +/ i. l)} b\n",
"      y=. b # y\n",
"      if. q = 0 do. continue. end.  NB. next for deletions\n",
"    elseif. s = 1 do.\n",
"      y=. y #~ >: d r} b            NB. first target char replicated\n",
"    end.\n",
"    y=.(c $~ q *# r) (,p +/i. q)} y  NB. insert replacements\n",
"  end.\n",
"end. y                              NB. altered string\n",
")"   ]
  },
  {
   "cell_type": "markdown",
   "metadata": {},
   "source": [
"### :::jword::: dblquote"   ]
  },
  {
   "cell_type": "code",
   "execution_count": null,
   "metadata": {},
   "outputs": [],
   "source": [
"NB. enclose all character lists in blcl in \" quotes\n",
"dblquote=:'\"'&,@:(,&'\"')&.>"   ]
  },
  {
   "cell_type": "markdown",
   "metadata": {},
   "source": [
"### :::jword::: ipynbfrjod"   ]
  },
  {
   "cell_type": "code",
   "execution_count": null,
   "metadata": {},
   "outputs": [],
   "source": [
"ipynbfrjod=:3 : 0\n",
"\n",
"NB.*ipynbfrjod v-- extract J  words from JOD  and insert in blank\n",
"NB. jupyter notebook.\n",
"NB.\n",
"NB. monad:  clIpynb =. ipynbfrjod blclNames\n",
"NB.\n",
"NB.   NB. examples use docs and utils\n",
"NB.   require 'general/jod'\n",
"NB.   od ;:'docs utils'\n",
"NB.\n",
"NB.   nbj=: ipynbfrjod ;:'sha1 sha1dir'\n",
"NB.   nbj write 'C:\\Users\\baker\\jupyter_notebooks\\test0.ipynb'\n",
"NB.\n",
"NB.   nbj=: ipynbfrjod }. grp 'ipynb'\n",
"NB.   nbj write 'C:\\Users\\baker\\jupyter_notebooks\\ipynb_onself.ipynb'\n",
"\n",
"NB. require 'general/jod' !(*)=. disp\n",
"jc=. disp&.> y\n",
"\n",
"NB. markdown sections with word name\n",
"sec=. dblquote (<MDSECTION,JWORDMARK) ,&.> y\n",
"sec=. (<NBJCELLBEGst) ,&.> sec ,&.> <NBJCELLBEGen\n",
"\n",
"NB. j code to quoted list of python strings notebook format\n",
"nbj=. <;._2@(REVPYESCAPECHRS&changestr)@tlf&.> jc\n",
"nbj=. ;&.> '\"' , L: 0 (<'\\n\",',LF) ,~ L: 0 nbj\n",
"nbj=. ,&'\"'&.> '\\n\",'&beforelaststr&.> nbj\n",
"nbj=. sec ,&.> nbj ,&.> <NBJCELLEND\n",
"toJ NBHEADER , (LF ,~ ','&beforelaststr ;nbj) , NBTRAILER\n",
")"   ]
  },
  {
   "cell_type": "markdown",
   "metadata": {},
   "source": [
"### :::jword::: tlf"   ]
  },
  {
   "cell_type": "code",
   "execution_count": null,
   "metadata": {},
   "outputs": [],
   "source": [
"NB. appends trailing line feed character if necessary\n",
"tlf=:] , ((10{a.)\"_ = {:) }. (10{a.)\"_"   ]
  },
  {
   "cell_type": "markdown",
   "metadata": {},
   "source": [
"### :::jword::: toJ"   ]
  },
  {
   "cell_type": "code",
   "execution_count": null,
   "metadata": {},
   "outputs": [],
   "source": [
"NB. converts character strings to J delimiter LF\n",
"toJ=:((10{a.) I.@(e.&(13{a.))@]}  ])@:(#~ -.@((13 10{a.)&E.@,))"   ]
  },
  {
   "cell_type": "markdown",
   "metadata": {},
   "source": [
"### :::jword::: write"   ]
  },
  {
   "cell_type": "code",
   "execution_count": null,
   "metadata": {},
   "outputs": [],
   "source": [
"NB. writes a list of bytes to file\n",
"write=:1!:2 ]`<@.(32&>@(3!:0))"   ]
  }
],
 "metadata": {
  "kernelspec": {
   "display_name": "J",
   "language": "J",
   "name": "jkernel"
  },
  "language_info": {
   "file_extension": ".ijs",
   "mimetype": "text/J",
   "name": "J"
  }
 },
 "nbformat": 4,
 "nbformat_minor": 5
}
