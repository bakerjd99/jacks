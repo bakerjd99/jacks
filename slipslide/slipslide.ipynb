{
 "cells": [
  {
   "cell_type": "markdown",
   "metadata": {},
   "source": [
    "## Slip Slide Tests\n",
    "\n",
    "This notebook runs various J scripts that estimate how far objects will slide on a flat frictionless plane when acted upon only by air resistance and wind. \n",
    "\n",
    "See: [https://github.com/bakerjd99/jacks/tree/master/slipslide](https://github.com/bakerjd99/jacks/tree/master/slipslide)."
   ]
  },
  {
   "cell_type": "code",
   "execution_count": 1,
   "metadata": {
    "scrolled": true
   },
   "outputs": [
    {
     "name": "stdout",
     "output_type": "stream",
     "text": [
      "\n",
      "j9.5.0-beta9/j64avx2/windows/commercial/www.jsoftware.com/2023-12-06T14:18:10/clang-16-0-6/SLEEF=1\n",
      "29 Dec 2023 16:31:10\n"
     ]
    }
   ],
   "source": [
    "NB. J version - notebook runtime\n",
    "smoutput 9!:14''\n",
    "smoutput timestamp 6!:0 ''"
   ]
  },
  {
   "cell_type": "code",
   "execution_count": 2,
   "metadata": {},
   "outputs": [
    {
     "name": "stdout",
     "output_type": "stream",
     "text": [
      "NB. (slipslide) interface word(s): 20231229j162307\n",
      "NB. --------------------------\n",
      "NB. lyinghuman     NB. slide parameters for a human lying down facing wind\n",
      "NB. shootermarble  NB. slide parameters for 19mm glass shooter marble\n",
      "NB. slipslide0     NB. estimate slide of object on frictionless plane\n",
      "\n"
     ]
    }
   ],
   "source": [
    "load 'slipslide'"
   ]
  },
  {
   "cell_type": "markdown",
   "metadata": {},
   "source": [
    "### Set various utils"
   ]
  },
  {
   "cell_type": "code",
   "execution_count": 3,
   "metadata": {},
   "outputs": [],
   "source": [
    "NB. set portable box characters for LaTeX\n",
    "0 0$portchars ''\n",
    "\n",
    "NB. cell clip format\n",
    "ccf=: [ {.\"1 [: \": ]"
   ]
  },
  {
   "cell_type": "code",
   "execution_count": 4,
   "metadata": {},
   "outputs": [
    {
     "name": "stdout",
     "output_type": "stream",
     "text": [
      "+-----+-+--------------------+\n",
      "|0.5.2|3|29 Dec 2023 16:23:07|\n",
      "+-----+-+--------------------+\n"
     ]
    }
   ],
   "source": [
    "NB. script version\n",
    "VMDslipslide"
   ]
  },
  {
   "cell_type": "markdown",
   "metadata": {},
   "source": [
    "### Estimate how far a 19mm shooter marble will roll\n",
    "\n",
    "The calculation assumes no wind and sea level air resistance."
   ]
  },
  {
   "cell_type": "code",
   "execution_count": 5,
   "metadata": {},
   "outputs": [
    {
     "name": "stdout",
     "output_type": "stream",
     "text": [
      "+------------------------+-----------+\n",
      "|air density (kg/m^3)    |1.226      |\n",
      "+------------------------+-----------+\n",
      "|drag constant           |0.5        |\n",
      "+------------------------+-----------+\n",
      "|cross area (m^2)        |0.000283529|\n",
      "+------------------------+-----------+\n",
      "|object mass (kg)        |0.00905024 |\n",
      "+------------------------+-----------+\n",
      "|initial velocity (m/sec)|1          |\n",
      "+------------------------+-----------+\n"
     ]
    }
   ],
   "source": [
    "NB. show slide paramters\n",
    "smoutput slip=: shootermarble 1"
   ]
  },
  {
   "cell_type": "code",
   "execution_count": 6,
   "metadata": {},
   "outputs": [
    {
     "name": "stdout",
     "output_type": "stream",
     "text": [
      "442.654 0.0142581 1.95206e_6 7.2e6\n"
     ]
    }
   ],
   "source": [
    "NB. a 1 m/sec marble is still slowly moving\n",
    "NB. after 2 hours and has rolled around 1/2 km\n",
    "(0.001,1000 * 3600 * 2) slipslide0 ; {:\"1 slip"
   ]
  },
  {
   "cell_type": "markdown",
   "metadata": {},
   "source": [
    "### Estimate how far a human will slide\n",
    "\n",
    "The calculation assumes the person is lying prone with cross section"
   ]
  },
  {
   "cell_type": "code",
   "execution_count": 7,
   "metadata": {},
   "outputs": [
    {
     "name": "stdout",
     "output_type": "stream",
     "text": [
      "+------------------------+-----+\n",
      "|air density (kg/m^3)    |1.226|\n",
      "+------------------------+-----+\n",
      "|drag constant           |0.35 |\n",
      "+------------------------+-----+\n",
      "|cross area (m^2)        |0.2  |\n",
      "+------------------------+-----+\n",
      "|object mass (kg)        |75   |\n",
      "+------------------------+-----+\n",
      "|initial velocity (m/sec)|8.8  |\n",
      "+------------------------+-----+\n"
     ]
    }
   ],
   "source": [
    "NB. show slide parameters\n",
    "smoutput human=: lyinghuman 8.8"
   ]
  },
  {
   "cell_type": "code",
   "execution_count": 8,
   "metadata": {},
   "outputs": [
    {
     "name": "stdout",
     "output_type": "stream",
     "text": [
      "7016.08 0.158915 1.44486e_5 1.08e7\n"
     ]
    }
   ],
   "source": [
    "NB. after three hours a person slides over 7km\n",
    "(0.001,1000 * 3600 * 3) slipslide0 ; {:\"1 human"
   ]
  },
  {
   "cell_type": "markdown",
   "metadata": {},
   "source": [
    "### All done - thanks for playing!"
   ]
  }
 ],
 "metadata": {
  "kernelspec": {
   "display_name": "J",
   "language": "J",
   "name": "jkernel"
  },
  "language_info": {
   "file_extension": ".ijs",
   "mimetype": "text/J",
   "name": "J"
  }
 },
 "nbformat": 4,
 "nbformat_minor": 2
}
