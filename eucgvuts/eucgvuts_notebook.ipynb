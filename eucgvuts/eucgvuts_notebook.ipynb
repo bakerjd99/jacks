{
 "cells": [
  {
   "cell_type": "markdown",
   "id": "e81abaaf",
   "metadata": {},
   "source": [
    "# `eucgvuts` Examples\n",
    "\n",
    "This notebook illustrates the [J eucgvuts script](https://github.com/bakerjd99/jacks/blob/master/eucgvuts/eucgvuts.ijs).  `eucgvuts` extracts web links from [HTML code found here](https://mathcs.clarku.edu/~djoyce/elements/) and formats graphviz digraph code.\n",
    "\n",
    "To run this notebook you must install a J jupyter kernel. See Martin Saurer's [GitHub repository](https://github.com/martin-saurer/jkernel) for instructions."
   ]
  },
  {
   "cell_type": "code",
   "execution_count": null,
   "id": "1a115b3f",
   "metadata": {},
   "outputs": [],
   "source": []
  }
 ],
 "metadata": {
  "kernelspec": {
   "display_name": "J",
   "language": "J",
   "name": "jkernel"
  },
  "language_info": {
   "file_extension": ".ijs",
   "mimetype": "text/J",
   "name": "J"
  }
 },
 "nbformat": 4,
 "nbformat_minor": 5
}
