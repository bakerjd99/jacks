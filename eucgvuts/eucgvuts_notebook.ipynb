{
 "cells": [
  {
   "cell_type": "markdown",
   "id": "e81abaaf",
   "metadata": {},
   "source": [
    "# `eucgvuts` Examples\n",
    "\n",
    "This notebook illustrates the [J eucgvuts script](https://github.com/bakerjd99/jacks/blob/master/eucgvuts/eucgvuts.ijs).  `eucgvuts` extracts web links from [HTML code found here](https://mathcs.clarku.edu/~djoyce/elements/) and formats [graphviz](https://graphviz.org/) digraph code.\n",
    "\n",
    "To run this notebook you must install a J jupyter kernel. See Martin Saurer's [GitHub repository](https://github.com/martin-saurer/jkernel) for instructions."
   ]
  },
  {
   "cell_type": "markdown",
   "id": "90fb8140",
   "metadata": {},
   "source": [
    "## Download Files from: https://mathcs.clarku.edu/~djoyce/elements/aboutText.html \n",
    "\n",
    "To simplify and speed up working with many HTML files download the files from David Joyce's online elements to local working directories. On Windows system this can be down with `wget`.  `wget` is distributed with J.\n",
    "\n",
    "Navigate to your working directory and run the following commands in the command prompt or windows terminal.\n",
    "\n",
    "    C:\\>cd \\temp\n",
    "    C:\\j64\\j9.5\\tools\\ftp\\wget --recursive --no-parent --no-check-certificate https://mathcs.clarku.edu/~djoyce/elements/\n",
    "\n",
    "This will download the site preserving directory structure.  After running the command you will have a directory stucture like:\n",
    "\n",
    "    \\---mathcs.clarku.edu\n",
    "        \\---~djoyce\n",
    "            \\---elements\n",
    "                +---bookI\n",
    "                +---bookII\n",
    "                +---bookIII\n",
    "                +---bookIV\n",
    "                +---bookIX\n",
    "                +---bookV\n",
    "                +---bookVI\n",
    "                +---bookVII\n",
    "                +---bookVIII\n",
    "                +---bookX\n",
    "                +---bookXI\n",
    "                +---bookXII\n",
    "                \\---bookXIII\n",
    "               \n",
    "Copy the tree with root `elements` to the `~temp` directory. "
   ]
  },
  {
   "cell_type": "markdown",
   "id": "2e62dc55",
   "metadata": {},
   "source": [
    "## Download the files at https://github.com/bakerjd99/jacks/tree/master/eucgvuts\n",
    "\n",
    "Download the files above and save them to a local configured J folder `~JACKS`.\n",
    "Configured folders are easily set with J's `Edit/Configure/Folders` menu in [JQT](https://code.jsoftware.com/wiki/Guides/Qt_IDE) or by editing the `~user/config/folders.cfg`\n",
    "file. \n",
    "\n",
    "Add a line like the following to `~user/config/folders.cfg` and restart J.\n",
    "\n",
    "    JACKS c:/jod/jacks"
   ]
  },
  {
   "cell_type": "code",
   "execution_count": 1,
   "id": "012cba73",
   "metadata": {},
   "outputs": [
    {
     "name": "stdout",
     "output_type": "stream",
     "text": [
      "\n",
      "eucgvuts.ijs                                   27875 30-Jun-23 11:42:58\n",
      "eucgvuts.pdf                                  122834 23-Jun-23 13:41:10\n",
      "eucgvuts_notebook.ipynb                        10381 30-Jun-23 11:42:58\n",
      "eucgvuts_notebook.pdf                          18023 27-Jun-23 10:05:44\n",
      "euclid_digraph_books_1_6.gv                    38096 30-Jun-23 11:42:58\n",
      "euclid_digraph_books_1_6.pdf                  434289 30-Jun-23 11:11:47\n",
      "euclid_digraph_books_1_6.svg                  478221 30-Jun-23 11:42:58\n",
      "euclid_digraph_books_1_6_dependencies.gv       16870 30-Jun-23 11:42:58\n",
      "euclid_i_47_dependencies.gv                     7864 30-Jun-23 11:42:58\n",
      "euclid_i_47_dependencies.pdf                  113707 28-Jun-23 14:09:43\n",
      "euclid_i_47_dependencies.svg                   71007 30-Jun-23 11:42:58\n"
     ]
    }
   ],
   "source": [
    "NB. contents of configured folder\n",
    "smoutput dir '~JACKS/eucgvuts/'"
   ]
  },
  {
   "cell_type": "markdown",
   "id": "fd8bd0c0",
   "metadata": {},
   "source": [
    "## load `eucgvuts`\n",
    "\n",
    "The script `eucgvuts` requires a current version of J. "
   ]
  },
  {
   "cell_type": "code",
   "execution_count": 2,
   "id": "606f05d9",
   "metadata": {},
   "outputs": [
    {
     "name": "stdout",
     "output_type": "stream",
     "text": [
      "NB. (eucgvuts) interface word(s): 20230630j114258\n",
      "NB. --------------------------\n",
      "NB. eucjoycebkdeps  NB. justifications from Joyce book html files\n",
      "NB. eucjoycecncts   NB. format Joyce node connections\n",
      "NB. eucjoycehtml    NB. html from David Joyce's online Elements\n",
      "NB. eucjoycetabs    NB. extract dependency tables from Joyce html\n",
      "NB. eucpropback     NB. generate reverse proposition digraph\n",
      "NB. eucsixbookdeps  NB. justifications from Euclid books I-VI\n",
      "NB. eucsortBgv      NB. second sort and format euclid book digraphs\n",
      "NB. gvclustoff      NB. dot code marked cluster(s) off\n",
      "NB. gvcluston       NB. dot code marked cluster(s) on\n",
      "\n"
     ]
    }
   ],
   "source": [
    "load '~JACKS/eucgvuts/eucgvuts.ijs'"
   ]
  },
  {
   "cell_type": "markdown",
   "id": "b2628214",
   "metadata": {},
   "source": [
    "## Generate graphviz code for first six *Elements* books."
   ]
  },
  {
   "cell_type": "code",
   "execution_count": 3,
   "id": "06b9d475",
   "metadata": {},
   "outputs": [
    {
     "name": "stdout",
     "output_type": "stream",
     "text": [
      "bookI      <dir>     29-Jun-23 14:17:42\n",
      "bookII     <dir>     29-Jun-23 14:17:42\n",
      "bookIII    <dir>     29-Jun-23 14:17:42\n",
      "bookIV     <dir>     29-Jun-23 14:17:42\n",
      "bookIX     <dir>     29-Jun-23 14:17:42\n",
      "bookV      <dir>     29-Jun-23 14:17:42\n",
      "bookVI     <dir>     29-Jun-23 14:17:43\n",
      "bookVII    <dir>     29-Jun-23 14:17:43\n",
      "bookVIII   <dir>     29-Jun-23 14:17:43\n",
      "bookX      <dir>     29-Jun-23 14:17:43\n",
      "bookXI     <dir>     29-Jun-23 14:17:43\n",
      "bookXII    <dir>     29-Jun-23 14:17:43\n",
      "bookXIII   <dir>     29-Jun-23 14:17:43\n"
     ]
    }
   ],
   "source": [
    "NB. requires HTML code in ~temp/elements\n",
    "smoutput dir '~temp/elements/book*'"
   ]
  },
  {
   "cell_type": "code",
   "execution_count": 4,
   "id": "a739f2e5",
   "metadata": {},
   "outputs": [],
   "source": [
    "NB. make graphviz code \n",
    "gv=: eucsixbookdeps 0"
   ]
  },
  {
   "cell_type": "code",
   "execution_count": 5,
   "id": "362f660f",
   "metadata": {},
   "outputs": [],
   "source": [
    "NB. write to J ~temp\n",
    "(toHOST gv) write gf=: jpath '~temp/euclid_digraph_books_1_6.gv'"
   ]
  },
  {
   "cell_type": "code",
   "execution_count": 6,
   "id": "4d00b2cd",
   "metadata": {},
   "outputs": [],
   "source": [
    "NB. generate graphviz digraph - graphviz addon only runs within JQT environment\n",
    "NB. graphview gf"
   ]
  },
  {
   "cell_type": "markdown",
   "id": "e384d21d",
   "metadata": {},
   "source": [
    "## Generate `I.47` dependencies\n",
    "\n",
    "`I.47` is Euclid's vesion of the *Pythagorean Theorem*. "
   ]
  },
  {
   "cell_type": "code",
   "execution_count": 7,
   "id": "de9fe3e8",
   "metadata": {},
   "outputs": [],
   "source": [
    "NB. load books I-VI dependencies\n",
    "path=: jpath '~JACKS/eucgvuts/'\n",
    "gv=. read path,'euclid_digraph_books_1_6_dependencies.gv'"
   ]
  },
  {
   "cell_type": "code",
   "execution_count": 8,
   "id": "5b49fe84",
   "metadata": {},
   "outputs": [],
   "source": [
    "NB. compute I.47 dependencies\n",
    "gt=. 'I.47' eucpropback gv"
   ]
  },
  {
   "cell_type": "code",
   "execution_count": 9,
   "id": "18a0a9ab",
   "metadata": {},
   "outputs": [],
   "source": [
    "NB. write graphviz code\n",
    "gf=. jpath '~temp/euclid_i_47_dependencies.gv'\n",
    "(toHOST gt) write gf"
   ]
  },
  {
   "cell_type": "code",
   "execution_count": 10,
   "id": "8b76e6cc",
   "metadata": {},
   "outputs": [],
   "source": [
    "NB. generate digraph - run in JQT\n",
    "NB. graphview gf"
   ]
  },
  {
   "cell_type": "code",
   "execution_count": 11,
   "id": "07132bde",
   "metadata": {},
   "outputs": [
    {
     "name": "stdout",
     "output_type": "stream",
     "text": [
      "euclid_digraph_books_1_6.gv       38096 30-Jun-23 11:50:04\n",
      "euclid_i_47_dependencies.gv        7884 30-Jun-23 11:50:14\n"
     ]
    }
   ],
   "source": [
    "NB. generated code\n",
    "dir '~temp/*.gv'"
   ]
  }
 ],
 "metadata": {
  "kernelspec": {
   "display_name": "J",
   "language": "J",
   "name": "jkernel"
  },
  "language_info": {
   "file_extension": ".ijs",
   "mimetype": "text/J",
   "name": "J"
  }
 },
 "nbformat": 4,
 "nbformat_minor": 5
}
