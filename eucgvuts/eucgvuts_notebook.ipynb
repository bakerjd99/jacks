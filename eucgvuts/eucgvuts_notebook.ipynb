{
 "cells": [
  {
   "cell_type": "markdown",
   "id": "e81abaaf",
   "metadata": {},
   "source": [
    "# `eucgvuts` Examples\n",
    "\n",
    "This notebook illustrates the [J eucgvuts script](https://github.com/bakerjd99/jacks/blob/master/eucgvuts/eucgvuts.ijs).  `eucgvuts` extracts web links from [HTML code found here](https://mathcs.clarku.edu/~djoyce/elements/) and formats graphviz digraph code.\n",
    "\n",
    "To run this notebook you must install a J jupyter kernel. See Martin Saurer's [GitHub repository](https://github.com/martin-saurer/jkernel) for instructions."
   ]
  },
  {
   "cell_type": "markdown",
   "id": "fac2697f",
   "metadata": {},
   "source": [
    "## Download Files from: https://mathcs.clarku.edu/~djoyce/elements/aboutText.html \n",
    "\n",
    "To simplify and speed up working with many HTML files download the files from David Joyce's online elements to local working directories. On Windows system this can be down with `wget`.  `wget` is distributed with J.\n",
    "\n",
    "Navigate to your working directory and run the following commands in the command prompt or windows terminal.\n",
    "\n",
    "    C:\\>cd \\temp\n",
    "    C:\\j64\\j9.5\\tools\\ftp\\wget --recursive --no-parent --no-check-certificate https://mathcs.clarku.edu/~djoyce/elements/\n",
    "\n",
    "This will download the site preserving directory structure.  After running the command you will have a directory stucture like:\n",
    "\n",
    "    \\---mathcs.clarku.edu\n",
    "        \\---~djoyce\n",
    "            \\---elements\n",
    "                +---bookI\n",
    "                +---bookII\n",
    "                +---bookIII\n",
    "                +---bookIV\n",
    "                +---bookIX\n",
    "                +---bookV\n",
    "                +---bookVI\n",
    "                +---bookVII\n",
    "                +---bookVIII\n",
    "                +---bookX\n",
    "                +---bookXI\n",
    "                +---bookXII\n",
    "                \\---bookXIII\n",
    "               \n",
    "Copy the tree with root `elements` to the `~temp` directory. "
   ]
  },
  {
   "cell_type": "code",
   "execution_count": null,
   "id": "46d3e318",
   "metadata": {},
   "outputs": [],
   "source": []
  }
 ],
 "metadata": {
  "kernelspec": {
   "display_name": "J",
   "language": "J",
   "name": "jkernel"
  },
  "language_info": {
   "file_extension": ".ijs",
   "mimetype": "text/J",
   "name": "J"
  }
 },
 "nbformat": 4,
 "nbformat_minor": 5
}
