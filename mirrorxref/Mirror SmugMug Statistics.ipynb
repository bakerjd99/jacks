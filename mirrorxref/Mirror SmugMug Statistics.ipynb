{
 "cells": [
  {
   "cell_type": "markdown",
   "metadata": {},
   "source": [
    "## Mirror SmugMug Statistics\n",
    "\n",
    "This notebook runs queries against the `sqlite` database `mirror.db` that holds consolidated SmugMug online image metadata.\n",
    "\n",
    "Images are here: [https://conceptcontrol.smugmug.com/](https://conceptcontrol.smugmug.com/)."
   ]
  },
  {
   "cell_type": "code",
   "execution_count": 1,
   "metadata": {
    "scrolled": true
   },
   "outputs": [
    {
     "name": "stdout",
     "output_type": "stream",
     "text": [
      "\n",
      "j903/j64avx2/windows/release-a/commercial/www.jsoftware.com/2021-12-16T15:15:09/clang-13-0-0/SLEEF=1\n",
      "10 Jul 2022 17:10:43\n"
     ]
    }
   ],
   "source": [
    "NB. J version - notebook runtime\n",
    "smoutput 9!:14''\n",
    "smoutput timestamp 6!:0 ''"
   ]
  },
  {
   "cell_type": "markdown",
   "metadata": {},
   "source": [
    "### Load `mirrorstats` script\n",
    "\n",
    "The [`mirrorstats.ijs`](https://github.com/bakerjd99/jacks/blob/master/mirrorxref/mirrorstats.ijs) \n",
    "script must be made available to the J `load` utility.  The [`JOD`](https://analyzethedatanotthedrivel.org/the-jod-page/) `mls` verb does this automatically. \n",
    "\n",
    "Alternatively you can edit the J start up script `~config/startup.ijs` and add lines like:\n",
    "\n",
    "     buildpublic_j_ 0 : 0\n",
    "     mirrorstats  ~temp/mirrorstats.ijs\n",
    "     )"
   ]
  },
  {
   "cell_type": "code",
   "execution_count": 2,
   "metadata": {},
   "outputs": [
    {
     "name": "stdout",
     "output_type": "stream",
     "text": [
      "NB. (mirrorstats) interface word(s): 20220710j165250\n",
      "NB. -------------------------------\n",
      "NB. NotDivisible  NB. albums with image counts that are not divisible by 3 and 5\n",
      "NB. albdist       NB. all mean album distances km from position (x)\n",
      "NB. fsd           NB. fetch sqlite dictionary array\n",
      "NB. fst           NB. fetch sqlite reads table\n",
      "NB. meanalbdist   NB. mean km distance of geotagged album images from (x)\n",
      "\n"
     ]
    }
   ],
   "source": [
    "load 'mirrorstats'"
   ]
  },
  {
   "cell_type": "markdown",
   "metadata": {},
   "source": [
    "### Set `mirror.db` database file location "
   ]
  },
  {
   "cell_type": "code",
   "execution_count": 3,
   "metadata": {},
   "outputs": [
    {
     "name": "stdout",
     "output_type": "stream",
     "text": [
      "c:/SmugMirror/Documents/XrefDb/mirror.db\n"
     ]
    }
   ],
   "source": [
    "NB. set sqlite db file\n",
    "(3 : 0)''\n",
    "ALTMIRRORDBPATH_mirrorstats_=:''\n",
    "if.     IFWIN  do. ALTMIRRORDBPATH_mirrorstats_=:'c:/SmugMirror/Documents/XrefDb/'\n",
    "elseif. IFUNIX do. ALTMIRRORDBPATH_mirrorstats_=:'~/jupyter_notebooks/dbs/'\n",
    "end.\n",
    "if. fexist dbf=: ALTMIRRORDBPATH,MIRRORDB do. dbf else. 'db not set' end.\n",
    ")\n",
    "smoutput dbf"
   ]
  },
  {
   "cell_type": "markdown",
   "metadata": {},
   "source": [
    "### Set homebase coordinates\n",
    "\n",
    "The home coordinates are set in this fashion to avoid embedding location data in code. \n",
    "\n",
    "`homebase.txt` is simple text file with a single line like:\n",
    "~~~\n",
    "    109.375956 33.852775\n",
    "~~~\n",
    "\n",
    "Longitude and Latitude are in decimal degrees and use the sign conventions of Jean Meeus's book [*Astronomical Algorithms*](https://www.amazon.com/Astronomical-Algorithms-Jean-Meeus/dp/0943396611)."
   ]
  },
  {
   "cell_type": "code",
   "execution_count": 4,
   "metadata": {},
   "outputs": [],
   "source": [
    "NB. longitude and latitude of home decimal degrees\n",
    "NB. western longitudes +, northern latitudes +\n",
    "(3 : 0)''\n",
    "if. fexist  ALTMIRRORDBPATH,'homebase.txt' do. \n",
    "  MeeusHomeLonLat_mirrorstats_=: \".read ALTMIRRORDBPATH,'homebase.txt'\n",
    "else.\n",
    "  smoutput 'homebase not set using longitude=0, latitude=0'\n",
    "  MeeusHomeLonLat_mirrorstats_=: 0 0\n",
    "end.\n",
    ")"
   ]
  },
  {
   "cell_type": "markdown",
   "metadata": {},
   "source": [
    "### Set various utils"
   ]
  },
  {
   "cell_type": "code",
   "execution_count": 5,
   "metadata": {},
   "outputs": [],
   "source": [
    "NB. set portable box characters for LaTeX\n",
    "0 0$portchars ''\n",
    "\n",
    "NB. cell clip format\n",
    "ccf=: [ {.\"1 [: \": ]"
   ]
  },
  {
   "cell_type": "markdown",
   "metadata": {},
   "source": [
    "### Load SQLITE data"
   ]
  },
  {
   "cell_type": "code",
   "execution_count": 6,
   "metadata": {},
   "outputs": [],
   "source": [
    "NB. image columns\n",
    "({.\"1 r)=: {:\"1 r=: 'select * from OnlineImage order by UpLoadDate desc' fsd dbf\n",
    "\n",
    "NB. album columns\n",
    "({.\"1 r)=: {:\"1 r=: 'select * from Album order by OnlineImageCount desc' fsd dbf"
   ]
  },
  {
   "cell_type": "markdown",
   "metadata": {},
   "source": [
    "### Total online image count"
   ]
  },
  {
   "cell_type": "code",
   "execution_count": 7,
   "metadata": {},
   "outputs": [
    {
     "name": "stdout",
     "output_type": "stream",
     "text": [
      "+-----------+\n",
      "|OnlineCount|\n",
      "+-----------+\n",
      "|5189       |\n",
      "+-----------+\n"
     ]
    }
   ],
   "source": [
    "'select count(*) as OnlineCount from OnlineImage' fst dbf"
   ]
  },
  {
   "cell_type": "markdown",
   "metadata": {},
   "source": [
    "### Recent album adjustments"
   ]
  },
  {
   "cell_type": "code",
   "execution_count": 8,
   "metadata": {},
   "outputs": [
    {
     "name": "stdout",
     "output_type": "stream",
     "text": [
      "+-------------------------+------------------------------+-------+\n",
      "|2022-07-09T19:46:03+00:00|Idaho Instants                |117.209|\n",
      "|2022-07-09T06:47:18+00:00|Caught My Eye                 |1752.08|\n",
      "|2022-07-07T06:13:09+00:00|Image Hacking                 | 1311.1|\n",
      "|2022-07-06T19:56:14+00:00|North Rim Monument Valley 2022|897.195|\n",
      "|2022-07-06T07:01:31+00:00|Cell Phoning It In            |1312.15|\n",
      "+-------------------------+------------------------------+-------+\n"
     ]
    }
   ],
   "source": [
    "NB. most recently \"updated\" albums\n",
    "r=: 'select ImagesLastUpdated, AlbumName from Album order by LastUpdated desc limit 5' fsd dbf\n",
    "\n",
    "NB. display with album \"centroid\" distance\n",
    "NB. 0 distance means no geotagged images\n",
    "(>&.> {:\"1 r) , < ,. meanalbdist&> ;1{1{ r"
   ]
  },
  {
   "cell_type": "markdown",
   "metadata": {},
   "source": [
    "### Recent image additions"
   ]
  },
  {
   "cell_type": "code",
   "execution_count": 9,
   "metadata": {},
   "outputs": [
    {
     "name": "stdout",
     "output_type": "stream",
     "text": [
      "2022-07-08 - annual ketchum art festival.jpg     \n",
      "2022-07-08 - mali ketchum art craft festival.jpg \n",
      "2022-07-08 - ketchum ore wagon museum.jpg        \n",
      "2022-07-08 - summer sun patio umbrellas.jpg      \n",
      "2022-07-07 - dreaming precariat.jpg              \n",
      "2022-06-23 - old canyon guy.jpg                  \n",
      "2022-06-22 - polygamy porter.jpg                 \n",
      "2022-06-24 - supai tunnel kaibab trail.jpg       \n",
      "2022-06-23 - velvia north rim cliff sunset.jpg   \n",
      "2022-06-25 - me roosevelt point.jpg              \n",
      "2022-06-27 - eratz monument valley watercolor.jpg\n",
      "2022-06-27 - darktable color grade test.jpg      \n",
      "2022-06-27 - monument valley three sisters.jpg   \n",
      "2022-06-26 - me squinting horseshoe bend.jpg     \n",
      "2022-06-25 - view from window top.jpg            \n"
     ]
    }
   ],
   "source": [
    "NB. last 15 images loaded\n",
    ";\"1 ] 15 {. (10 {.&.> RealDate) ,. (<' - ') ,. OnlineImageFile"
   ]
  },
  {
   "cell_type": "markdown",
   "metadata": {},
   "source": [
    "### Album statistics"
   ]
  },
  {
   "cell_type": "code",
   "execution_count": 10,
   "metadata": {},
   "outputs": [
    {
     "name": "stdout",
     "output_type": "stream",
     "text": [
      "Idaho Instants                479\n",
      "The Way We Were               429\n",
      "Cell Phoning It In            347\n",
      "Weekenders                    336\n",
      "Missouri Moments              315\n",
      "California Captures           270\n",
      "My Kids                       196\n",
      "Image Hacking                 169\n",
      "Montana Now and Then          166\n",
      "Panoramas                     161\n"
     ]
    }
   ],
   "source": [
    "NB. 10 largest albumns\n",
    "10 {. (>AlbumName) ,. \": ,. >OnlineImageCount"
   ]
  },
  {
   "cell_type": "code",
   "execution_count": 11,
   "metadata": {},
   "outputs": [
    {
     "name": "stdout",
     "output_type": "stream",
     "text": [
      "sample size:          79\n",
      "minimum:               0\n",
      "maximum:             479\n",
      "1st quartile:         17\n",
      "2nd quartile:         48\n",
      "3rd quartile:        109\n",
      "first mode:           21\n",
      "first antimode:      479\n",
      "mean:            79.5949\n",
      "std devn:        96.5491\n",
      "skewness:         2.2503\n",
      "kurtosis:         8.2612\n"
     ]
    }
   ],
   "source": [
    "NB. album image counts\n",
    "dstat OnlineImageCount"
   ]
  },
  {
   "cell_type": "markdown",
   "metadata": {},
   "source": [
    "### Images per year\n",
    "\n",
    "My image dates are a mixture of EXIF dates and manually assigned dates. The manually assigned dates are rarely accurate and reflect my best guess as to when a picture was taken. Many images do not have dates. They show up in year 0."
   ]
  },
  {
   "cell_type": "code",
   "execution_count": 12,
   "metadata": {},
   "outputs": [
    {
     "name": "stdout",
     "output_type": "stream",
     "text": [
      "2022 240, 2021 163, 2020  98, 2019 446, 2018 294, 2017 227, 2016 298, \n",
      "2015 207, 2014  98, 2013 172, 2012 178, 2011 217, 2010 152, 2009 144, \n",
      "2008 180, 2007 284, 2006 166, 2005 120, 2004 110, 2003  79, 2002 118, \n",
      "2001 135, 2000  33, 1999   6, 1996   1, 1995  19, 1994   8, 1993   8, \n",
      "1992  18, 1991  12, 1990   4, 1989  14, 1988   6, 1987  10, 1986   6, \n",
      "1985   4, 1984   2, 1983  42, 1982   4, 1981  37, 1980  17, 1979  90, \n",
      "1978  27, 1977  10, 1976  20, 1975   8, 1974  22, 1973   4, 1972   5, \n",
      "1971  23, 1970  33, 1969  22, 1968  45, 1967  32, 1966  24, 1965   5, \n",
      "1964  13, 1963   8, 1962  20, 1961   6, 1960   7, 1959  15, 1958  13, \n",
      "1957   7, 1956   6, 1955  11, 1954  10, 1953   4, 1952   7, 1951   3, \n",
      "1950   9, 1949  17, 1948  10, 1947   3, 1946   5, 1945   2, 1944   2, \n",
      "1943   1, 1942   1, 1941   7, 1940   6, 1939   2, 1938   3, 1937   2, \n",
      "1936   5, 1935   4, 1934   3, 1933   1, 1932   1, 1931   4, 1930   1, \n",
      "1929   1, 1928   1, 1927   2, 1925   2, 1924   1, 1920   2, 1919   2, \n",
      "1917   2, 1916   2, 1914   1, 1912   1, 1910   4, 1908   3, 1907   1, \n",
      "1906   2, 1905   3, 1902   2, 1901   1, 1900   1, 1897   1, 1894   1, \n",
      "1888   2, 1880   2, 1870   1, 1864   1,    0 181,                     \n"
     ]
    }
   ],
   "source": [
    "NB. images per year - year 0 means no date\n",
    "70 list ',' ,.~  \": rf=: \\:~ |: yic=: > freq 0 {\"1 rdt=: itYMDhms RealDate"
   ]
  },
  {
   "cell_type": "markdown",
   "metadata": {},
   "source": [
    "Images per year statistics since the year 2000. It was around 2000 that I started saving digital image files."
   ]
  },
  {
   "cell_type": "code",
   "execution_count": 13,
   "metadata": {},
   "outputs": [
    {
     "name": "stdout",
     "output_type": "stream",
     "text": [
      "sample size:          23\n",
      "minimum:              33\n",
      "maximum:             446\n",
      "1st quartile:        118\n",
      "2nd quartile:        166\n",
      "3rd quartile:        227\n",
      "first mode:           98\n",
      "first antimode:      240\n",
      "mean:            180.826\n",
      "std devn:        90.1119\n",
      "skewness:         1.0635\n",
      "kurtosis:         4.4468\n"
     ]
    }
   ],
   "source": [
    "NB. images per year statistics for years after 1999\n",
    "dstat (1 {\"1 rf) #~ 1999 < 0 {\"1 rf"
   ]
  },
  {
   "cell_type": "markdown",
   "metadata": {},
   "source": [
    "### Uploads per year\n",
    "\n",
    "I often upload old images that get counted in prior years. These counts reflect actual database inserts. Note the count of 724 in 2019. I did not insert that many images in 2019. The upload count probably reflects reorganizing existing images. The count of 1531 in 2009 marks the year I transferred my online images to SmugMug."
   ]
  },
  {
   "cell_type": "code",
   "execution_count": 14,
   "metadata": {},
   "outputs": [
    {
     "name": "stdout",
     "output_type": "stream",
     "text": [
      "2022  250, 2021  203, 2020  109, 2019  724, 2018  352, 2017  319, \n",
      "2016  362, 2015  222, 2014  102, 2013  256, 2012  233, 2011  314, \n",
      "2010  212, 2009 1531,                                             \n"
     ]
    }
   ],
   "source": [
    "70 list ',' ,.~  \": uf=: \\:~ |: upc=: > freq 0 {\"1 udt=: itYMDhms UploadDate"
   ]
  },
  {
   "cell_type": "code",
   "execution_count": 15,
   "metadata": {},
   "outputs": [
    {
     "name": "stdout",
     "output_type": "stream",
     "text": [
      "sample size:          12\n",
      "minimum:             102\n",
      "maximum:             362\n",
      "1st quartile:      207.5\n",
      "2nd quartile:      241.5\n",
      "3rd quartile:      316.5\n",
      "first mode:          250\n",
      "first antimode:      250\n",
      "mean:              244.5\n",
      "std devn:        84.2016\n",
      "skewness:        _0.2998\n",
      "kurtosis:         2.2336\n"
     ]
    }
   ],
   "source": [
    "NB. uploads per year statistics - less outliers > 600\n",
    "dstat (1 {\"1 uf) #~ 600 > 1 {\"1 uf"
   ]
  },
  {
   "cell_type": "markdown",
   "metadata": {},
   "source": [
    "### *Flarp* rate\n",
    "\n",
    "The *flarp rate* gives a rough indication of how much image rework and reloading I do. It shows up as a discrepancy between year counts and upload counts. "
   ]
  },
  {
   "cell_type": "code",
   "execution_count": 16,
   "metadata": {},
   "outputs": [
    {
     "name": "stdout",
     "output_type": "stream",
     "text": [
      "2022 2021 2020 2019 2018 2017 2016 2015 2014 2013 2012 2011 2010 2009\n",
      "  10   40   11  278   58   92   64   15    4   84   55   97   60 1387\n"
     ]
    }
   ],
   "source": [
    "smoutput flc=: (0{upc) ,: (1{upc) - 1{(\\:~)&.|: yic #\"1~ (0{yic) e. 0{upc"
   ]
  },
  {
   "cell_type": "markdown",
   "metadata": {},
   "source": [
    "Flarp statistics excluding the first upload year."
   ]
  },
  {
   "cell_type": "code",
   "execution_count": 17,
   "metadata": {},
   "outputs": [
    {
     "name": "stdout",
     "output_type": "stream",
     "text": [
      "sample size:          13\n",
      "minimum:               4\n",
      "maximum:             278\n",
      "1st quartile:         13\n",
      "2nd quartile:         58\n",
      "3rd quartile:         88\n",
      "first mode:           10\n",
      "first antimode:       10\n",
      "mean:            66.7692\n",
      "std devn:        70.9485\n",
      "skewness:         2.1152\n",
      "kurtosis:         7.2521\n"
     ]
    }
   ],
   "source": [
    "dstat }: 1{flc"
   ]
  },
  {
   "cell_type": "markdown",
   "metadata": {},
   "source": [
    "### `NotDivisible` counts\n",
    "\n",
    "`NotDivisible` counts how many images must be added to a gallery so that the total number of gallery images is evenly divisible by 3 and 5. The iPhone SmugMug app displays images in rows of 3 (portrait) or 5 (landscape) and I like completely filled rows. When the total is evenly divisible by 15 = 3 * 5 both portrait and landscape rows are filled."
   ]
  },
  {
   "cell_type": "code",
   "execution_count": 18,
   "metadata": {},
   "outputs": [
    {
     "name": "stdout",
     "output_type": "stream",
     "text": [
      "+-------+-+-+--+--------------------+\n",
      "|[Count]|3|5|15|[Album Name]        |\n",
      "+-------+-+-+--+--------------------+\n",
      "|479    |1|1|1 |Idaho Instants      |\n",
      "+-------+-+-+--+--------------------+\n",
      "|133    |2|2|2 |From Hazel's Albums |\n",
      "+-------+-+-+--+--------------------+\n",
      "|161    |1|4|4 |Panoramas           |\n",
      "+-------+-+-+--+--------------------+\n",
      "|142    |2|3|8 |Caught My Eye       |\n",
      "+-------+-+-+--+--------------------+\n",
      "|7      |2|3|8 |Does Not Fit        |\n",
      "+-------+-+-+--+--------------------+\n",
      "|7      |2|3|8 |Test Patterns       |\n",
      "+-------+-+-+--+--------------------+\n",
      "|7      |2|3|8 |Partial Restorations|\n",
      "+-------+-+-+--+--------------------+\n",
      "|22     |2|3|8 |To Much Information |\n",
      "+-------+-+-+--+--------------------+\n",
      "|7      |2|3|8 |Fake Pixels         |\n",
      "+-------+-+-+--+--------------------+\n"
     ]
    }
   ],
   "source": [
    "10 {. NotDivisible dbf"
   ]
  },
  {
   "cell_type": "markdown",
   "metadata": {},
   "source": [
    "### Color keywords\n",
    "\n",
    "Keywords starting with `0_` are dominant color keys assigned by the Python `SmugPyter` program. "
   ]
  },
  {
   "cell_type": "code",
   "execution_count": 19,
   "metadata": {},
   "outputs": [],
   "source": [
    "NB. keyword columns\n",
    "({.\"1 r)=: {:\"1 r=: 'select * from ImageKeywordXr' fsd dbf"
   ]
  },
  {
   "cell_type": "code",
   "execution_count": 20,
   "metadata": {},
   "outputs": [],
   "source": [
    "topbotk=: 4 : 0\n",
    "NB.topbotk v-- (x) top and bottom (y) keys\n",
    "kf=: ofreq y\n",
    "kf=: (' ' ,. >;0{kf) ,.~ \":>,.;1{kf\n",
    "(x {. kf) ,. |. (-x) {. kf\n",
    ")"
   ]
  },
  {
   "cell_type": "markdown",
   "metadata": {},
   "source": [
    "**Note:** the abundance of neutral, (grey and near grey), colors. Well exposed and color balanced color images tend, on average, to be neutral. This is why photographers use grey cards and color balancing software picks neutrals."
   ]
  },
  {
   "cell_type": "code",
   "execution_count": 21,
   "metadata": {},
   "outputs": [
    {
     "name": "stdout",
     "output_type": "stream",
     "text": [
      "529 0_darkslategrey         1 0_forestgreen         \n",
      "375 0_black                 1 0_aquamarine          \n",
      "265 0_darkolivegreen        1 0_purple              \n",
      "236 0_steelblue             1 0_magenta             \n",
      "234 0_dimgrey               1 0_lightyellow         \n",
      "209 0_darkgrey              1 0_lawngreen           \n",
      "192 0_rosybrown             1 0_lavenderblush       \n",
      "178 0_gainsboro             1 0_indigo              \n",
      "178 0_lightsteelblue        1 0_lightgreen          \n",
      "173 0_lightgrey             1 0_springgreen         \n",
      "172 0_cornflowerblue        1 0_cyan                \n",
      "168 0_grey                  1 0_hotpink             \n",
      "168 0_tan                   1 0_darkmagenta         \n",
      "121 0_silver                1 0_mediumspringgreen   \n",
      "120 0_lavender              1 0_floralwhite         \n",
      " 93 0_lightslategrey        1 0_cornsilk            \n",
      " 91 0_peru                  1 0_mediumorchid        \n",
      " 90 0_sienna                2 0_greenyellow         \n",
      " 82 0_skyblue               2 0_lime                \n",
      " 80 0_saddlebrown           2 0_limegreen           \n"
     ]
    }
   ],
   "source": [
    "NB. top/bottom 20 color keywords\n",
    "ColorKeys=: Keyword #~ ('0_'&-:)@(2&{.)&> Keyword\n",
    "20 topbotk ColorKeys"
   ]
  },
  {
   "cell_type": "markdown",
   "metadata": {},
   "source": [
    "### Print size keywords"
   ]
  },
  {
   "cell_type": "code",
   "execution_count": 22,
   "metadata": {},
   "outputs": [
    {
     "name": "stdout",
     "output_type": "stream",
     "text": [
      "943 4x6       1 2.25x4  \n",
      "908 5x7       1 10x16   \n",
      "550 8x12      1 8x40    \n",
      "305 10x15     1 12x30   \n",
      "274 5x6.7     1 6x24    \n",
      "269 6x8       1 16x24   \n",
      "198 3x4       1 3x3     \n",
      "152 2.5x3.5   1 5x8     \n",
      "136 4x5       1 5.5x14  \n",
      " 93 5x5       1 9x21    \n",
      " 67 6x10      1 4x5.3   \n",
      " 61 3x5       1 2x2.5   \n",
      " 55 8x10      2 10x40   \n",
      " 52 2x3       2 16x20   \n",
      " 28 4x4       2 12x24   \n",
      " 27 10x14     2 6x15    \n",
      " 25 3.5x5     2 10x13   \n",
      " 25 8x8       2 11x28   \n",
      " 15 6x6       2 11x16   \n",
      " 15 5x6       2 9x16    \n"
     ]
    }
   ],
   "source": [
    "NB. top/bottom 20 print size keywords\n",
    "SizeKeys=: ColorKeys -.~ Keyword #~ ({.&> Keyword) e.&> <'0123456789'\n",
    "NB. remove odd keys that do not follow name conventions\n",
    "NssKeys=: <;._1 ' 0z0 0z1'\n",
    "SizeKeys=: SizeKeys -. (<;._1 ' 50th'),NssKeys\n",
    "20 topbotk SizeKeys"
   ]
  },
  {
   "cell_type": "code",
   "execution_count": 23,
   "metadata": {},
   "outputs": [
    {
     "name": "stdout",
     "output_type": "stream",
     "text": [
      "+---+---+\n",
      "|0z0|258|\n",
      "+---+---+\n",
      "|0z1|475|\n",
      "+---+---+\n"
     ]
    }
   ],
   "source": [
    "NB. size keys that indicate not enough pixels or nonstandard aspect ratio\n",
    "NssKeys ,. <\"0 +/\"1 NssKeys =/ Keyword "
   ]
  },
  {
   "cell_type": "markdown",
   "metadata": {},
   "source": [
    "### Descriptive keywords\n",
    "\n",
    "All keywords that are not color or size keys."
   ]
  },
  {
   "cell_type": "code",
   "execution_count": 24,
   "metadata": {
    "scrolled": true
   },
   "outputs": [
    {
     "name": "stdout",
     "output_type": "stream",
     "text": [
      "1316 geotagged                     1 rafting                    \n",
      "1036 usa                           1 prayer                     \n",
      " 546 mali                          1 tooth                      \n",
      " 394 me                            1 saber                      \n",
      " 246 idaho                         1 columns                    \n",
      " 228 park                          1 remnants                   \n",
      " 205 helen                         1 pictographs                \n",
      " 202 iphone                        1 skeleton                   \n",
      " 187 lake                          1 sizes                      \n",
      " 173 river                         1 rafts                      \n",
      " 173 canada                        1 dell                       \n",
      " 168 missouri                      1 large                      \n",
      " 150 jacob                         1 josie                      \n",
      " 143 museum                        1 powers                     \n",
      " 128 ontario                       1 fremont                    \n",
      " 127 montana                       1 knife                      \n",
      " 116 canyon                        1 hazhard                    \n",
      " 114 sculpture                     1 lectern                    \n",
      " 100 evelyn                        1 bride                      \n",
      "  91 trail                         1 bedazzled                  \n"
     ]
    }
   ],
   "source": [
    "DescKeys=: Keyword -. ColorKeys,SizeKeys,NssKeys\n",
    "20 topbotk DescKeys"
   ]
  },
  {
   "cell_type": "markdown",
   "metadata": {},
   "source": [
    "### Panorama statistics\n",
    "\n",
    "I have enjoyed making panoramas for years. I consider any image with an *`aspect ratio >: 2`* a panorama.  Many of my panoramas have nonstandard ratios, i.e. they are not simple `2x1`, `3x1`, `4x1`, `5x1`  ... ratios and consequently do not get assigned a size key. "
   ]
  },
  {
   "cell_type": "code",
   "execution_count": 25,
   "metadata": {},
   "outputs": [
    {
     "name": "stdout",
     "output_type": "stream",
     "text": [
      "1 2 4959\n",
      "2 3  145\n",
      "3 4   62\n",
      "4 5   19\n",
      "5 6    4\n",
      "6 7    0\n"
     ]
    }
   ],
   "source": [
    "NB. rounded image aspect ratios - aspect ratio is always >: 1\n",
    "ratios=: 0.005 round %/\"1 \\:\"1~ OriginalHeight ,. OriginalWidth\n",
    "\n",
    "NB. aspect ratio counts\n",
    "PanAspects=: >: i. >: >. >./ratios\n",
    "smoutput RatioCounts=: ;\"1 (2 <\\ PanAspects) ,. <\"0 }. }: PanAspects histogram2 ratios"
   ]
  },
  {
   "cell_type": "markdown",
   "metadata": {},
   "source": [
    "### Total number of panoramas with *Aspect Ratio >: 2*\n",
    "\n",
    "**Note:** This simple criteria of picking images based on aspect ratio misses some panoramas. Some images I have built from more than one image have standard aspect ratios."
   ]
  },
  {
   "cell_type": "code",
   "execution_count": 26,
   "metadata": {},
   "outputs": [
    {
     "name": "stdout",
     "output_type": "stream",
     "text": [
      "230\n"
     ]
    }
   ],
   "source": [
    "+/pancnts=: }. 2 {\"1 RatioCounts"
   ]
  },
  {
   "cell_type": "markdown",
   "metadata": {},
   "source": [
    "### Online panorama ratios"
   ]
  },
  {
   "cell_type": "code",
   "execution_count": 27,
   "metadata": {},
   "outputs": [
    {
     "name": "stdout",
     "output_type": "stream",
     "text": [
      "2 145 2.79\n",
      "3  62 1.19\n",
      "4  19 0.37\n",
      "5   4 0.08\n",
      "6   0    0\n",
      "---------\n",
      "230 4.43%\n"
     ]
    }
   ],
   "source": [
    "NB. percentage of panoramic images by aspect ratio - last % is overall\n",
    "smoutput panper=: (}. 0 2 {\"1 RatioCounts) ,. 0.01 round 100 * pancnts % #ratios\n",
    "smoutput '-' ,: '%' ,~ \": }. +/panper"
   ]
  },
  {
   "cell_type": "markdown",
   "metadata": {},
   "source": [
    "### Most extreme panoramas *Aspect Ratio >: 5*"
   ]
  },
  {
   "cell_type": "code",
   "execution_count": 28,
   "metadata": {},
   "outputs": [
    {
     "name": "stdout",
     "output_type": "stream",
     "text": [
      "+---------------------------------------+-------------------+-------------------\n",
      "|pyramid lake panorama.jpg              |2021-05-04T09:37:47|0_dodgerblue; 8x40;\n",
      "+---------------------------------------+-------------------+-------------------\n",
      "|adndlbanner01.jpg                      |                   |0_gold; 0z0; adndlb\n",
      "+---------------------------------------+-------------------+-------------------\n",
      "|jodlittlecubebanner.jpg                |                   |0_lightgrey; 0z0; j\n",
      "+---------------------------------------+-------------------+-------------------\n",
      "|alexandra bridge ottawa [407055261].jpg|2007-02-28T14:10:00|0_gainsboro; 0z1; a\n",
      "+---------------------------------------+-------------------+-------------------\n"
     ]
    }
   ],
   "source": [
    "NB. most extreme panoramas, i.e. aspect ratios >: 5\n",
    "80 ccf (OnlineImageFile ,. RealDate ,. Keywords) #~ 5 <: ratios"
   ]
  },
  {
   "cell_type": "markdown",
   "metadata": {},
   "source": [
    "### Recently uploaded panoramas"
   ]
  },
  {
   "cell_type": "code",
   "execution_count": 29,
   "metadata": {},
   "outputs": [
    {
     "name": "stdout",
     "output_type": "stream",
     "text": [
      "+----------------------------+-------------------+------------------------------\n",
      "|me roosevelt point.jpg      |2022-06-25T11:30:06|0_dimgrey; 4x10; arizona; geot\n",
      "+----------------------------+-------------------+------------------------------\n",
      "|view from window top.jpg    |2022-06-25T10:45:01|0_darkslateblue; 10x20; arizon\n",
      "+----------------------------+-------------------+------------------------------\n",
      "|pure point imperial.jpg     |2022-06-25T10:19:27|0_cornflowerblue; 10x25; arizo\n",
      "+----------------------------+-------------------+------------------------------\n",
      "|north rim window diptych.jpg|2022-06-25T13:20:21|0_darkolivegreen; 6x18; diptyc\n",
      "+----------------------------+-------------------+------------------------------\n",
      "|on the way to page.jpg      |2022-06-26T10:39:02|0_skyblue; 8x20; page; the; wa\n",
      "+----------------------------+-------------------+------------------------------\n"
     ]
    }
   ],
   "source": [
    "NB. most recent panoramas\n",
    "80 ccf ,. 5 {. (OnlineImageFile ,. RealDate ,. Keywords) #~ 2 <: ratios"
   ]
  },
  {
   "cell_type": "markdown",
   "metadata": {},
   "source": [
    "### GPS distances"
   ]
  },
  {
   "cell_type": "code",
   "execution_count": 30,
   "metadata": {},
   "outputs": [],
   "source": [
    "NB. distances in km from near to far excluding (0,0) lb\n",
    "NB. convert to Meeus lb convention for (earthdist)\n",
    "plb=: (i. #Longitude) ,. (-Longitude) ,. Latitude\n",
    "plb=: |: plb #~ -.0 0 -:\"1 ] 1 2 {\"1 plb\n",
    "plb=: /:~ (0{plb) ,.~ MeeusHomeLonLat earthdist 1 2{plb"
   ]
  },
  {
   "cell_type": "code",
   "execution_count": 31,
   "metadata": {},
   "outputs": [],
   "source": [
    "NB. format image distance\n",
    "fmdist=: {{;\"1 \":&.> (<\"0 ] 0.01 round 0 {\"1 y) ,. (<' - ') ,. (1 {\"1 y){OnlineImageFile}}"
   ]
  },
  {
   "cell_type": "code",
   "execution_count": 32,
   "metadata": {},
   "outputs": [
    {
     "name": "stdout",
     "output_type": "stream",
     "text": [
      "0.11 - neighborhood intersection park.jpg           \n",
      "0.12 - road end promises.jpg                        \n",
      "0.16 - not so burning bush.jpg                      \n",
      "0.32 - meridian irrigation canal.jpg                \n",
      "0.51 - mashed squirrel roadkill.jpg                 \n",
      "0.57 - school playground map.jpg                    \n",
      "0.64 - more mcmansion construction.jpg              \n",
      "0.64 - new meridian neighborhood.jpg                \n",
      "0.64 - territory drive house construction august.jpg\n",
      "0.64 - territory drive house building.jpg           \n"
     ]
    }
   ],
   "source": [
    "NB. 10 nearest geotagged images km\n",
    "fmdist 10{.plb"
   ]
  },
  {
   "cell_type": "code",
   "execution_count": 33,
   "metadata": {},
   "outputs": [
    {
     "name": "stdout",
     "output_type": "stream",
     "text": [
      "15830.9 - pishi on pishi [47018603].jpg                      \n",
      "15487.7 - air malawi [42502530].jpg                          \n",
      "15477.3 - victoria falls hotel distance marker [36406766].jpg\n",
      "15476.9 - me livingstone statue [19983766].jpg               \n",
      "15476.8 - vic falls train station [51228396].jpg             \n",
      "15476.6 - curio market from balloon [49529252].jpg           \n",
      "15476.3 - mali sprayview hotel [51064919].jpg                \n",
      "15467.2 - me nude kafunta chalet [1157046406].jpg            \n",
      "15467.2 - kafunta lodge veranda [2486888].jpg                \n",
      "15466.7 - me livingstone airport [47004492].jpg              \n"
     ]
    }
   ],
   "source": [
    "NB. 10 furthest geotagged images km\n",
    "fmdist |. _10{.plb"
   ]
  },
  {
   "cell_type": "code",
   "execution_count": 34,
   "metadata": {},
   "outputs": [
    {
     "name": "stdout",
     "output_type": "stream",
     "text": [
      "sample size:        1316\n",
      "minimum:          0.1089\n",
      "maximum:         15830.9\n",
      "1st quartile:    434.064\n",
      "2nd quartile:    904.069\n",
      "3rd quartile:    2252.84\n",
      "first mode:      849.169\n",
      "first antimode:   0.1089\n",
      "mean:            1751.63\n",
      "std devn:        2471.97\n",
      "skewness:         3.2823\n",
      "kurtosis:        15.8789\n"
     ]
    }
   ],
   "source": [
    "NB. image distance statistics\n",
    "dstat 0 {\"1 plb"
   ]
  },
  {
   "cell_type": "code",
   "execution_count": 35,
   "metadata": {},
   "outputs": [],
   "source": [
    "NB. 1s mark panoramas\n",
    "pbits=: (}.PanAspects) <:\"0 1 %/\"1 \\:\"1~ OriginalHeight ,. OriginalWidth\n",
    "\n",
    "NB. panorama image distances\n",
    "gtp=: plb #~ (1 {\"1 plb) e. I. 0{pbits "
   ]
  },
  {
   "cell_type": "code",
   "execution_count": 36,
   "metadata": {},
   "outputs": [
    {
     "name": "stdout",
     "output_type": "stream",
     "text": [
      "0.64 - more mcmansion construction.jpg                \n",
      "0.64 - new meridian neighborhood.jpg                  \n",
      "0.64 - territory drive house construction august.jpg  \n",
      "0.64 - territory drive house building.jpg             \n",
      "3.73 - joplin cemetery collage.jpg                    \n",
      "4.32 - scentsy amphitheater grounds.jpg               \n",
      "8.94 - boise mall panorama.jpg                        \n",
      "13.99 - owyhee sign.jpg                               \n",
      "19.04 - treasure valley inversion bogus basin road.jpg\n",
      "25.5 - boxing day bogus basin.jpg                     \n"
     ]
    }
   ],
   "source": [
    "NB. 10 nearest panoramas\n",
    "fmdist 10 {. gtp"
   ]
  },
  {
   "cell_type": "code",
   "execution_count": 37,
   "metadata": {},
   "outputs": [
    {
     "name": "stdout",
     "output_type": "stream",
     "text": [
      "15440.4 - ndeke hotel sign [37985773].jpg            \n",
      "8447.83 - lab south view 12x4 [5037801].jpg          \n",
      "4629.83 - me spittal pond bermuda [278786543].jpg    \n",
      "4552.7 - waikiki beach diamond head panorama.jpg     \n",
      "4551.05 - honolulu from diamond head panorama.jpg    \n",
      "4550.86 - diamond head caldera interior.jpg          \n",
      "4485.65 - mauna kea sunset summit panorama.jpg       \n",
      "3221.21 - 132 topham terrace orleans white winter.jpg\n",
      "3219.14 - petrie island river [98449654].jpg         \n",
      "3203.8 - alexandra bridge ottawa [407055261].jpg     \n"
     ]
    }
   ],
   "source": [
    "NB. 10 furthest panoramas\n",
    "fmdist |. _10 {. gtp"
   ]
  },
  {
   "cell_type": "code",
   "execution_count": 38,
   "metadata": {},
   "outputs": [
    {
     "name": "stdout",
     "output_type": "stream",
     "text": [
      "sample size:         109\n",
      "minimum:          0.6357\n",
      "maximum:         15440.4\n",
      "1st quartile:    239.321\n",
      "2nd quartile:    541.554\n",
      "3rd quartile:    1256.63\n",
      "first mode:       0.6357\n",
      "first antimode:   3.7257\n",
      "mean:            1209.72\n",
      "std devn:        1939.36\n",
      "skewness:         4.4098\n",
      "kurtosis:        29.4358\n"
     ]
    }
   ],
   "source": [
    "NB. mean panorama distance\n",
    "dstat 0 {\"1 gtp"
   ]
  },
  {
   "cell_type": "code",
   "execution_count": 39,
   "metadata": {},
   "outputs": [],
   "source": [
    "NB. mean album geotagged image distances\n",
    "mad=: albdist 0"
   ]
  },
  {
   "cell_type": "code",
   "execution_count": 40,
   "metadata": {},
   "outputs": [
    {
     "name": "stdout",
     "output_type": "stream",
     "text": [
      "sample size:          61\n",
      "minimum:           4.051\n",
      "maximum:         15482.4\n",
      "1st quartile:    847.156\n",
      "2nd quartile:    1955.79\n",
      "3rd quartile:    3189.11\n",
      "first mode:      930.509\n",
      "first antimode:  930.509\n",
      "mean:            3002.29\n",
      "std devn:        3345.49\n",
      "skewness:         1.9391\n",
      "kurtosis:         6.2261\n"
     ]
    }
   ],
   "source": [
    "NB. album \"centroid\" distance statistics\n",
    "dstat ;0 {\"1 mad"
   ]
  },
  {
   "cell_type": "code",
   "execution_count": 41,
   "metadata": {},
   "outputs": [],
   "source": [
    "NB.format album distances.\n",
    "fmtad=:{{('8.2'&(8!:2) ,. km) ,. ' - ' ,\"1 alb [ 'km alb'=. |: x {. y}}"
   ]
  },
  {
   "cell_type": "code",
   "execution_count": 42,
   "metadata": {},
   "outputs": [
    {
     "name": "stdout",
     "output_type": "stream",
     "text": [
      "    4.05 - Improvised Imaging Devices\n",
      "    8.63 - Camera Tests              \n",
      "  117.21 - Idaho Instants            \n",
      "  305.60 - Anne and Reza Visit       \n",
      "  487.48 - Collages                  \n",
      "  490.53 - Montana Now and Then      \n",
      "  503.38 - Logos Screenshots Covers  \n",
      "  535.33 - North by Northwest        \n",
      "  546.91 - Tetons Yellowstone 2013   \n",
      "  610.78 - From Hazel's Albums       \n"
     ]
    }
   ],
   "source": [
    "NB. 10 nearest albums\n",
    "10 fmtad /:~ mad"
   ]
  },
  {
   "cell_type": "code",
   "execution_count": 43,
   "metadata": {},
   "outputs": [
    {
     "name": "stdout",
     "output_type": "stream",
     "text": [
      "15482.40 - Zambia Eclipse Trip           \n",
      "11660.41 - Iran 1960's                   \n",
      "11272.49 - Ghana 1970's                  \n",
      "11225.88 - ACS School Trips 1960's       \n",
      "10963.97 - Beirut Lebanon 1960's         \n",
      " 8457.47 - South America 1979            \n",
      " 8409.77 - Enewetak Atoll 1980's         \n",
      " 6347.19 - Diving at Bellairs Barbados BW\n",
      " 6346.13 - Barbados Late 1970's          \n",
      " 6046.94 - GPS Extremes                  \n"
     ]
    }
   ],
   "source": [
    "NB. 10 furthest albums\n",
    "10 fmtad \\:~ mad"
   ]
  },
  {
   "cell_type": "markdown",
   "metadata": {},
   "source": [
    "### All done - thanks for playing!"
   ]
  }
 ],
 "metadata": {
  "kernelspec": {
   "display_name": "J",
   "language": "J",
   "name": "jkernel"
  },
  "language_info": {
   "file_extension": ".ijs",
   "mimetype": "text/J",
   "name": "J"
  }
 },
 "nbformat": 4,
 "nbformat_minor": 2
}
