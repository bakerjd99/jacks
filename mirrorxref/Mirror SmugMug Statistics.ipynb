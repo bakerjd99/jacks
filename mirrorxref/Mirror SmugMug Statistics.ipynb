{
 "cells": [
  {
   "cell_type": "markdown",
   "metadata": {},
   "source": [
    "## Mirror SmugMug Statistics\n",
    "\n",
    "This notebook runs queries against the `sqlite` database `mirror.db` that holds consolidated SmugMug online image metadata.\n",
    "\n",
    "Images are here: [https://conceptcontrol.smugmug.com/](https://conceptcontrol.smugmug.com/)."
   ]
  },
  {
   "cell_type": "code",
   "execution_count": 1,
   "metadata": {
    "scrolled": true
   },
   "outputs": [
    {
     "name": "stdout",
     "output_type": "stream",
     "text": [
      "\n",
      "j903/j64avx2/windows/release-a/commercial/www.jsoftware.com/2021-12-16T15:15:09/clang-13-0-0/SLEEF=1\n",
      "14 Jul 2022 10:21:25\n"
     ]
    }
   ],
   "source": [
    "NB. J version - notebook runtime\n",
    "smoutput 9!:14''\n",
    "smoutput timestamp 6!:0 ''"
   ]
  },
  {
   "cell_type": "markdown",
   "metadata": {},
   "source": [
    "### Load `mirrorstats` script\n",
    "\n",
    "The [`mirrorstats.ijs`](https://github.com/bakerjd99/jacks/blob/master/mirrorxref/mirrorstats.ijs) \n",
    "script must be made available to the J `load` utility.  The [`JOD`](https://analyzethedatanotthedrivel.org/the-jod-page/) `mls` verb does this automatically. \n",
    "\n",
    "Alternatively you can edit the J start up script `~config/startup.ijs` and add lines like:\n",
    "\n",
    "     buildpublic_j_ 0 : 0\n",
    "     mirrorstats  ~temp/mirrorstats.ijs\n",
    "     )"
   ]
  },
  {
   "cell_type": "code",
   "execution_count": 2,
   "metadata": {},
   "outputs": [
    {
     "name": "stdout",
     "output_type": "stream",
     "text": [
      "NB. (mirrorstats) interface word(s): 20220712j122126\n",
      "NB. -------------------------------\n",
      "NB. NotDivisible  NB. albums with image counts that are not divisible by 3 and 5\n",
      "NB. albdist       NB. all mean album distances km from position (x)\n",
      "NB. fsd           NB. fetch sqlite dictionary array\n",
      "NB. fst           NB. fetch sqlite reads table\n",
      "NB. meanalbdist   NB. mean km distance of geotagged album images from (x)\n",
      "\n"
     ]
    }
   ],
   "source": [
    "load 'mirrorstats'"
   ]
  },
  {
   "cell_type": "markdown",
   "metadata": {},
   "source": [
    "### Set `mirror.db` database file location \n",
    "\n",
    "**Note:** a test [`mirror.db`](https://github.com/bakerjd99/smugpyter/tree/master/testdata/mirror.zip) is available on GitHub."
   ]
  },
  {
   "cell_type": "code",
   "execution_count": 3,
   "metadata": {},
   "outputs": [
    {
     "name": "stdout",
     "output_type": "stream",
     "text": [
      "c:/SmugMirror/Documents/XrefDb/mirror.db\n"
     ]
    }
   ],
   "source": [
    "NB. set sqlite db file\n",
    "(3 : 0)''\n",
    "ALTMIRRORDBPATH_mirrorstats_=:''\n",
    "if.     IFWIN  do. ALTMIRRORDBPATH_mirrorstats_=:'c:/SmugMirror/Documents/XrefDb/'\n",
    "elseif. IFUNIX do. ALTMIRRORDBPATH_mirrorstats_=:'~/jupyter_notebooks/dbs/'\n",
    "end.\n",
    "if. fexist dbf=: ALTMIRRORDBPATH,MIRRORDB do. dbf else. 'db not set' end.\n",
    ")\n",
    "smoutput dbf"
   ]
  },
  {
   "cell_type": "markdown",
   "metadata": {},
   "source": [
    "### Set various utils"
   ]
  },
  {
   "cell_type": "code",
   "execution_count": 4,
   "metadata": {},
   "outputs": [],
   "source": [
    "NB. set portable box characters for LaTeX\n",
    "0 0$portchars ''\n",
    "\n",
    "NB. cell clip format\n",
    "ccf=: [ {.\"1 [: \": ]"
   ]
  },
  {
   "cell_type": "markdown",
   "metadata": {},
   "source": [
    "### Set homebase coordinates\n",
    "\n",
    "The home coordinates are set in this fashion to avoid embedding location data in code. \n",
    "\n",
    "`homebase.txt` is simple text file with a single line like:\n",
    "\n",
    "    109.375956 -33.852775\n",
    "\n",
    "\n",
    "Longitude and Latitude are in decimal degrees and use the sign conventions of Jean Meeus's book [*Astronomical Algorithms*](https://www.amazon.com/Astronomical-Algorithms-Jean-Meeus/dp/0943396611)."
   ]
  },
  {
   "cell_type": "code",
   "execution_count": 5,
   "metadata": {},
   "outputs": [
    {
     "name": "stdout",
     "output_type": "stream",
     "text": [
      "+---------+--------+\n",
      "|Longitude|Latitude|\n",
      "+---------+--------+\n",
      "|0        |0       |\n",
      "+---------+--------+\n"
     ]
    }
   ],
   "source": [
    "NB. longitude and latitude of home decimal degrees\n",
    "NB. western longitudes +, northern latitudes +\n",
    "(3 : 0)''\n",
    "if. fexist  ALTMIRRORDBPATH,'homebase.txt' do. \n",
    "  MeeusHomeLonLat_mirrorstats_=: _999&\".read ALTMIRRORDBPATH,'homebase.txt'\n",
    "else.\n",
    "  MeeusHomeLonLat_mirrorstats_=: 0 0\n",
    "end.\n",
    ")\n",
    "smoutput (;:'Longitude Latitude') ,: <\"0 MeeusHomeLonLat_mirrorstats_"
   ]
  },
  {
   "cell_type": "markdown",
   "metadata": {},
   "source": [
    "### Load SQLITE data"
   ]
  },
  {
   "cell_type": "code",
   "execution_count": 6,
   "metadata": {},
   "outputs": [],
   "source": [
    "NB. image columns\n",
    "({.\"1 r)=: {:\"1 r=: 'select * from OnlineImage order by UpLoadDate desc' fsd dbf\n",
    "\n",
    "NB. album columns\n",
    "({.\"1 r)=: {:\"1 r=: 'select * from Album order by OnlineImageCount desc' fsd dbf"
   ]
  },
  {
   "cell_type": "markdown",
   "metadata": {},
   "source": [
    "### Total online image count"
   ]
  },
  {
   "cell_type": "code",
   "execution_count": 7,
   "metadata": {},
   "outputs": [
    {
     "name": "stdout",
     "output_type": "stream",
     "text": [
      "+-----------+\n",
      "|OnlineCount|\n",
      "+-----------+\n",
      "|5194       |\n",
      "+-----------+\n"
     ]
    }
   ],
   "source": [
    "'select count(*) as OnlineCount from OnlineImage' fst dbf"
   ]
  },
  {
   "cell_type": "markdown",
   "metadata": {},
   "source": [
    "### Recent album adjustments"
   ]
  },
  {
   "cell_type": "code",
   "execution_count": 8,
   "metadata": {},
   "outputs": [
    {
     "name": "stdout",
     "output_type": "stream",
     "text": [
      "+-------------------------+------------------------------+-------+\n",
      "|2022-07-13T23:25:16+00:00|North Rim Monument Valley 2022|11925.6|\n",
      "|2022-07-13T23:24:15+00:00|Direct Cell Uploads           |      0|\n",
      "|2022-07-13T01:47:26+00:00|Image Hacking                 |10952.1|\n",
      "|2022-07-11T18:55:42+00:00|Grandparents                  |11509.7|\n",
      "|2022-07-11T18:50:59+00:00|From Hazel's Albums           |11551.9|\n",
      "+-------------------------+------------------------------+-------+\n"
     ]
    }
   ],
   "source": [
    "NB. most recently \"updated\" albums\n",
    "r=: 'select ImagesLastUpdated, AlbumName from Album order by LastUpdated desc limit 5' fsd dbf\n",
    "\n",
    "NB. display with album \"centroid\" distance\n",
    "NB. 0 distance means no geotagged images\n",
    "(>&.> {:\"1 r) , < ,. meanalbdist&> ;1{1{ r"
   ]
  },
  {
   "cell_type": "markdown",
   "metadata": {},
   "source": [
    "### Recent image additions"
   ]
  },
  {
   "cell_type": "code",
   "execution_count": 9,
   "metadata": {},
   "outputs": [
    {
     "name": "stdout",
     "output_type": "stream",
     "text": [
      "2022-06-23 - canyon lookout fans.jpg                  \n",
      "2022-03-15 - last mono day.jpg                        \n",
      "1931-05-20 - hazel age 19 may 20 1931.jpg             \n",
      "1959-10-01 - aileen john baker casper wyoming 1959.jpg\n",
      "2022-07-08 - ketchum festival shade beer.jpg          \n",
      "2022-07-08 - annual ketchum art festival.jpg          \n",
      "2022-07-08 - mali ketchum art craft festival.jpg      \n",
      "2022-07-08 - ketchum ore wagon museum.jpg             \n",
      "2022-07-08 - summer sun patio umbrellas.jpg           \n",
      "2022-07-07 - dreaming precariat.jpg                   \n",
      "2022-06-23 - old canyon guy.jpg                       \n",
      "2022-06-22 - polygamy porter.jpg                      \n",
      "2022-06-24 - supai tunnel kaibab trail.jpg            \n",
      "2022-06-23 - velvia north rim cliff sunset.jpg        \n",
      "2022-06-25 - me roosevelt point.jpg                   \n"
     ]
    }
   ],
   "source": [
    "NB. last 15 images loaded\n",
    ";\"1 ] 15 {. (10 {.&.> RealDate) ,. (<' - ') ,. OnlineImageFile"
   ]
  },
  {
   "cell_type": "markdown",
   "metadata": {},
   "source": [
    "### Album statistics"
   ]
  },
  {
   "cell_type": "code",
   "execution_count": 10,
   "metadata": {},
   "outputs": [
    {
     "name": "stdout",
     "output_type": "stream",
     "text": [
      "Idaho Instants                480\n",
      "The Way We Were               429\n",
      "Cell Phoning It In            347\n",
      "Weekenders                    336\n",
      "Missouri Moments              315\n",
      "California Captures           270\n",
      "My Kids                       196\n",
      "Image Hacking                 170\n",
      "Montana Now and Then          166\n",
      "Panoramas                     161\n"
     ]
    }
   ],
   "source": [
    "NB. 10 largest albumns\n",
    "10 {. (>AlbumName) ,. \": ,. >OnlineImageCount"
   ]
  },
  {
   "cell_type": "code",
   "execution_count": 11,
   "metadata": {},
   "outputs": [
    {
     "name": "stdout",
     "output_type": "stream",
     "text": [
      "sample size:          79\n",
      "minimum:               0\n",
      "maximum:             480\n",
      "1st quartile:         17\n",
      "2nd quartile:         48\n",
      "3rd quartile:        109\n",
      "first mode:           21\n",
      "first antimode:      480\n",
      "mean:            79.6709\n",
      "std devn:        96.6227\n",
      "skewness:         2.2503\n",
      "kurtosis:         8.2677\n"
     ]
    }
   ],
   "source": [
    "NB. album image counts\n",
    "dstat OnlineImageCount"
   ]
  },
  {
   "cell_type": "markdown",
   "metadata": {},
   "source": [
    "### Images per year\n",
    "\n",
    "My image dates are a mixture of EXIF dates and manually assigned dates. The manually assigned dates are rarely accurate and reflect my best guess as to when a picture was taken. Many images do not have dates. They show up in year 0."
   ]
  },
  {
   "cell_type": "code",
   "execution_count": 12,
   "metadata": {},
   "outputs": [
    {
     "name": "stdout",
     "output_type": "stream",
     "text": [
      "2022 243, 2021 163, 2020  98, 2019 446, 2018 294, 2017 227, 2016 298, \n",
      "2015 207, 2014  98, 2013 172, 2012 178, 2011 217, 2010 152, 2009 144, \n",
      "2008 180, 2007 284, 2006 166, 2005 120, 2004 110, 2003  79, 2002 118, \n",
      "2001 135, 2000  33, 1999   6, 1996   1, 1995  19, 1994   8, 1993   8, \n",
      "1992  18, 1991  12, 1990   4, 1989  14, 1988   6, 1987  10, 1986   6, \n",
      "1985   4, 1984   2, 1983  42, 1982   4, 1981  37, 1980  17, 1979  90, \n",
      "1978  27, 1977  10, 1976  20, 1975   8, 1974  22, 1973   4, 1972   5, \n",
      "1971  23, 1970  33, 1969  22, 1968  45, 1967  32, 1966  24, 1965   5, \n",
      "1964  13, 1963   8, 1962  20, 1961   6, 1960   7, 1959  16, 1958  13, \n",
      "1957   7, 1956   6, 1955  11, 1954  10, 1953   4, 1952   7, 1951   3, \n",
      "1950   9, 1949  17, 1948  10, 1947   3, 1946   5, 1945   2, 1944   2, \n",
      "1943   1, 1942   1, 1941   7, 1940   6, 1939   2, 1938   3, 1937   2, \n",
      "1936   5, 1935   4, 1934   3, 1933   1, 1932   1, 1931   5, 1930   1, \n",
      "1929   1, 1928   1, 1927   2, 1925   2, 1924   1, 1920   2, 1919   2, \n",
      "1917   2, 1916   2, 1914   1, 1912   1, 1910   4, 1908   3, 1907   1, \n",
      "1906   2, 1905   3, 1902   2, 1901   1, 1900   1, 1897   1, 1894   1, \n",
      "1888   2, 1880   2, 1870   1, 1864   1,    0 181,                     \n"
     ]
    }
   ],
   "source": [
    "NB. images per year - year 0 means no date\n",
    "70 list ',' ,.~  \": rf=: \\:~ |: yic=: > freq 0 {\"1 rdt=: itYMDhms RealDate"
   ]
  },
  {
   "cell_type": "markdown",
   "metadata": {},
   "source": [
    "Images per year statistics since the year 2000. It was around 2000 that I started saving digital image files."
   ]
  },
  {
   "cell_type": "code",
   "execution_count": 13,
   "metadata": {},
   "outputs": [
    {
     "name": "stdout",
     "output_type": "stream",
     "text": [
      "sample size:          23\n",
      "minimum:              33\n",
      "maximum:             446\n",
      "1st quartile:        118\n",
      "2nd quartile:        166\n",
      "3rd quartile:        227\n",
      "first mode:           98\n",
      "first antimode:      243\n",
      "mean:            180.957\n",
      "std devn:        90.2035\n",
      "skewness:         1.0579\n",
      "kurtosis:         4.4244\n"
     ]
    }
   ],
   "source": [
    "NB. images per year statistics for years after 1999\n",
    "dstat (1 {\"1 rf) #~ 1999 < 0 {\"1 rf"
   ]
  },
  {
   "cell_type": "markdown",
   "metadata": {},
   "source": [
    "### Uploads per year\n",
    "\n",
    "I often upload old images that get counted in prior years. These counts reflect actual database inserts. Note the count of 724 in 2019. I did not insert that many images in 2019. The upload count probably reflects reorganizing existing images. The count of 1531 in 2009 marks the year I transferred my online images to SmugMug."
   ]
  },
  {
   "cell_type": "code",
   "execution_count": 14,
   "metadata": {},
   "outputs": [
    {
     "name": "stdout",
     "output_type": "stream",
     "text": [
      "2022  255, 2021  203, 2020  109, 2019  724, 2018  352, 2017  319, \n",
      "2016  362, 2015  222, 2014  102, 2013  256, 2012  233, 2011  314, \n",
      "2010  212, 2009 1531,                                             \n"
     ]
    }
   ],
   "source": [
    "70 list ',' ,.~  \": uf=: \\:~ |: upc=: > freq 0 {\"1 udt=: itYMDhms UploadDate"
   ]
  },
  {
   "cell_type": "code",
   "execution_count": 15,
   "metadata": {},
   "outputs": [
    {
     "name": "stdout",
     "output_type": "stream",
     "text": [
      "sample size:          12\n",
      "minimum:             102\n",
      "maximum:             362\n",
      "1st quartile:      207.5\n",
      "2nd quartile:        244\n",
      "3rd quartile:      316.5\n",
      "first mode:          255\n",
      "first antimode:      255\n",
      "mean:            244.917\n",
      "std devn:        84.2436\n",
      "skewness:        _0.3147\n",
      "kurtosis:         2.2355\n"
     ]
    }
   ],
   "source": [
    "NB. uploads per year statistics - less outliers > 600\n",
    "dstat (1 {\"1 uf) #~ 600 > 1 {\"1 uf"
   ]
  },
  {
   "cell_type": "markdown",
   "metadata": {},
   "source": [
    "### *Flarp* rate\n",
    "\n",
    "The *flarp rate* gives a rough indication of how much image rework and reloading I do. It shows up as a discrepancy between year counts and upload counts. "
   ]
  },
  {
   "cell_type": "code",
   "execution_count": 16,
   "metadata": {},
   "outputs": [
    {
     "name": "stdout",
     "output_type": "stream",
     "text": [
      "2022 2021 2020 2019 2018 2017 2016 2015 2014 2013 2012 2011 2010 2009\n",
      "  12   40   11  278   58   92   64   15    4   84   55   97   60 1387\n"
     ]
    }
   ],
   "source": [
    "smoutput flc=: (0{upc) ,: (1{upc) - 1{(\\:~)&.|: yic #\"1~ (0{yic) e. 0{upc"
   ]
  },
  {
   "cell_type": "markdown",
   "metadata": {},
   "source": [
    "Flarp statistics excluding the first upload year."
   ]
  },
  {
   "cell_type": "code",
   "execution_count": 17,
   "metadata": {},
   "outputs": [
    {
     "name": "stdout",
     "output_type": "stream",
     "text": [
      "sample size:          13\n",
      "minimum:               4\n",
      "maximum:             278\n",
      "1st quartile:       13.5\n",
      "2nd quartile:         58\n",
      "3rd quartile:         88\n",
      "first mode:           12\n",
      "first antimode:       12\n",
      "mean:            66.9231\n",
      "std devn:        70.8172\n",
      "skewness:         2.1248\n",
      "kurtosis:         7.2818\n"
     ]
    }
   ],
   "source": [
    "dstat }: 1{flc"
   ]
  },
  {
   "cell_type": "markdown",
   "metadata": {},
   "source": [
    "### `NotDivisible` counts\n",
    "\n",
    "`NotDivisible` counts how many images must be added to a gallery so that the total number of gallery images is evenly divisible by 3 and 5. The iPhone SmugMug app displays images in rows of 3 (portrait) or 5 (landscape) and I like completely filled rows. When the total is evenly divisible by 15 = 3 * 5 both portrait and landscape rows are filled."
   ]
  },
  {
   "cell_type": "code",
   "execution_count": 18,
   "metadata": {},
   "outputs": [
    {
     "name": "stdout",
     "output_type": "stream",
     "text": [
      "+-------+-+-+--+---------------------+\n",
      "|[Count]|3|5|15|[Album Name]         |\n",
      "+-------+-+-+--+---------------------+\n",
      "|161    |1|4|4 |Panoramas            |\n",
      "+-------+-+-+--+---------------------+\n",
      "|142    |2|3|8 |Caught My Eye        |\n",
      "+-------+-+-+--+---------------------+\n",
      "|7      |2|3|8 |Does Not Fit         |\n",
      "+-------+-+-+--+---------------------+\n",
      "|7      |2|3|8 |Test Patterns        |\n",
      "+-------+-+-+--+---------------------+\n",
      "|7      |2|3|8 |Partial Restorations |\n",
      "+-------+-+-+--+---------------------+\n",
      "|22     |2|3|8 |To Much Information  |\n",
      "+-------+-+-+--+---------------------+\n",
      "|7      |2|3|8 |Fake Pixels          |\n",
      "+-------+-+-+--+---------------------+\n",
      "|64     |2|1|11|Banff and Jasper 2006|\n",
      "+-------+-+-+--+---------------------+\n",
      "|49     |2|1|11|New York 2005        |\n",
      "+-------+-+-+--+---------------------+\n"
     ]
    }
   ],
   "source": [
    "10 {. NotDivisible dbf"
   ]
  },
  {
   "cell_type": "markdown",
   "metadata": {},
   "source": [
    "### Dominant color keywords\n",
    "\n",
    "Keywords starting with `0_` are dominant color keys assigned by the \n",
    "Python [`SmugPyter`](https://github.com/bakerjd99/smugpyter) program. "
   ]
  },
  {
   "cell_type": "code",
   "execution_count": 19,
   "metadata": {},
   "outputs": [],
   "source": [
    "NB. keyword columns\n",
    "({.\"1 r)=: {:\"1 r=: 'select * from ImageKeywordXr' fsd dbf"
   ]
  },
  {
   "cell_type": "code",
   "execution_count": 20,
   "metadata": {},
   "outputs": [],
   "source": [
    "topbotk=: 4 : 0\n",
    "NB.topbotk v-- (x) top and bottom (y) keys\n",
    "kf=: ofreq y\n",
    "kf=: (' ' ,. >;0{kf) ,.~ \":>,.;1{kf\n",
    "(x {. kf) ,. |. (-x) {. kf\n",
    ")"
   ]
  },
  {
   "cell_type": "markdown",
   "metadata": {},
   "source": [
    "**Note:** the abundance of neutral, (grey and near grey), colors. Well exposed color balanced images tend, on average, to be neutral. This is why photographers use grey cards and color balancing software picks neutrals."
   ]
  },
  {
   "cell_type": "code",
   "execution_count": 21,
   "metadata": {},
   "outputs": [
    {
     "name": "stdout",
     "output_type": "stream",
     "text": [
      "529 0_darkslategrey         1 0_forestgreen         \n",
      "375 0_black                 1 0_aquamarine          \n",
      "266 0_darkolivegreen        1 0_purple              \n",
      "236 0_steelblue             1 0_magenta             \n",
      "234 0_dimgrey               1 0_lightyellow         \n",
      "209 0_darkgrey              1 0_lawngreen           \n",
      "193 0_rosybrown             1 0_lavenderblush       \n",
      "178 0_gainsboro             1 0_indigo              \n",
      "178 0_lightsteelblue        1 0_lightgreen          \n",
      "173 0_lightgrey             1 0_springgreen         \n",
      "172 0_cornflowerblue        1 0_cyan                \n",
      "168 0_grey                  1 0_hotpink             \n",
      "168 0_tan                   1 0_darkmagenta         \n",
      "121 0_silver                1 0_mediumspringgreen   \n",
      "120 0_lavender              1 0_floralwhite         \n",
      " 93 0_lightslategrey        1 0_cornsilk            \n",
      " 91 0_peru                  1 0_mediumorchid        \n",
      " 90 0_sienna                2 0_greenyellow         \n",
      " 82 0_skyblue               2 0_lime                \n",
      " 80 0_saddlebrown           2 0_limegreen           \n"
     ]
    }
   ],
   "source": [
    "NB. top/bottom 20 color keywords\n",
    "ColorKeys=: Keyword #~ ('0_'&-:)@(2&{.)&> Keyword\n",
    "20 topbotk ColorKeys"
   ]
  },
  {
   "cell_type": "markdown",
   "metadata": {},
   "source": [
    "### Print size keywords\n",
    "\n",
    "Print size assumes a resolution of 360 DPI (Dot (pixels) per Inch). This is slightly\n",
    "higher than the frequent default of 300 DPI and was chosen because twice\n",
    "the resolution, 720 DPI, is a common setting for fine art prints. Online prints\n",
    "from SmugMug and elsewhere that use the print sizes computed here will render well."
   ]
  },
  {
   "cell_type": "code",
   "execution_count": 22,
   "metadata": {},
   "outputs": [
    {
     "name": "stdout",
     "output_type": "stream",
     "text": [
      "943 4x6       1 2.25x4  \n",
      "911 5x7       1 10x16   \n",
      "551 8x12      1 8x40    \n",
      "305 10x15     1 12x30   \n",
      "274 5x6.7     1 6x24    \n",
      "270 6x8       1 16x24   \n",
      "198 3x4       1 3x3     \n",
      "152 2.5x3.5   1 5x8     \n",
      "136 4x5       1 5.5x14  \n",
      " 93 5x5       1 9x21    \n",
      " 67 6x10      1 4x5.3   \n",
      " 61 3x5       1 2x2.5   \n",
      " 55 8x10      2 10x40   \n",
      " 52 2x3       2 16x20   \n",
      " 28 4x4       2 12x24   \n",
      " 27 10x14     2 6x15    \n",
      " 25 3.5x5     2 10x13   \n",
      " 25 8x8       2 11x28   \n",
      " 15 6x6       2 11x16   \n",
      " 15 5x6       2 9x16    \n"
     ]
    }
   ],
   "source": [
    "NB. top/bottom 20 print size keywords\n",
    "SizeKeys=: ColorKeys -.~ Keyword #~ ({.&> Keyword) e.&> <'0123456789'\n",
    "NB. remove odd keys that do not follow name conventions\n",
    "NssKeys=: <;._1 ' 0z0 0z1'\n",
    "SizeKeys=: SizeKeys -. (<;._1 ' 50th'),NssKeys\n",
    "20 topbotk SizeKeys"
   ]
  },
  {
   "cell_type": "code",
   "execution_count": 23,
   "metadata": {},
   "outputs": [
    {
     "name": "stdout",
     "output_type": "stream",
     "text": [
      "+---+---+\n",
      "|0z0|258|\n",
      "+---+---+\n",
      "|0z1|475|\n",
      "+---+---+\n"
     ]
    }
   ],
   "source": [
    "NB. size keys that indicate not enough pixels or nonstandard aspect ratio\n",
    "NssKeys ,. <\"0 +/\"1 NssKeys =/ Keyword "
   ]
  },
  {
   "cell_type": "markdown",
   "metadata": {},
   "source": [
    "### Descriptive keywords\n",
    "\n",
    "All keywords that are not color or size keys."
   ]
  },
  {
   "cell_type": "code",
   "execution_count": 24,
   "metadata": {
    "scrolled": true
   },
   "outputs": [
    {
     "name": "stdout",
     "output_type": "stream",
     "text": [
      "1317 geotagged                     1 rafting                    \n",
      "1037 usa                           1 prayer                     \n",
      " 546 mali                          1 tooth                      \n",
      " 395 me                            1 saber                      \n",
      " 247 idaho                         1 columns                    \n",
      " 228 park                          1 remnants                   \n",
      " 205 helen                         1 pictographs                \n",
      " 202 iphone                        1 skeleton                   \n",
      " 187 lake                          1 sizes                      \n",
      " 173 river                         1 rafts                      \n",
      " 173 canada                        1 dell                       \n",
      " 168 missouri                      1 large                      \n",
      " 150 jacob                         1 josie                      \n",
      " 143 museum                        1 powers                     \n",
      " 128 ontario                       1 fremont                    \n",
      " 127 montana                       1 knife                      \n",
      " 117 canyon                        1 hazhard                    \n",
      " 114 sculpture                     1 lectern                    \n",
      " 100 evelyn                        1 bride                      \n",
      "  91 trail                         1 bedazzled                  \n"
     ]
    }
   ],
   "source": [
    "DescKeys=: Keyword -. ColorKeys,SizeKeys,NssKeys\n",
    "20 topbotk DescKeys"
   ]
  },
  {
   "cell_type": "markdown",
   "metadata": {},
   "source": [
    "### Panorama statistics\n",
    "\n",
    "I have enjoyed making panoramas for years. I consider any image with an *`aspect ratio >: 2`* a panorama.  Many of my panoramas have nonstandard ratios, i.e. they are not simple `2x1`, `3x1`, `4x1`, `5x1`  ... ratios and consequently do not get assigned a size key. "
   ]
  },
  {
   "cell_type": "code",
   "execution_count": 25,
   "metadata": {},
   "outputs": [
    {
     "name": "stdout",
     "output_type": "stream",
     "text": [
      "1 2 4964\n",
      "2 3  145\n",
      "3 4   62\n",
      "4 5   19\n",
      "5 6    4\n",
      "6 7    0\n"
     ]
    }
   ],
   "source": [
    "NB. rounded image aspect ratios - aspect ratio is always >: 1\n",
    "ratios=: 0.005 round %/\"1 \\:\"1~ OriginalHeight ,. OriginalWidth\n",
    "\n",
    "NB. aspect ratio counts\n",
    "PanAspects=: >: i. >: >. >./ratios\n",
    "smoutput RatioCounts=: ;\"1 (2 <\\ PanAspects) ,. <\"0 }. }: PanAspects histogram2 ratios"
   ]
  },
  {
   "cell_type": "markdown",
   "metadata": {},
   "source": [
    "### Total number of panoramas with *Aspect Ratio >: 2*\n",
    "\n",
    "**Note:** this simple criteria of picking images based on aspect ratio misses some panoramas. Some pictures, built from more than one image, have standard aspect ratios."
   ]
  },
  {
   "cell_type": "code",
   "execution_count": 26,
   "metadata": {},
   "outputs": [
    {
     "name": "stdout",
     "output_type": "stream",
     "text": [
      "230\n"
     ]
    }
   ],
   "source": [
    "+/pancnts=: }. 2 {\"1 RatioCounts"
   ]
  },
  {
   "cell_type": "markdown",
   "metadata": {},
   "source": [
    "### Online panorama ratios"
   ]
  },
  {
   "cell_type": "code",
   "execution_count": 27,
   "metadata": {},
   "outputs": [
    {
     "name": "stdout",
     "output_type": "stream",
     "text": [
      "2 145 2.79\n",
      "3  62 1.19\n",
      "4  19 0.37\n",
      "5   4 0.08\n",
      "6   0    0\n",
      "---------\n",
      "230 4.43%\n"
     ]
    }
   ],
   "source": [
    "NB. percentage of panoramic images by aspect ratio - last % is overall\n",
    "smoutput panper=: (}. 0 2 {\"1 RatioCounts) ,. 0.01 round 100 * pancnts % #ratios\n",
    "smoutput '-' ,: '%' ,~ \": }. +/panper"
   ]
  },
  {
   "cell_type": "markdown",
   "metadata": {},
   "source": [
    "### Most extreme panoramas *Aspect Ratio >: 5*"
   ]
  },
  {
   "cell_type": "code",
   "execution_count": 28,
   "metadata": {},
   "outputs": [
    {
     "name": "stdout",
     "output_type": "stream",
     "text": [
      "+---------------------------------------+-------------------+-------------------\n",
      "|pyramid lake panorama.jpg              |2021-05-04T09:37:47|0_dodgerblue; 8x40;\n",
      "+---------------------------------------+-------------------+-------------------\n",
      "|adndlbanner01.jpg                      |                   |0_gold; 0z0; adndlb\n",
      "+---------------------------------------+-------------------+-------------------\n",
      "|jodlittlecubebanner.jpg                |                   |0_lightgrey; 0z0; j\n",
      "+---------------------------------------+-------------------+-------------------\n",
      "|alexandra bridge ottawa [407055261].jpg|2007-02-28T14:10:00|0_gainsboro; 0z1; a\n",
      "+---------------------------------------+-------------------+-------------------\n"
     ]
    }
   ],
   "source": [
    "NB. most extreme panoramas, i.e. aspect ratios >: 5\n",
    "80 ccf (OnlineImageFile ,. RealDate ,. Keywords) #~ 5 <: ratios"
   ]
  },
  {
   "cell_type": "markdown",
   "metadata": {},
   "source": [
    "### Recently uploaded panoramas"
   ]
  },
  {
   "cell_type": "code",
   "execution_count": 29,
   "metadata": {},
   "outputs": [
    {
     "name": "stdout",
     "output_type": "stream",
     "text": [
      "+----------------------------+-------------------+------------------------------\n",
      "|me roosevelt point.jpg      |2022-06-25T11:30:06|0_dimgrey; 4x10; arizona; geot\n",
      "+----------------------------+-------------------+------------------------------\n",
      "|view from window top.jpg    |2022-06-25T10:45:01|0_darkslateblue; 10x20; arizon\n",
      "+----------------------------+-------------------+------------------------------\n",
      "|pure point imperial.jpg     |2022-06-25T10:19:27|0_cornflowerblue; 10x25; arizo\n",
      "+----------------------------+-------------------+------------------------------\n",
      "|north rim window diptych.jpg|2022-06-25T13:20:21|0_darkolivegreen; 6x18; diptyc\n",
      "+----------------------------+-------------------+------------------------------\n",
      "|on the way to page.jpg      |2022-06-26T10:39:02|0_skyblue; 8x20; page; the; wa\n",
      "+----------------------------+-------------------+------------------------------\n"
     ]
    }
   ],
   "source": [
    "NB. most recent panoramas\n",
    "80 ccf ,. 5 {. (OnlineImageFile ,. RealDate ,. Keywords) #~ 2 <: ratios"
   ]
  },
  {
   "cell_type": "markdown",
   "metadata": {},
   "source": [
    "### GPS distances"
   ]
  },
  {
   "cell_type": "code",
   "execution_count": 30,
   "metadata": {},
   "outputs": [],
   "source": [
    "NB. distances in km from near to far excluding (0,0) lb\n",
    "NB. convert to Meeus lb convention for (earthdist)\n",
    "plb=: (i. #Longitude) ,. (-Longitude) ,. Latitude\n",
    "plb=: |: plb #~ -.0 0 -:\"1 ] 1 2 {\"1 plb\n",
    "plb=: /:~ (0{plb) ,.~ MeeusHomeLonLat earthdist 1 2{plb"
   ]
  },
  {
   "cell_type": "code",
   "execution_count": 31,
   "metadata": {},
   "outputs": [],
   "source": [
    "NB. format image distance\n",
    "fmdist=: {{;\"1 \":&.> (<\"0 ] 0.01 round 0 {\"1 y) ,. (<' - ') ,. (1 {\"1 y){OnlineImageFile}}"
   ]
  },
  {
   "cell_type": "code",
   "execution_count": 32,
   "metadata": {},
   "outputs": [
    {
     "name": "stdout",
     "output_type": "stream",
     "text": [
      "1042.84 - ghana secondary school teacher bungalows 1976.jpg  \n",
      "1042.93 - corn harvest students tamale ghana.jpg             \n",
      "1043.05 - ghana secondary school [12075167].jpg              \n",
      "3446.24 - me livingstone airport [47004492].jpg              \n",
      "3453.59 - mali sprayview hotel [51064919].jpg                \n",
      "3454.27 - curio market from balloon [49529252].jpg           \n",
      "3454.37 - vic falls train station [51228396].jpg             \n",
      "3454.71 - me livingstone statue [19983766].jpg               \n",
      "3454.82 - victoria falls hotel distance marker [36406766].jpg\n",
      "3463.73 - eclipse tour group [2486870].jpg                   \n"
     ]
    }
   ],
   "source": [
    "NB. 10 nearest geotagged images km\n",
    "fmdist 10{.plb"
   ]
  },
  {
   "cell_type": "code",
   "execution_count": 33,
   "metadata": {},
   "outputs": [
    {
     "name": "stdout",
     "output_type": "stream",
     "text": [
      "18358.9 - ruth kwajalein airport sign 1981.jpg           \n",
      "17705.9 - lab south view 12x4 [5037801].jpg              \n",
      "17705.9 - mid pacific marine lab from air [254442016].jpg\n",
      "17705.9 - me next atoll looking south [5088708].jpg      \n",
      "17704.7 - enewetak from air [5561415].jpg                \n",
      "17694.4 - me runit dome [6671846].jpg                    \n",
      "17687.9 - deep diving [7444953].jpg                      \n",
      "16654.9 - me photographing battleship missouri.jpg       \n",
      "16654.8 - nimitz statue missouri battleship.jpg          \n",
      "16654.8 - battleship missouri plaque.jpg                 \n"
     ]
    }
   ],
   "source": [
    "NB. 10 furthest geotagged images km\n",
    "fmdist |. _10{.plb"
   ]
  },
  {
   "cell_type": "code",
   "execution_count": 34,
   "metadata": {},
   "outputs": [
    {
     "name": "stdout",
     "output_type": "stream",
     "text": [
      "sample size:        1317\n",
      "minimum:         1042.84\n",
      "maximum:         18358.9\n",
      "1st quartile:    10058.5\n",
      "2nd quartile:    11759.2\n",
      "3rd quartile:    12094.7\n",
      "first mode:      11909.8\n",
      "first antimode:  1042.84\n",
      "mean:            11235.6\n",
      "std devn:        2033.14\n",
      "skewness:        _0.7066\n",
      "kurtosis:         7.5674\n"
     ]
    }
   ],
   "source": [
    "NB. image distance statistics\n",
    "dstat 0 {\"1 plb"
   ]
  },
  {
   "cell_type": "code",
   "execution_count": 35,
   "metadata": {},
   "outputs": [],
   "source": [
    "NB. 1s mark panoramas\n",
    "pbits=: (}.PanAspects) <:\"0 1 %/\"1 \\:\"1~ OriginalHeight ,. OriginalWidth\n",
    "\n",
    "NB. panorama image distances\n",
    "gtp=: plb #~ (1 {\"1 plb) e. I. 0{pbits "
   ]
  },
  {
   "cell_type": "code",
   "execution_count": 36,
   "metadata": {},
   "outputs": [
    {
     "name": "stdout",
     "output_type": "stream",
     "text": [
      "3549.61 - ndeke hotel sign [37985773].jpg           \n",
      "7656.21 - me spittal pond bermuda [278786543].jpg   \n",
      "8879.8 - 132 topham terrace orleans white winter.jpg\n",
      "8881.84 - petrie island river [98449654].jpg        \n",
      "8897.37 - alexandra bridge ottawa [407055261].jpg   \n",
      "8928.88 - battersea beach dog lake panorama.jpg     \n",
      "8933.55 - kingston from fort henry [2355485].jpg    \n",
      "8934.79 - confederation harbor [12870536].jpg       \n",
      "9429.28 - bed and breakfast view.jpg                \n",
      "9682.96 - artsgarden.jpg                            \n"
     ]
    }
   ],
   "source": [
    "NB. 10 nearest panoramas\n",
    "fmdist 10 {. gtp"
   ]
  },
  {
   "cell_type": "code",
   "execution_count": 37,
   "metadata": {},
   "outputs": [
    {
     "name": "stdout",
     "output_type": "stream",
     "text": [
      "17705.9 - lab south view 12x4 [5037801].jpg         \n",
      "16653.2 - waikiki beach diamond head panorama.jpg   \n",
      "16651.5 - honolulu from diamond head panorama.jpg   \n",
      "16651.3 - diamond head caldera interior.jpg         \n",
      "16564.4 - mauna kea sunset summit panorama.jpg      \n",
      "12657.6 - oregon coast.jpg                          \n",
      "12565 - mali sedi crystal cove park [2208469192].jpg\n",
      "12558.4 - crater lake east rim panorama.jpg         \n",
      "12526.7 - mono lake panorama north overlook.jpg     \n",
      "12518.8 - baja california coast.jpg                 \n"
     ]
    }
   ],
   "source": [
    "NB. 10 furthest panoramas\n",
    "fmdist |. _10 {. gtp"
   ]
  },
  {
   "cell_type": "code",
   "execution_count": 38,
   "metadata": {},
   "outputs": [
    {
     "name": "stdout",
     "output_type": "stream",
     "text": [
      "sample size:         109\n",
      "minimum:         3549.61\n",
      "maximum:         17705.9\n",
      "1st quartile:    11615.9\n",
      "2nd quartile:    11942.2\n",
      "3rd quartile:    12100.9\n",
      "first mode:      12101.2\n",
      "first antimode:  3549.61\n",
      "mean:              11711\n",
      "std devn:        1685.87\n",
      "skewness:        _0.1925\n",
      "kurtosis:         10.201\n"
     ]
    }
   ],
   "source": [
    "NB. mean panorama distance\n",
    "dstat 0 {\"1 gtp"
   ]
  },
  {
   "cell_type": "code",
   "execution_count": 39,
   "metadata": {},
   "outputs": [],
   "source": [
    "NB. mean album geotagged image distances\n",
    "mad=: albdist 0"
   ]
  },
  {
   "cell_type": "code",
   "execution_count": 40,
   "metadata": {},
   "outputs": [
    {
     "name": "stdout",
     "output_type": "stream",
     "text": [
      "sample size:          61\n",
      "minimum:         1042.94\n",
      "maximum:         17794.8\n",
      "1st quartile:    9396.75\n",
      "2nd quartile:    10952.1\n",
      "3rd quartile:    11892.9\n",
      "first mode:      11803.9\n",
      "first antimode:  11803.9\n",
      "mean:            10391.1\n",
      "std devn:        2670.06\n",
      "skewness:        _0.8302\n",
      "kurtosis:         5.6797\n"
     ]
    }
   ],
   "source": [
    "NB. album \"centroid\" distance statistics\n",
    "dstat ;0 {\"1 mad"
   ]
  },
  {
   "cell_type": "code",
   "execution_count": 41,
   "metadata": {},
   "outputs": [],
   "source": [
    "NB.format album distances.\n",
    "fmtad=:{{('8.2'&(8!:2) ,. km) ,. ' - ' ,\"1 alb [ 'km alb'=. |: x {. y}}"
   ]
  },
  {
   "cell_type": "code",
   "execution_count": 42,
   "metadata": {},
   "outputs": [
    {
     "name": "stdout",
     "output_type": "stream",
     "text": [
      " 1042.94 - Ghana 1970's                  \n",
      " 3596.33 - Zambia Eclipse Trip           \n",
      " 4678.38 - ACS School Trips 1960's       \n",
      " 5310.90 - Beirut Lebanon 1960's         \n",
      " 6378.44 - Iran 1960's                   \n",
      " 6735.58 - Barbados Late 1970's          \n",
      " 6736.08 - Diving at Bellairs Barbados BW\n",
      " 6884.68 - South America 1979            \n",
      " 7657.01 - Briefly Bermuda               \n",
      " 8665.71 - New York 2005                 \n"
     ]
    }
   ],
   "source": [
    "NB. 10 nearest albums\n",
    "10 fmtad /:~ mad"
   ]
  },
  {
   "cell_type": "code",
   "execution_count": 43,
   "metadata": {},
   "outputs": [
    {
     "name": "stdout",
     "output_type": "stream",
     "text": [
      "17794.80 - Enewetak Atoll 1980's     \n",
      "16610.10 - Hawaii 2018               \n",
      "12604.47 - 63                        \n",
      "12552.96 - California Captures       \n",
      "12362.69 - Seattle Vancouver 2020    \n",
      "12362.54 - GPS Extremes              \n",
      "12249.74 - Inlaws Outlaws and Friends\n",
      "12218.38 - Along the Yukon River     \n",
      "12129.49 - Logos Screenshots Covers  \n",
      "12104.15 - Improvised Imaging Devices\n"
     ]
    }
   ],
   "source": [
    "NB. 10 furthest albums\n",
    "10 fmtad \\:~ mad"
   ]
  },
  {
   "cell_type": "markdown",
   "metadata": {},
   "source": [
    "### All done - thanks for playing!"
   ]
  }
 ],
 "metadata": {
  "kernelspec": {
   "display_name": "J",
   "language": "J",
   "name": "jkernel"
  },
  "language_info": {
   "file_extension": ".ijs",
   "mimetype": "text/J",
   "name": "J"
  }
 },
 "nbformat": 4,
 "nbformat_minor": 2
}
