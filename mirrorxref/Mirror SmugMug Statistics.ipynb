{
 "cells": [
  {
   "cell_type": "markdown",
   "metadata": {},
   "source": [
    "## Mirror SmugMug Statistics\n",
    "\n",
    "This notebook runs queries against the `sqlite` database `mirror.db` that holds consolidated SmugMug online image metadata.\n",
    "\n",
    "Images are here: [https://conceptcontrol.smugmug.com/](https://conceptcontrol.smugmug.com/)."
   ]
  },
  {
   "cell_type": "code",
   "execution_count": 1,
   "metadata": {
    "scrolled": true
   },
   "outputs": [
    {
     "name": "stdout",
     "output_type": "stream",
     "text": [
      "\n",
      "j903/j64avx2/windows/release-a/commercial/www.jsoftware.com/2021-12-16T15:15:09/clang-13-0-0/SLEEF=1\n",
      "01 Dec 2022 09:47:34\n"
     ]
    }
   ],
   "source": [
    "NB. J version - notebook runtime\n",
    "smoutput 9!:14''\n",
    "smoutput timestamp 6!:0 ''"
   ]
  },
  {
   "cell_type": "markdown",
   "metadata": {},
   "source": [
    "### Load `mirrorstats` script\n",
    "\n",
    "The [`mirrorstats.ijs`](https://github.com/bakerjd99/jacks/blob/master/mirrorxref/mirrorstats.ijs) \n",
    "script must be made available to the J `load` utility.  The [`JOD`](https://analyzethedatanotthedrivel.org/the-jod-page/) `mls` verb does this automatically. \n",
    "\n",
    "Alternatively you can edit the J start up script `~config/startup.ijs` and add lines like:\n",
    "\n",
    "     buildpublic_j_ 0 : 0\n",
    "     mirrorstats  ~temp/mirrorstats.ijs\n",
    "     )"
   ]
  },
  {
   "cell_type": "code",
   "execution_count": 2,
   "metadata": {},
   "outputs": [
    {
     "name": "stdout",
     "output_type": "stream",
     "text": [
      "NB. (mirrorstats) interface word(s): 20221130j114020\n",
      "NB. -------------------------------\n",
      "NB. NotDivisible        NB. albums with image counts that are not divisible by 3 and 5\n",
      "NB. albdist             NB. all mean album distances km from position (x)\n",
      "NB. fsd                 NB. fetch sqlite dictionary array\n",
      "NB. fst                 NB. fetch sqlite reads table\n",
      "NB. gpsextremesgallery  NB. list images with gps extremes\n",
      "NB. meanalbdist         NB. mean km distance of geotagged album images from (x)\n",
      "\n"
     ]
    }
   ],
   "source": [
    "load 'mirrorstats'"
   ]
  },
  {
   "cell_type": "markdown",
   "metadata": {},
   "source": [
    "### Set `mirror.db` database file location \n",
    "\n",
    "**Note:** a test [`mirror.db`](https://github.com/bakerjd99/smugpyter/tree/master/testdata/mirror.zip) is available on GitHub."
   ]
  },
  {
   "cell_type": "code",
   "execution_count": 3,
   "metadata": {},
   "outputs": [
    {
     "name": "stdout",
     "output_type": "stream",
     "text": [
      "c:/SmugMirror/Documents/XrefDb/mirror.db\n"
     ]
    }
   ],
   "source": [
    "NB. set sqlite db file\n",
    "(3 : 0)''\n",
    "ALTMIRRORDBPATH_mirrorstats_=:''\n",
    "if.     IFWIN  do. ALTMIRRORDBPATH_mirrorstats_=:'c:/SmugMirror/Documents/XrefDb/'\n",
    "elseif. IFUNIX do. ALTMIRRORDBPATH_mirrorstats_=:'~/jupyter_notebooks/dbs/'\n",
    "end.\n",
    "if. fexist dbf=: ALTMIRRORDBPATH,MIRRORDB do. dbf else. 'db not set' end.\n",
    ")\n",
    "smoutput dbf"
   ]
  },
  {
   "cell_type": "markdown",
   "metadata": {},
   "source": [
    "### Set various utils"
   ]
  },
  {
   "cell_type": "code",
   "execution_count": 4,
   "metadata": {},
   "outputs": [],
   "source": [
    "NB. set portable box characters for LaTeX\n",
    "0 0$portchars ''\n",
    "\n",
    "NB. cell clip format\n",
    "ccf=: [ {.\"1 [: \": ]"
   ]
  },
  {
   "cell_type": "markdown",
   "metadata": {},
   "source": [
    "### Set homebase coordinates\n",
    "\n",
    "The home coordinates are set in this fashion to avoid embedding location data in code. \n",
    "\n",
    "`homebase.txt` is a simple text file with a single line like:\n",
    "\n",
    "    109.375956 -33.852775\n",
    "\n",
    "\n",
    "Longitude and Latitude are in decimal degrees and use the sign conventions of Jean Meeus's book [*Astronomical Algorithms*](https://www.amazon.com/Astronomical-Algorithms-Jean-Meeus/dp/0943396611)."
   ]
  },
  {
   "cell_type": "code",
   "execution_count": 5,
   "metadata": {},
   "outputs": [
    {
     "name": "stdout",
     "output_type": "stream",
     "text": [
      "+---------+--------+\n",
      "|Longitude|Latitude|\n",
      "+---------+--------+\n",
      "|0        |0       |\n",
      "+---------+--------+\n"
     ]
    }
   ],
   "source": [
    "NB. longitude and latitude of home decimal degrees\n",
    "NB. western longitudes +, northern latitudes +\n",
    "(3 : 0)''\n",
    "if. fexist  ALTMIRRORDBPATH,'homebase.txt' do. \n",
    "  MeeusHomeLonLat_mirrorstats_=: _999&\".read ALTMIRRORDBPATH,'homebase.txt'\n",
    "else.\n",
    "  MeeusHomeLonLat_mirrorstats_=: 0 0\n",
    "end.\n",
    ")\n",
    "smoutput (;:'Longitude Latitude') ,: <\"0 MeeusHomeLonLat_mirrorstats_"
   ]
  },
  {
   "cell_type": "markdown",
   "metadata": {},
   "source": [
    "### Load SQLITE data"
   ]
  },
  {
   "cell_type": "code",
   "execution_count": 6,
   "metadata": {},
   "outputs": [],
   "source": [
    "NB. image columns\n",
    "({.\"1 r)=: {:\"1 r=: 'select * from OnlineImage order by UpLoadDate desc' fsd dbf\n",
    "\n",
    "NB. album columns\n",
    "({.\"1 r)=: {:\"1 r=: 'select * from Album order by OnlineImageCount desc' fsd dbf"
   ]
  },
  {
   "cell_type": "markdown",
   "metadata": {},
   "source": [
    "### Total online image count"
   ]
  },
  {
   "cell_type": "code",
   "execution_count": 7,
   "metadata": {},
   "outputs": [
    {
     "name": "stdout",
     "output_type": "stream",
     "text": [
      "+-----------+\n",
      "|OnlineCount|\n",
      "+-----------+\n",
      "|5468       |\n",
      "+-----------+\n"
     ]
    }
   ],
   "source": [
    "'select count(*) as OnlineCount from OnlineImage' fst dbf"
   ]
  },
  {
   "cell_type": "markdown",
   "metadata": {},
   "source": [
    "### Recent album adjustments"
   ]
  },
  {
   "cell_type": "code",
   "execution_count": 8,
   "metadata": {},
   "outputs": [
    {
     "name": "stdout",
     "output_type": "stream",
     "text": [
      "+-------------------------+--------------------------+-------+\n",
      "|2022-11-30T19:47:07+00:00|GPS Extremes              |  12849|\n",
      "|2022-11-30T17:00:12+00:00|Australia New Zealand 2022|15106.6|\n",
      "|2022-11-30T17:08:07+00:00|Panoramas                 |11817.4|\n",
      "|2022-11-27T20:46:36+00:00|Image Hacking             |  11622|\n",
      "|2022-11-26T21:44:04+00:00|Alpha Layered             |      0|\n",
      "+-------------------------+--------------------------+-------+\n"
     ]
    }
   ],
   "source": [
    "NB. most recently \"updated\" albums\n",
    "r=: 'select ImagesLastUpdated, AlbumName from Album order by LastUpdated desc limit 5' fsd dbf\n",
    "\n",
    "NB. display with album \"centroid\" distance\n",
    "NB. 0 distance means no geotagged images\n",
    "(>&.> {:\"1 r) , < ,. meanalbdist&> ;1{1{ r"
   ]
  },
  {
   "cell_type": "markdown",
   "metadata": {},
   "source": [
    "### Recent image additions"
   ]
  },
  {
   "cell_type": "code",
   "execution_count": 9,
   "metadata": {},
   "outputs": [
    {
     "name": "stdout",
     "output_type": "stream",
     "text": [
      "2022-10-20 - walpa gorge rock trail.jpg               \n",
      "2022-10-20 - kata tjuta morning.jpg                   \n",
      "2022-10-20 - conglomerate tjuta boulder.jpg           \n",
      "2022-10-29 - old cars ship dock.jpg                   \n",
      "2022-10-19 - me uluru sunset.jpg                      \n",
      "2022-11-06 - color pipe dream.jpg                     \n",
      "2022-11-27 - receding.jpg                             \n",
      "2022-11-27 - circle bin chicken saint.png             \n",
      "2022-10-27 - mali christchurch bridge of rembrance.jpg\n",
      "2022-11-06 - bondi beach swim club.jpg                \n",
      "2022-10-31 - victoria albert park auckland.jpg        \n",
      "2022-10-31 - auckland downtown dock.jpg               \n",
      "2022-11-06 - bondi mirror ball.jpg                    \n",
      "2022-10-22 - mali cruise ship opera house.jpg         \n",
      "2022-10-22 - ok quay cruise ship.jpg                  \n"
     ]
    }
   ],
   "source": [
    "NB. last 15 images loaded\n",
    ";\"1 ] 15 {. (10 {.&.> RealDate) ,. (<' - ') ,. OnlineImageFile"
   ]
  },
  {
   "cell_type": "markdown",
   "metadata": {},
   "source": [
    "### Album statistics"
   ]
  },
  {
   "cell_type": "code",
   "execution_count": 10,
   "metadata": {},
   "outputs": [
    {
     "name": "stdout",
     "output_type": "stream",
     "text": [
      "Idaho Instants                487\n",
      "The Way We Were               430\n",
      "Cell Phoning It In            354\n",
      "Weekenders                    336\n",
      "Missouri Moments              315\n",
      "California Captures           303\n",
      "My Kids                       198\n",
      "Australia New Zealand 2022    185\n",
      "Image Hacking                 178\n",
      "Panoramas                     170\n"
     ]
    }
   ],
   "source": [
    "NB. 10 largest albumns\n",
    "10 {. (>AlbumName) ,. \": ,. >OnlineImageCount"
   ]
  },
  {
   "cell_type": "code",
   "execution_count": 11,
   "metadata": {},
   "outputs": [
    {
     "name": "stdout",
     "output_type": "stream",
     "text": [
      "sample size:          85\n",
      "minimum:               0\n",
      "maximum:             487\n",
      "1st quartile:         16\n",
      "2nd quartile:         48\n",
      "3rd quartile:        109\n",
      "first mode:            0\n",
      "first antimode:      487\n",
      "mean:            78.3176\n",
      "std devn:        97.0931\n",
      "skewness:         2.2279\n",
      "kurtosis:         8.2003\n"
     ]
    }
   ],
   "source": [
    "NB. album image counts\n",
    "dstat OnlineImageCount"
   ]
  },
  {
   "cell_type": "markdown",
   "metadata": {},
   "source": [
    "### Images per year\n",
    "\n",
    "My image dates are a mixture of EXIF dates and manually assigned dates. The manually assigned dates are rarely accurate and reflect my best guess as to when a picture was taken. Many images do not have dates. They show up in year 0."
   ]
  },
  {
   "cell_type": "code",
   "execution_count": 12,
   "metadata": {},
   "outputs": [
    {
     "name": "stdout",
     "output_type": "stream",
     "text": [
      "2022 508, 2021 164, 2020  98, 2019 446, 2018 294, 2017 227, 2016 298, \n",
      "2015 207, 2014  98, 2013 172, 2012 178, 2011 217, 2010 152, 2009 144, \n",
      "2008 180, 2007 284, 2006 166, 2005 120, 2004 110, 2003  79, 2002 118, \n",
      "2001 136, 2000  34, 1999   6, 1996   1, 1995  19, 1994   8, 1993   8, \n",
      "1992  18, 1991  13, 1990   4, 1989  14, 1988   6, 1987  10, 1986   6, \n",
      "1985   4, 1984   2, 1983  42, 1982   4, 1981  37, 1980  17, 1979  90, \n",
      "1978  27, 1977  10, 1976  20, 1975   8, 1974  22, 1973   4, 1972   5, \n",
      "1971  23, 1970  33, 1969  22, 1968  45, 1967  32, 1966  24, 1965   5, \n",
      "1964  13, 1963   9, 1962  21, 1961   6, 1960   7, 1959  17, 1958  14, \n",
      "1957   7, 1956   6, 1955  11, 1954  10, 1953   4, 1952   7, 1951   3, \n",
      "1950   9, 1949  18, 1948  10, 1947   3, 1946   5, 1945   2, 1944   2, \n",
      "1943   1, 1942   1, 1941   7, 1940   6, 1939   2, 1938   3, 1937   2, \n",
      "1936   5, 1935   4, 1934   3, 1933   1, 1932   1, 1931   5, 1930   1, \n",
      "1929   1, 1928   1, 1927   2, 1925   2, 1924   1, 1920   2, 1919   2, \n",
      "1917   2, 1916   2, 1914   1, 1912   1, 1910   4, 1908   3, 1907   1, \n",
      "1906   2, 1905   3, 1902   2, 1901   1, 1900   1, 1897   1, 1894   1, \n",
      "1888   2, 1880   2, 1870   1, 1864   1,    0 181,                     \n"
     ]
    }
   ],
   "source": [
    "NB. images per year - year 0 means no date\n",
    "70 list ',' ,.~  \": rf=: \\:~ |: yic=: > freq 0 {\"1 rdt=: itYMDhms RealDate"
   ]
  },
  {
   "cell_type": "code",
   "execution_count": 13,
   "metadata": {},
   "outputs": [],
   "source": [
    "NB. compare current year image count to prior years\n",
    "NB. show no more than 5 greater counts\n",
    "gyc=: rf #~ (1 {\"1 rf) > cyc=: (<0;1){rf\n",
    "(5 <. #gyc) {. gyc ,. (1 {\"1 gyc) - cyc"
   ]
  },
  {
   "cell_type": "markdown",
   "metadata": {},
   "source": [
    "Images per year statistics since the year 2000. It was around 2000 that I started saving digital image files."
   ]
  },
  {
   "cell_type": "code",
   "execution_count": 14,
   "metadata": {},
   "outputs": [
    {
     "name": "stdout",
     "output_type": "stream",
     "text": [
      "sample size:          23\n",
      "minimum:              34\n",
      "maximum:             508\n",
      "1st quartile:        118\n",
      "2nd quartile:        166\n",
      "3rd quartile:        227\n",
      "first mode:           98\n",
      "first antimode:      508\n",
      "mean:            192.609\n",
      "std devn:        112.527\n",
      "skewness:         1.3617\n",
      "kurtosis:         4.5651\n"
     ]
    }
   ],
   "source": [
    "NB. images per year statistics for years after 1999\n",
    "dstat (1 {\"1 rf) #~ 1999 < 0 {\"1 rf"
   ]
  },
  {
   "cell_type": "markdown",
   "metadata": {},
   "source": [
    "### Uploads per year\n",
    "\n",
    "I often upload old images that get counted in prior years. These counts reflect actual database inserts. Note the count of 724 in 2019. I did not insert that many images in 2019. The upload count probably reflects reorganizing existing images. The count of 1531 in 2009 marks the year I transferred my online images to SmugMug."
   ]
  },
  {
   "cell_type": "code",
   "execution_count": 15,
   "metadata": {},
   "outputs": [
    {
     "name": "stdout",
     "output_type": "stream",
     "text": [
      "2022  529, 2021  203, 2020  109, 2019  724, 2018  352, 2017  319, \n",
      "2016  362, 2015  222, 2014  102, 2013  256, 2012  233, 2011  314, \n",
      "2010  212, 2009 1531,                                             \n"
     ]
    }
   ],
   "source": [
    "70 list ',' ,.~  \": uf=: \\:~ |: upc=: > freq 0 {\"1 udt=: itYMDhms UploadDate"
   ]
  },
  {
   "cell_type": "code",
   "execution_count": 16,
   "metadata": {},
   "outputs": [
    {
     "name": "stdout",
     "output_type": "stream",
     "text": [
      "sample size:         12\n",
      "minimum:            102\n",
      "maximum:            529\n",
      "1st quartile:     207.5\n",
      "2nd quartile:     244.5\n",
      "3rd quartile:     335.5\n",
      "first mode:         529\n",
      "first antimode:     529\n",
      "mean:            267.75\n",
      "std devn:        117.71\n",
      "skewness:        0.6032\n",
      "kurtosis:        3.2142\n"
     ]
    }
   ],
   "source": [
    "NB. uploads per year statistics - less outliers > 600\n",
    "dstat (1 {\"1 uf) #~ 600 > 1 {\"1 uf"
   ]
  },
  {
   "cell_type": "markdown",
   "metadata": {},
   "source": [
    "### *Flarp* rate\n",
    "\n",
    "The *flarp rate* gives a rough indication of how much image rework and reloading I do. It shows up as a discrepancy between year counts and upload counts. "
   ]
  },
  {
   "cell_type": "code",
   "execution_count": 17,
   "metadata": {},
   "outputs": [
    {
     "name": "stdout",
     "output_type": "stream",
     "text": [
      "2022 2021 2020 2019 2018 2017 2016 2015 2014 2013 2012 2011 2010 2009\n",
      "  21   39   11  278   58   92   64   15    4   84   55   97   60 1387\n"
     ]
    }
   ],
   "source": [
    "smoutput flc=: (0{upc) ,: (1{upc) - 1{(\\:~)&.|: yic #\"1~ (0{yic) e. 0{upc"
   ]
  },
  {
   "cell_type": "markdown",
   "metadata": {},
   "source": [
    "Flarp statistics excluding the first upload year."
   ]
  },
  {
   "cell_type": "code",
   "execution_count": 18,
   "metadata": {},
   "outputs": [
    {
     "name": "stdout",
     "output_type": "stream",
     "text": [
      "sample size:          13\n",
      "minimum:               4\n",
      "maximum:             278\n",
      "1st quartile:         18\n",
      "2nd quartile:         58\n",
      "3rd quartile:         88\n",
      "first mode:           21\n",
      "first antimode:       21\n",
      "mean:            67.5385\n",
      "std devn:        70.3108\n",
      "skewness:         2.1603\n",
      "kurtosis:         7.3978\n"
     ]
    }
   ],
   "source": [
    "dstat }: 1{flc"
   ]
  },
  {
   "cell_type": "markdown",
   "metadata": {},
   "source": [
    "### `NotDivisible` counts\n",
    "\n",
    "`NotDivisible` counts how many images must be added to a gallery so that the total number of gallery images is evenly divisible by 3 and 5. The iPhone SmugMug app displays images in rows of 3 (portrait) or 5 (landscape) and I like completely filled rows. When the total is evenly divisible by 15 = 3 * 5 both portrait and landscape rows are filled."
   ]
  },
  {
   "cell_type": "code",
   "execution_count": 19,
   "metadata": {},
   "outputs": [
    {
     "name": "stdout",
     "output_type": "stream",
     "text": [
      "+-------+-+-+--+--------------------+\n",
      "|[Count]|3|5|15|[Album Name]        |\n",
      "+-------+-+-+--+--------------------+\n",
      "|148    |2|2|2 |Simply Signs        |\n",
      "+-------+-+-+--+--------------------+\n",
      "|178    |2|2|2 |Image Hacking       |\n",
      "+-------+-+-+--+--------------------+\n",
      "|28     |2|2|2 |Alpha Layered       |\n",
      "+-------+-+-+--+--------------------+\n",
      "|133    |2|2|2 |Been There Done That|\n",
      "+-------+-+-+--+--------------------+\n",
      "|146    |1|4|4 |Caught My Eye       |\n",
      "+-------+-+-+--+--------------------+\n",
      "|7      |2|3|8 |Does Not Fit        |\n",
      "+-------+-+-+--+--------------------+\n",
      "|7      |2|3|8 |Test Patterns       |\n",
      "+-------+-+-+--+--------------------+\n",
      "|7      |2|3|8 |Partial Restorations|\n",
      "+-------+-+-+--+--------------------+\n",
      "|22     |2|3|8 |To Much Information |\n",
      "+-------+-+-+--+--------------------+\n"
     ]
    }
   ],
   "source": [
    "10 {. NotDivisible dbf"
   ]
  },
  {
   "cell_type": "markdown",
   "metadata": {},
   "source": [
    "### Dominant color keywords\n",
    "\n",
    "Keywords starting with `0_` are dominant color keys assigned by the \n",
    "Python [`SmugPyter`](https://github.com/bakerjd99/smugpyter) program. "
   ]
  },
  {
   "cell_type": "code",
   "execution_count": 20,
   "metadata": {},
   "outputs": [],
   "source": [
    "NB. keyword columns\n",
    "({.\"1 r)=: {:\"1 r=: 'select * from ImageKeywordXr' fsd dbf"
   ]
  },
  {
   "cell_type": "code",
   "execution_count": 21,
   "metadata": {},
   "outputs": [],
   "source": [
    "topbotk=: 4 : 0\n",
    "NB.topbotk v-- (x) top and bottom (y) keys\n",
    "kf=: ofreq y\n",
    "kf=: (' ' ,. >;0{kf) ,.~ \":>,.;1{kf\n",
    "(x {. kf) ,. |. (-x) {. kf\n",
    ")"
   ]
  },
  {
   "cell_type": "markdown",
   "metadata": {},
   "source": [
    "**Note:** the abundance of neutral, (grey and near grey), colors. Well exposed color balanced images tend, on average, to be neutral. This is why photographers use grey cards and color balancing software picks neutrals."
   ]
  },
  {
   "cell_type": "code",
   "execution_count": 22,
   "metadata": {},
   "outputs": [
    {
     "name": "stdout",
     "output_type": "stream",
     "text": [
      "542 0_darkslategrey         1 0_forestgreen         \n",
      "382 0_black                 1 0_aquamarine          \n",
      "283 0_darkolivegreen        1 0_purple              \n",
      "250 0_steelblue             1 0_mediumslateblue     \n",
      "238 0_dimgrey               1 0_magenta             \n",
      "216 0_darkgrey              1 0_lightyellow         \n",
      "206 0_rosybrown             1 0_lawngreen           \n",
      "197 0_cornflowerblue        1 0_lavenderblush       \n",
      "189 0_lightsteelblue        1 0_indigo              \n",
      "182 0_gainsboro             1 0_springgreen         \n",
      "182 0_tan                   1 0_cyan                \n",
      "176 0_lightgrey             1 0_darkmagenta         \n",
      "173 0_grey                  1 0_mediumspringgreen   \n",
      "123 0_silver                1 0_floralwhite         \n",
      "120 0_lavender              1 0_cornsilk            \n",
      " 99 0_peru                  1 0_mediumorchid        \n",
      " 96 0_lightslategrey        2 0_greenyellow         \n",
      " 96 0_sienna                2 0_lime                \n",
      " 88 0_saddlebrown           2 0_lightgreen          \n",
      " 88 0_skyblue               2 0_hotpink             \n"
     ]
    }
   ],
   "source": [
    "NB. top/bottom 20 color keywords\n",
    "ColorKeys=: Keyword #~ ('0_'&-:)@(2&{.)&> Keyword\n",
    "20 topbotk ColorKeys"
   ]
  },
  {
   "cell_type": "markdown",
   "metadata": {},
   "source": [
    "### Print size keywords\n",
    "\n",
    "Print size assumes a resolution of 360 DPI (Dot (pixels) per Inch). This is slightly\n",
    "higher than the frequent default of 300 DPI and was chosen because twice\n",
    "the resolution, 720 DPI, is a common setting for fine art prints. Online prints\n",
    "from SmugMug and elsewhere that use the print sizes computed here will render well."
   ]
  },
  {
   "cell_type": "code",
   "execution_count": 23,
   "metadata": {},
   "outputs": [
    {
     "name": "stdout",
     "output_type": "stream",
     "text": [
      "995 5x7       1 2.25x4  \n",
      "951 4x6       1 10x16   \n",
      "575 8x12      1 8x40    \n",
      "347 10x15     1 12x30   \n",
      "298 6x8       1 16x24   \n",
      "274 5x6.7     1 3x3     \n",
      "199 3x4       1 5x8     \n",
      "154 2.5x3.5   1 5.5x14  \n",
      "139 4x5       1 9x21    \n",
      " 94 5x5       1 4x5.3   \n",
      " 67 6x10      1 2x2.5   \n",
      " 63 8x10      2 10x40   \n",
      " 61 3x5       2 16x20   \n",
      " 52 2x3       2 12x24   \n",
      " 41 10x14     2 10x13   \n",
      " 28 4x4       2 11x28   \n",
      " 28 8x8       2 11x16   \n",
      " 25 3.5x5     2 9x16    \n",
      " 18 6x6       2 3.5x3.5 \n",
      " 18 4.5x8     3 6x24    \n"
     ]
    }
   ],
   "source": [
    "NB. top/bottom 20 print size keywords\n",
    "SizeKeys=: ColorKeys -.~ Keyword #~ ({.&> Keyword) e.&> <'0123456789'\n",
    "NB. remove odd keys that do not follow name conventions\n",
    "NssKeys=: <;._1 ' 0z0 0z1'\n",
    "SizeKeys=: SizeKeys -. (<;._1 ' 50th'),NssKeys\n",
    "20 topbotk SizeKeys"
   ]
  },
  {
   "cell_type": "code",
   "execution_count": 24,
   "metadata": {},
   "outputs": [
    {
     "name": "stdout",
     "output_type": "stream",
     "text": [
      "+---+---+\n",
      "|0z0|267|\n",
      "+---+---+\n",
      "|0z1|489|\n",
      "+---+---+\n"
     ]
    }
   ],
   "source": [
    "NB. size keys that indicate not enough pixels or nonstandard aspect ratio\n",
    "NssKeys ,. <\"0 +/\"1 NssKeys =/ Keyword "
   ]
  },
  {
   "cell_type": "markdown",
   "metadata": {},
   "source": [
    "### Descriptive keywords\n",
    "\n",
    "All keywords that are not color or size keys."
   ]
  },
  {
   "cell_type": "code",
   "execution_count": 25,
   "metadata": {
    "scrolled": true
   },
   "outputs": [
    {
     "name": "stdout",
     "output_type": "stream",
     "text": [
      "1456 geotagged                      1 rafting                     \n",
      "1073 usa                            1 prayer                      \n",
      " 570 mali                           1 tooth                       \n",
      " 420 me                             1 saber                       \n",
      " 259 idaho                          1 columns                     \n",
      " 235 park                           1 remnants                    \n",
      " 209 helen                          1 pictographs                 \n",
      " 202 iphone                         1 skeleton                    \n",
      " 188 lake                           1 sizes                       \n",
      " 177 river                          1 rafts                       \n",
      " 173 canada                         1 dell                        \n",
      " 168 missouri                       1 large                       \n",
      " 151 jacob                          1 josie                       \n",
      " 148 museum                         1 powers                      \n",
      " 129 montana                        1 fremont                     \n",
      " 128 ontario                        1 knife                       \n",
      " 118 canyon                         1 hazhard                     \n",
      " 117 sculpture                      1 lectern                     \n",
      " 112 california                     1 bride                       \n",
      " 103 evelyn                         1 bedazzled                   \n"
     ]
    }
   ],
   "source": [
    "DescKeys=: Keyword -. ColorKeys,SizeKeys,NssKeys\n",
    "20 topbotk DescKeys"
   ]
  },
  {
   "cell_type": "markdown",
   "metadata": {},
   "source": [
    "### Panorama statistics\n",
    "\n",
    "I have enjoyed making panoramas for years. I consider any image with an *`aspect ratio >: 2`* a panorama.  Many of my panoramas have nonstandard ratios, i.e. they are not simple `2x1`, `3x1`, `4x1`, `5x1`  ... ratios and consequently do not get assigned a size key. "
   ]
  },
  {
   "cell_type": "code",
   "execution_count": 26,
   "metadata": {},
   "outputs": [
    {
     "name": "stdout",
     "output_type": "stream",
     "text": [
      "1 2 5208\n",
      "2 3  165\n",
      "3 4   66\n",
      "4 5   25\n",
      "5 6    4\n",
      "6 7    0\n"
     ]
    }
   ],
   "source": [
    "NB. rounded image aspect ratios - aspect ratio is always >: 1\n",
    "ratios=: 0.005 round %/\"1 \\:\"1~ OriginalHeight ,. OriginalWidth\n",
    "\n",
    "NB. aspect ratio counts\n",
    "PanAspects=: >: i. >: >. >./ratios\n",
    "smoutput RatioCounts=: ;\"1 (2 <\\ PanAspects) ,. <\"0 }. }: PanAspects histogram2 ratios"
   ]
  },
  {
   "cell_type": "markdown",
   "metadata": {},
   "source": [
    "### Total number of panoramas with *Aspect Ratio >: 2*\n",
    "\n",
    "**Note:** this simple criteria of picking images based on aspect ratio misses some panoramas. Some pictures, built from more than one image, have standard aspect ratios."
   ]
  },
  {
   "cell_type": "code",
   "execution_count": 27,
   "metadata": {},
   "outputs": [
    {
     "name": "stdout",
     "output_type": "stream",
     "text": [
      "260\n"
     ]
    }
   ],
   "source": [
    "+/pancnts=: }. 2 {\"1 RatioCounts"
   ]
  },
  {
   "cell_type": "markdown",
   "metadata": {},
   "source": [
    "### Online panorama ratios"
   ]
  },
  {
   "cell_type": "code",
   "execution_count": 28,
   "metadata": {},
   "outputs": [
    {
     "name": "stdout",
     "output_type": "stream",
     "text": [
      "2 165 3.02\n",
      "3  66 1.21\n",
      "4  25 0.46\n",
      "5   4 0.07\n",
      "6   0    0\n",
      "---------\n",
      "260 4.76%\n"
     ]
    }
   ],
   "source": [
    "NB. percentage of panoramic images by aspect ratio - last % is overall\n",
    "smoutput panper=: (}. 0 2 {\"1 RatioCounts) ,. 0.01 round 100 * pancnts % #ratios\n",
    "smoutput '-' ,: '%' ,~ \": }. +/panper"
   ]
  },
  {
   "cell_type": "markdown",
   "metadata": {},
   "source": [
    "### Most extreme panoramas *Aspect Ratio >: 5*"
   ]
  },
  {
   "cell_type": "code",
   "execution_count": 29,
   "metadata": {},
   "outputs": [
    {
     "name": "stdout",
     "output_type": "stream",
     "text": [
      "+---------------------------------------+-------------------+-------------------\n",
      "|pyramid lake panorama.jpg              |2021-05-04T09:37:47|0_dodgerblue; 8x40;\n",
      "+---------------------------------------+-------------------+-------------------\n",
      "|adndlbanner01.jpg                      |                   |0_gold; 0z0; adndlb\n",
      "+---------------------------------------+-------------------+-------------------\n",
      "|jodlittlecubebanner.jpg                |                   |0_lightgrey; 0z0; j\n",
      "+---------------------------------------+-------------------+-------------------\n",
      "|alexandra bridge ottawa [407055261].jpg|2007-02-28T14:10:00|0_gainsboro; 0z1; a\n",
      "+---------------------------------------+-------------------+-------------------\n"
     ]
    }
   ],
   "source": [
    "NB. most extreme panoramas, i.e. aspect ratios >: 5\n",
    "80 ccf (OnlineImageFile ,. RealDate ,. Keywords) #~ 5 <: ratios"
   ]
  },
  {
   "cell_type": "markdown",
   "metadata": {},
   "source": [
    "### Recently uploaded panoramas"
   ]
  },
  {
   "cell_type": "code",
   "execution_count": 30,
   "metadata": {},
   "outputs": [
    {
     "name": "stdout",
     "output_type": "stream",
     "text": [
      "+-----------------------------------------+-------------------+-----------------\n",
      "|kata tjuta morning.jpg                   |2022-10-20T06:10:49|0_lightgreen; 8x3\n",
      "+-----------------------------------------+-------------------+-----------------\n",
      "|color pipe dream.jpg                     |2022-11-06T12:23:50|0_chocolate; 0z1;\n",
      "+-----------------------------------------+-------------------+-----------------\n",
      "|auckland downtown dock.jpg               |2022-10-31T15:19:05|0_cornflowerblue;\n",
      "+-----------------------------------------+-------------------+-----------------\n",
      "|sydney darling harbor panorama.jpg       |2022-11-03T15:56:30|0_royalblue; 6x24\n",
      "+-----------------------------------------+-------------------+-----------------\n",
      "|canberra national arboretum hill view.jpg|2022-10-15T17:16:55|0_darkgreen; 8x20\n",
      "+-----------------------------------------+-------------------+-----------------\n"
     ]
    }
   ],
   "source": [
    "NB. most recent panoramas\n",
    "80 ccf ,. 5 {. (OnlineImageFile ,. RealDate ,. Keywords) #~ 2 <: ratios"
   ]
  },
  {
   "cell_type": "markdown",
   "metadata": {},
   "source": [
    "### GPS distances"
   ]
  },
  {
   "cell_type": "code",
   "execution_count": 31,
   "metadata": {},
   "outputs": [],
   "source": [
    "NB. distances in km from near to far excluding (0,0) lb\n",
    "NB. convert to Meeus lb convention for (earthdist)\n",
    "plb=: (i. #Longitude) ,. (-Longitude) ,. Latitude\n",
    "plb=: |: plb #~ -.0 0 -:\"1 ] 1 2 {\"1 plb\n",
    "plb=: /:~ (0{plb) ,.~ MeeusHomeLonLat earthdist 1 2{plb"
   ]
  },
  {
   "cell_type": "code",
   "execution_count": 32,
   "metadata": {},
   "outputs": [],
   "source": [
    "NB. format image distance\n",
    "fmdist=: {{;\"1 \":&.> (<\"0 ] 0.01 round 0 {\"1 y) ,. (<' - ') ,. (1 {\"1 y){OnlineImageFile}}"
   ]
  },
  {
   "cell_type": "code",
   "execution_count": 33,
   "metadata": {},
   "outputs": [
    {
     "name": "stdout",
     "output_type": "stream",
     "text": [
      "1042.84 - ghana secondary school teacher bungalows 1976.jpg  \n",
      "1042.93 - corn harvest students tamale ghana.jpg             \n",
      "1043.05 - ghana secondary school [12075167].jpg              \n",
      "3446.24 - me livingstone airport [47004492].jpg              \n",
      "3453.59 - mali sprayview hotel [51064919].jpg                \n",
      "3454.27 - curio market from balloon [49529252].jpg           \n",
      "3454.37 - vic falls train station [51228396].jpg             \n",
      "3454.71 - me livingstone statue [19983766].jpg               \n",
      "3454.82 - victoria falls hotel distance marker [36406766].jpg\n",
      "3463.73 - eclipse tour group [2486870].jpg                   \n"
     ]
    }
   ],
   "source": [
    "NB. 10 nearest geotagged images km\n",
    "fmdist 10{.plb"
   ]
  },
  {
   "cell_type": "code",
   "execution_count": 34,
   "metadata": {},
   "outputs": [
    {
     "name": "stdout",
     "output_type": "stream",
     "text": [
      "18358.9 - ruth kwajalein airport sign 1981.jpg           \n",
      "17705.9 - lab south view 12x4 [5037801].jpg              \n",
      "17705.9 - mid pacific marine lab from air [254442016].jpg\n",
      "17705.9 - me next atoll looking south [5088708].jpg      \n",
      "17704.7 - enewetak from air [5561415].jpg                \n",
      "17694.4 - me runit dome [6671846].jpg                    \n",
      "17687.9 - deep diving [7444953].jpg                      \n",
      "16654.9 - me photographing battleship missouri.jpg       \n",
      "16654.8 - nimitz statue missouri battleship.jpg          \n",
      "16654.8 - battleship missouri plaque.jpg                 \n"
     ]
    }
   ],
   "source": [
    "NB. 10 furthest geotagged images km\n",
    "fmdist |. _10{.plb"
   ]
  },
  {
   "cell_type": "code",
   "execution_count": 35,
   "metadata": {},
   "outputs": [
    {
     "name": "stdout",
     "output_type": "stream",
     "text": [
      "sample size:        1458\n",
      "minimum:         1042.84\n",
      "maximum:         18358.9\n",
      "1st quartile:    10065.9\n",
      "2nd quartile:    11879.8\n",
      "3rd quartile:    12125.1\n",
      "first mode:      11909.8\n",
      "first antimode:  1042.84\n",
      "mean:            11546.2\n",
      "std devn:        2187.21\n",
      "skewness:         _0.511\n",
      "kurtosis:         6.0708\n"
     ]
    }
   ],
   "source": [
    "NB. image distance statistics\n",
    "dstat 0 {\"1 plb"
   ]
  },
  {
   "cell_type": "code",
   "execution_count": 36,
   "metadata": {},
   "outputs": [],
   "source": [
    "NB. 1s mark panoramas\n",
    "pbits=: (}.PanAspects) <:\"0 1 %/\"1 \\:\"1~ OriginalHeight ,. OriginalWidth\n",
    "\n",
    "NB. panorama image distances\n",
    "gtp=: plb #~ (1 {\"1 plb) e. I. 0{pbits "
   ]
  },
  {
   "cell_type": "code",
   "execution_count": 37,
   "metadata": {},
   "outputs": [
    {
     "name": "stdout",
     "output_type": "stream",
     "text": [
      "3549.61 - ndeke hotel sign [37985773].jpg           \n",
      "7656.21 - me spittal pond bermuda [278786543].jpg   \n",
      "8879.8 - 132 topham terrace orleans white winter.jpg\n",
      "8881.84 - petrie island river [98449654].jpg        \n",
      "8897.37 - alexandra bridge ottawa [407055261].jpg   \n",
      "8928.88 - battersea beach dog lake panorama.jpg     \n",
      "8933.55 - kingston from fort henry [2355485].jpg    \n",
      "8934.79 - confederation harbor [12870536].jpg       \n",
      "9429.28 - bed and breakfast view.jpg                \n",
      "9682.96 - artsgarden.jpg                            \n"
     ]
    }
   ],
   "source": [
    "NB. 10 nearest panoramas\n",
    "fmdist 10 {. gtp"
   ]
  },
  {
   "cell_type": "code",
   "execution_count": 38,
   "metadata": {},
   "outputs": [
    {
     "name": "stdout",
     "output_type": "stream",
     "text": [
      "17705.9 - lab south view 12x4 [5037801].jpg      \n",
      "16653.2 - waikiki beach diamond head panorama.jpg\n",
      "16651.5 - honolulu from diamond head panorama.jpg\n",
      "16651.3 - diamond head caldera interior.jpg      \n",
      "16564.4 - mauna kea sunset summit panorama.jpg   \n",
      "16055.1 - ship bridge views.jpg                  \n",
      "15889.9 - auckland downtown dock.jpg             \n",
      "15830.7 - brisbane river story bridge.jpg        \n",
      "15227.9 - first day at sea.jpg                   \n",
      "15212.1 - color pipe dream.jpg                   \n"
     ]
    }
   ],
   "source": [
    "NB. 10 furthest panoramas\n",
    "fmdist |. _10 {. gtp"
   ]
  },
  {
   "cell_type": "code",
   "execution_count": 39,
   "metadata": {},
   "outputs": [
    {
     "name": "stdout",
     "output_type": "stream",
     "text": [
      "sample size:         128\n",
      "minimum:         3549.61\n",
      "maximum:         17705.9\n",
      "1st quartile:    11651.4\n",
      "2nd quartile:    11975.9\n",
      "3rd quartile:    12369.5\n",
      "first mode:      12101.2\n",
      "first antimode:  3549.61\n",
      "mean:            12150.5\n",
      "std devn:        1926.02\n",
      "skewness:        _0.0747\n",
      "kurtosis:          6.216\n"
     ]
    }
   ],
   "source": [
    "NB. mean panorama distance\n",
    "dstat 0 {\"1 gtp"
   ]
  },
  {
   "cell_type": "code",
   "execution_count": 40,
   "metadata": {},
   "outputs": [],
   "source": [
    "NB. mean album geotagged image distances\n",
    "mad=: albdist 0"
   ]
  },
  {
   "cell_type": "code",
   "execution_count": 41,
   "metadata": {},
   "outputs": [
    {
     "name": "stdout",
     "output_type": "stream",
     "text": [
      "sample size:          63\n",
      "minimum:         1042.94\n",
      "maximum:         17794.8\n",
      "1st quartile:    9633.19\n",
      "2nd quartile:    11373.3\n",
      "3rd quartile:    11935.2\n",
      "first mode:      12488.9\n",
      "first antimode:  12488.9\n",
      "mean:              10533\n",
      "std devn:        2719.14\n",
      "skewness:        _0.8158\n",
      "kurtosis:          5.426\n"
     ]
    }
   ],
   "source": [
    "NB. album \"centroid\" distance statistics\n",
    "dstat ;0 {\"1 mad"
   ]
  },
  {
   "cell_type": "code",
   "execution_count": 42,
   "metadata": {},
   "outputs": [],
   "source": [
    "NB.format album distances.\n",
    "fmtad=:{{('8.2'&(8!:2) ,. km) ,. ' - ' ,\"1 alb [ 'km alb'=. |: x {. y}}"
   ]
  },
  {
   "cell_type": "code",
   "execution_count": 43,
   "metadata": {},
   "outputs": [
    {
     "name": "stdout",
     "output_type": "stream",
     "text": [
      " 1042.94 - Ghana 1970's                  \n",
      " 3596.33 - Zambia Eclipse Trip           \n",
      " 4678.38 - ACS School Trips 1960's       \n",
      " 5310.90 - Beirut Lebanon 1960's         \n",
      " 6378.44 - Iran 1960's                   \n",
      " 6735.58 - Barbados Late 1970's          \n",
      " 6736.08 - Diving at Bellairs Barbados BW\n",
      " 6884.68 - South America 1979            \n",
      " 7657.01 - Briefly Bermuda               \n",
      " 8665.71 - New York 2005                 \n"
     ]
    }
   ],
   "source": [
    "NB. 10 nearest albums\n",
    "10 fmtad /:~ mad"
   ]
  },
  {
   "cell_type": "code",
   "execution_count": 44,
   "metadata": {},
   "outputs": [
    {
     "name": "stdout",
     "output_type": "stream",
     "text": [
      "17794.80 - Enewetak Atoll 1980's     \n",
      "16610.10 - Hawaii 2018               \n",
      "15106.57 - Australia New Zealand 2022\n",
      "12848.99 - GPS Extremes              \n",
      "12604.47 - 63                        \n",
      "12597.30 - California Captures       \n",
      "12488.94 - Oregon Ogling             \n",
      "12362.69 - Seattle Vancouver 2020    \n",
      "12249.74 - Inlaws Outlaws and Friends\n",
      "12218.38 - Along the Yukon River     \n"
     ]
    }
   ],
   "source": [
    "NB. 10 furthest albums\n",
    "10 fmtad \\:~ mad"
   ]
  },
  {
   "cell_type": "markdown",
   "metadata": {},
   "source": [
    "### GPS Extremes Gallery\n",
    "\n",
    "A collection of geotagged images that are extreme in the sense of:\n",
    "\n",
    "1. Near and far the (0,0) origin in km\n",
    "2. Highest elevations in meters\n",
    "3. Near and far the equator by latitude\n",
    "4. Near and far the prime meridian by longitude\n",
    "5. Most northern and southern latitudes\n",
    "6. Most eastern and western longitudes\n",
    "\n",
    "**Note:** The altitude data in the SQLite database are all positive numbers. This is usually fine as most images are above sea level but a few rare images are below sea level. Camera metadata indicates this with an above or below sea level flag but this flag is not collected."
   ]
  },
  {
   "cell_type": "code",
   "execution_count": 45,
   "metadata": {},
   "outputs": [
    {
     "name": "stdout",
     "output_type": "stream",
     "text": [
      "30\n",
      " | qbXqVgC | ghana secondary school teacher bungalows 1976.jpg | 9.39475 _0.8176\n",
      " | K7JKbs8 | corn harvest students tamale ghana.jpg | 9.39566 _0.816272 0 | 1049\n",
      " | kNRs3X8 | ghana secondary school [12075167].jpg | 9.39672 _0.816726 0 | 1049.\n",
      " | vSNN8DC | me livingstone airport [47004492].jpg | _17.8228 25.8186 0 | 3439.0\n",
      " | mBXdmNg | me hampton court 1968 [992782789].jpg | 51.4038 _0.339633 0 | 5722.\n",
      " | 6fzX7cV | me ruth miraflores locks panama 1979.jpg | 8.99543 _79.5899 0 | 885\n",
      " | Nmc5SNX | me mali mount evans sign.jpg | 39.5877 _105.642 4313 | 11341.7     \n",
      " | 56MR5dM | mount evans western panorama.jpg | 39.5883 _105.644 4358 | 11341.8 \n",
      " | QBMjK2B | dawson yukon street panorama 2002.jpg | 64.0601 _139.435 0 | 12174.\n",
      " | dRXXhPb | yukon at dawson at dusk [163426977].jpg | 64.0561 _139.441 0 | 1217\n",
      " | 8gvcsMV | tied canoes [3559560].jpg | 62.8281 _138.507 0 | 12240.3           \n",
      " | 8bHbZBX | me yukon river sunset canada [124957718].jpg | 62.8277 _138.512 0 |\n",
      " | WCSbvvR | mali larnach castle.jpg | _45.8622 170.627 0 | 14849.6             \n",
      " | FSVf7nw | mali me tower view collage.jpg | _45.8616 170.627 314 | 14849.6    \n",
      " | kFGTqNw | larnach family photograph.jpg | _45.8617 170.627 291 | 14849.7     \n",
      " | mnh9FHw | nesting blue penquin.jpg | _45.7913 170.739 11 | 14859.2           \n",
      " | t3qSQCC | me napier park.jpg | _39.4917 176.92 6 | 15630.1                   \n",
      " | k5SDLrZ | new napier cathedral.jpg | _39.4887 176.918 8 | 15630.4            \n",
      " | MjSgZfd | napier port.jpg | _39.4759 176.921 5 | 15631.8                     \n",
      " | FWpWKSt | taurangu mall.jpg | _37.6744 176.224 12 | 15825.6                  \n",
      " | dqBvqq9 | mauna kea sunset summit panorama.jpg | 19.8228 _155.47 4209 | 16561\n",
      " | gWVLPBM | me mauna kea summit sunset.jpg | 19.824 _155.477 4088 | 16562      \n",
      " | 5pmBrPs | battleship missouri brass deck plaque.jpg | 21.3622 _157.953 10 | 1\n",
      " | s2kmCmT | battleship missouri plaque.jpg | 21.3623 _157.953 5 | 16654.3      \n",
      " | 2NM8RVD | nimitz statue missouri battleship.jpg | 21.3626 _157.954 0 | 16654.\n",
      " | WtpZgQQ | me photographing battleship missouri.jpg | 21.3615 _157.954 6 | 166\n",
      " | TRNFWpg | me next atoll looking south [5088708].jpg | 11.3634 162.35 0 | 1769\n",
      " | F5qPp7d | mid pacific marine lab from air [254442016].jpg | 11.3584 162.347 0\n",
      " | 6RS9q6W | lab south view 12x4 [5037801].jpg | 11.3582 162.347 0 | 17698      \n",
      " | 4vRnG6S | ruth kwajalein airport sign 1981.jpg | 8.72705 167.741 0 | 18351.4 \n"
     ]
    }
   ],
   "source": [
    "NB. GPS extremes \n",
    "smoutput #gx=: gpsextremesgallery dbf\n",
    "80 ccf ;\"1 (' | '&,)@\":&.> gx"
   ]
  },
  {
   "cell_type": "markdown",
   "metadata": {},
   "source": [
    "### Geotagged Image Waypoints GPX\n",
    "\n",
    "Compute GPX file for geotagged images. This file can be used to set waypoints in various GPS devices."
   ]
  },
  {
   "cell_type": "code",
   "execution_count": 46,
   "metadata": {},
   "outputs": [
    {
     "name": "stdout",
     "output_type": "stream",
     "text": [
      "NB. (gpxutils) interface word(s): 20220916j141736\n",
      "NB. -----------------------------\n",
      "NB. allrecent    NB. all recent images from last waypoint generation\n",
      "NB. csvfrwpt     NB. poi CSV text from waypoint text file\n",
      "NB. gpxfrmapkml  NB. gpx from Google maps kml\n",
      "NB. gpxfrmirror  NB. extracts geotagged images from mirror_db and generates gpx\n",
      "NB. gpxfrpoicsv  NB. converts poi csv files to gpx\n",
      "NB. gpxfrrecent  NB. gpx from recent waypoints\n",
      "\n"
     ]
    }
   ],
   "source": [
    "load 'gpxutils'"
   ]
  },
  {
   "cell_type": "code",
   "execution_count": 47,
   "metadata": {},
   "outputs": [
    {
     "name": "stdout",
     "output_type": "stream",
     "text": [
      "c:/users/baker/jupyter_notebooks/dbs/geotagged_images.gpx\n"
     ]
    }
   ],
   "source": [
    "NB. waypoints gpx\n",
    "gpx=: gpxfrmirror dbf\n",
    "\n",
    "NB. save in working directory - requires configured J folder\n",
    "smoutput gpxfile=: jpath '~JUPYTER/dbs/geotagged_images.gpx'\n",
    "(toHOST gpx) write gpxfile"
   ]
  },
  {
   "cell_type": "markdown",
   "metadata": {},
   "source": [
    "### All done - thanks for playing!"
   ]
  }
 ],
 "metadata": {
  "kernelspec": {
   "display_name": "J",
   "language": "J",
   "name": "jkernel"
  },
  "language_info": {
   "file_extension": ".ijs",
   "mimetype": "text/J",
   "name": "J"
  }
 },
 "nbformat": 4,
 "nbformat_minor": 2
}
