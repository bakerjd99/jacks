{
 "cells": [
  {
   "cell_type": "markdown",
   "metadata": {},
   "source": [
    "# Wildfire Plot"
   ]
  },
  {
   "cell_type": "markdown",
   "metadata": {},
   "source": [
    "The code in this notebook was adapted from:\n",
    "\n",
    "[https://www.machinelearningplus.com/plots/top-50-matplotlib-visualizations-the-master-plots-python/#41.-Plotting-with-different-scales-using-secondary-Y-axis](https://www.machinelearningplus.com/plots/top-50-matplotlib-visualizations-the-master-plots-python/#41.-Plotting-with-different-scales-using-secondary-Y-axis)"
   ]
  },
  {
   "cell_type": "code",
   "execution_count": null,
   "metadata": {},
   "outputs": [],
   "source": [
    "import pandas as pd\n",
    "import numpy as np\n",
    "import csv\n",
    "import matplotlib.pyplot as plt"
   ]
  },
  {
   "cell_type": "markdown",
   "metadata": {},
   "source": [
    "Download https://github.com/bakerjd99/jacks/blob/master/notebooks/NationalFireData.txt \n",
    "\n",
    "It seems `read_csv` does not skip leading rows when pulling directly from an URL."
   ]
  },
  {
   "cell_type": "code",
   "execution_count": null,
   "metadata": {},
   "outputs": [],
   "source": [
    "# import data - skipping header preamble\n",
    "df = pd.read_csv(\"c:/temp/NationalFireData.txt\", delimiter=\"\\t\", skiprows=13)"
   ]
  },
  {
   "cell_type": "code",
   "execution_count": null,
   "metadata": {},
   "outputs": [],
   "source": [
    "x = df['Year']\n",
    "y1 = df['Acres'] / 1000 # 1000's of acres\n",
    "y2 = df['Fires'] "
   ]
  },
  {
   "cell_type": "code",
   "execution_count": null,
   "metadata": {},
   "outputs": [],
   "source": [
    "# Plot Line1 (Left Y Axis)\n",
    "fig, ax1 = plt.subplots(1,1,figsize=(16,9), dpi= 80)\n",
    "ax1.plot(x, y1, color='tab:red')\n",
    "\n",
    "# Plot Line2 (Right Y Axis)\n",
    "ax2 = ax1.twinx()  # instantiate a second axes that shares the same x-axis\n",
    "ax2.plot(x, y2, color='tab:blue')\n",
    "\n",
    "# Decorations\n",
    "# ax1_2 (left Y axis)\n",
    "ax1.set_xlabel('Year', fontsize=20)\n",
    "ax1.tick_params(axis='x', rotation=0, labelsize=12)\n",
    "ax1.set_ylabel('Acres Burned', color='tab:red', fontsize=20)\n",
    "ax1.tick_params(axis='y', rotation=0, labelcolor='tab:red' )\n",
    "ax1.grid(alpha=.4)\n",
    "\n",
    "# ax2 (right Y axis)\n",
    "ax2.set_ylabel(\"Number of Fires\", color='tab:blue', fontsize=20)\n",
    "ax2.tick_params(axis='y', labelcolor='tab:blue')\n",
    "#ax2.set_xticks(np.arange(0, len(x), 60))\n",
    "#ax2.set_xticklabels(x[::60], rotation=90, fontdict={'fontsize':10})\n",
    "ax2.set_title(\"Wildfire Acres Burned (1000's), Number of Files (1926-2019)\", fontsize=22)\n",
    "fig.tight_layout()\n",
    "plt.show()"
   ]
  }
 ],
 "metadata": {
  "kernelspec": {
   "display_name": "Python 3",
   "language": "python",
   "name": "python3"
  },
  "language_info": {
   "codemirror_mode": {
    "name": "ipython",
    "version": 3
   },
   "file_extension": ".py",
   "mimetype": "text/x-python",
   "name": "python",
   "nbconvert_exporter": "python",
   "pygments_lexer": "ipython3",
   "version": "3.7.4"
  }
 },
 "nbformat": 4,
 "nbformat_minor": 2
}
