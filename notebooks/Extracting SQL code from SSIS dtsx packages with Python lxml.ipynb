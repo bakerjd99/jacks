{
 "cells": [
  {
   "cell_type": "markdown",
   "metadata": {},
   "source": [
    "## Extracting SQL code from SSIS dtsx packages with Python lxml\n",
    "\n",
    "* Code for the blog post [Extracting SQL code from SSIS dtsx packages with Python lxml](https://analyzethedatanotthedrivel.org/2020/01/20/extracting-sql-code-from-ssis-dtsx-packages-with-python-lxml/)\n",
    "\n",
    "* From [Analyze the Data not the Drivel](https://analyzethedatanotthedrivel.org/)"
   ]
  },
  {
   "cell_type": "code",
   "execution_count": null,
   "metadata": {},
   "outputs": [],
   "source": [
    "# imports\n",
    "import os\n",
    "from lxml import etree"
   ]
  },
  {
   "cell_type": "code",
   "execution_count": null,
   "metadata": {},
   "outputs": [],
   "source": [
    "# set sql output directory\n",
    "sql_out = r\"C:\\temp\\dtsxsql\"\n",
    "if not os.path.isdir(sql_out):\n",
    "    os.makedirs(sql_out)"
   ]
  },
  {
   "cell_type": "code",
   "execution_count": null,
   "metadata": {},
   "outputs": [],
   "source": [
    "# set dtsx package file\n",
    "ssis_dtsx = r'C:\\temp\\dtsx\\ParseXML.dtsx'\n",
    "if not os.path.isfile(ssis_dtsx):\n",
    "    print(\"no package file\")"
   ]
  },
  {
   "cell_type": "code",
   "execution_count": null,
   "metadata": {},
   "outputs": [],
   "source": [
    "# read and parse ssis package\n",
    "tree = etree.parse(ssis_dtsx)\n",
    "root = tree.getroot()\n",
    "root.tag "
   ]
  },
  {
   "cell_type": "code",
   "execution_count": null,
   "metadata": {},
   "outputs": [],
   "source": [
    "# collect unique lxml transformed element tags\n",
    "ele_tags = set()\n",
    "for ele in root.xpath(\".//*\"):\n",
    "    ele_tags.add(ele.tag)\n",
    "print(ele_tags)\n",
    "print(len(ele_tags))"
   ]
  },
  {
   "cell_type": "markdown",
   "metadata": {},
   "source": [
    "### Code reformatted to better display on blog"
   ]
  },
  {
   "cell_type": "code",
   "execution_count": null,
   "metadata": {},
   "outputs": [],
   "source": [
    "pfx = '{www.microsoft.com/'\n",
    "exe_tag = pfx + 'SqlServer/Dts}Executable'\n",
    "obj_tag = pfx + 'SqlServer/Dts}ObjectName'\n",
    "dat_tag = pfx + 'SqlServer/Dts}ObjectData'\n",
    "tsk_tag = pfx + 'sqlserver/dts/tasks/sqltask}SqlTaskData'\n",
    "src_tag = pfx + \\\n",
    "  'sqlserver/dts/tasks/sqltask}SqlStatementSource'\n",
    "print(exe_tag)\n",
    "print(obj_tag)\n",
    "print(tsk_tag)\n",
    "print(src_tag)"
   ]
  },
  {
   "cell_type": "code",
   "execution_count": null,
   "metadata": {},
   "outputs": [],
   "source": [
    "# extract sql source statements and write to *.sql files \n",
    "total_bytes = 0\n",
    "package_name = root.attrib[obj_tag].replace(\" \",\"\")\n",
    "for cnt, ele in enumerate(root.xpath(\".//*\")):\n",
    "    if ele.tag == exe_tag:\n",
    "        attr = ele.attrib\n",
    "        for child0 in ele:\n",
    "            if child0.tag == dat_tag:\n",
    "                for child1 in child0:\n",
    "                    sql_comment = attr[obj_tag].strip()\n",
    "                    if child1.tag == tsk_tag:\n",
    "                        dtsx_sql = child1.attrib[src_tag]\n",
    "                        dtsx_sql = \"-- \" + \\\n",
    "                            sql_comment + \"\\n\" + dtsx_sql\n",
    "                        sql_file = sql_out + \"\\\\\" \\\n",
    "                             + package_name + str(cnt) + \".sql\"\n",
    "                        total_bytes += len(dtsx_sql)\n",
    "                        print((len(dtsx_sql), \n",
    "                             sql_comment, sql_file))\n",
    "                        with open(sql_file, \"w\") as file:\n",
    "                              file.write(dtsx_sql)\n",
    "print(('total bytes',total_bytes))"
   ]
  },
  {
   "cell_type": "markdown",
   "metadata": {},
   "source": [
    "### Original unformatted code"
   ]
  },
  {
   "cell_type": "code",
   "execution_count": null,
   "metadata": {},
   "outputs": [],
   "source": [
    "# scan package tree and extract sql source code\n",
    "total_bytes = 0\n",
    "package_name = root.attrib['{www.microsoft.com/SqlServer/Dts}ObjectName'].replace(\" \",\"\")\n",
    "for cnt, ele in enumerate(root.xpath(\".//*\")):\n",
    "    if ele.tag == \"{www.microsoft.com/SqlServer/Dts}Executable\":\n",
    "        attr = ele.attrib\n",
    "        for child0 in ele:\n",
    "            if child0.tag == \"{www.microsoft.com/SqlServer/Dts}ObjectData\":\n",
    "                for child1 in child0:\n",
    "                    sql_comment = attr[\"{www.microsoft.com/SqlServer/Dts}ObjectName\"].strip()\n",
    "                    if child1.tag == \"{www.microsoft.com/sqlserver/dts/tasks/sqltask}SqlTaskData\":\n",
    "                        dtsx_sql = child1.attrib[\"{www.microsoft.com/sqlserver/dts/tasks/sqltask}SqlStatementSource\"]\n",
    "                        dtsx_sql = \"-- \" + sql_comment + \"\\n\" + dtsx_sql\n",
    "                        sql_file = sql_out + \"\\\\\" + package_name + str(cnt) + \".sql\"\n",
    "                        total_bytes += len(dtsx_sql)\n",
    "                        print((len(dtsx_sql), sql_comment, sql_file))\n",
    "                        with open(sql_file, \"w\") as file:\n",
    "                            file.write(dtsx_sql)\n",
    "print(('total sql bytes',total_bytes))"
   ]
  },
  {
   "cell_type": "code",
   "execution_count": null,
   "metadata": {},
   "outputs": [],
   "source": []
  }
 ],
 "metadata": {
  "kernelspec": {
   "display_name": "Python 3",
   "language": "python",
   "name": "python3"
  },
  "language_info": {
   "codemirror_mode": {
    "name": "ipython",
    "version": 3
   },
   "file_extension": ".py",
   "mimetype": "text/x-python",
   "name": "python",
   "nbconvert_exporter": "python",
   "pygments_lexer": "ipython3",
   "version": "3.7.4"
  }
 },
 "nbformat": 4,
 "nbformat_minor": 2
}
