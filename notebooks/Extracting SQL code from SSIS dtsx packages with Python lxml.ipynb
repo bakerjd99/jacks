{
 "cells": [
  {
   "cell_type": "markdown",
   "metadata": {},
   "source": [
    "## Extracting SQL code from SSIS dtsx packages with Python lxml"
   ]
  },
  {
   "cell_type": "code",
   "execution_count": null,
   "metadata": {
    "collapsed": true
   },
   "outputs": [],
   "source": [
    "# imports\n",
    "import os\n",
    "from lxml import etree"
   ]
  },
  {
   "cell_type": "code",
   "execution_count": null,
   "metadata": {
    "collapsed": true
   },
   "outputs": [],
   "source": [
    "# set sql output directory\n",
    "sql_out = r\"C:\\temp\\dtsxsql\"\n",
    "if not os.path.isdir(sql_out):\n",
    "    os.makedirs(sql_out)"
   ]
  },
  {
   "cell_type": "code",
   "execution_count": null,
   "metadata": {
    "collapsed": true
   },
   "outputs": [],
   "source": [
    "# set dtsx package file\n",
    "ssis_dtsx = r'C:\\temp\\dtsx\\ParseXML.dtsx'\n",
    "if not os.path.isfile(ssis_dtsx):\n",
    "    print(\"no package file\")"
   ]
  },
  {
   "cell_type": "code",
   "execution_count": null,
   "metadata": {},
   "outputs": [],
   "source": [
    "# read and parse ssis package\n",
    "tree = etree.parse(ssis_dtsx)\n",
    "root = tree.getroot()\n",
    "root.tag "
   ]
  },
  {
   "cell_type": "code",
   "execution_count": null,
   "metadata": {},
   "outputs": [],
   "source": [
    "# collect unique lxml transformed element tags\n",
    "ele_tags = set()\n",
    "for ele in root.xpath(\".//*\"):\n",
    "    ele_tags.add(ele.tag)\n",
    "print(ele_tags)\n",
    "print(len(ele_tags))"
   ]
  },
  {
   "cell_type": "code",
   "execution_count": null,
   "metadata": {},
   "outputs": [],
   "source": [
    "# scan package tree and extract sql source code\n",
    "total_bytes = 0\n",
    "package_name = root.attrib['{www.microsoft.com/SqlServer/Dts}ObjectName'].replace(\" \",\"\")\n",
    "for cnt, ele in enumerate(root.xpath(\".//*\")):\n",
    "    if ele.tag == \"{www.microsoft.com/SqlServer/Dts}Executable\":\n",
    "        attr = ele.attrib\n",
    "        for child0 in ele:\n",
    "            if child0.tag == \"{www.microsoft.com/SqlServer/Dts}ObjectData\":\n",
    "                for child1 in child0:\n",
    "                    sql_comment = attr[\"{www.microsoft.com/SqlServer/Dts}ObjectName\"].strip()\n",
    "                    if child1.tag == \"{www.microsoft.com/sqlserver/dts/tasks/sqltask}SqlTaskData\":\n",
    "                        dtsx_sql = child1.attrib[\"{www.microsoft.com/sqlserver/dts/tasks/sqltask}SqlStatementSource\"]\n",
    "                        dtsx_sql = \"-- \" + sql_comment + \"\\n\" + dtsx_sql\n",
    "                        sql_file = sql_out + \"\\\\\" + package_name + str(cnt) + \".sql\"\n",
    "                        total_bytes += len(dtsx_sql)\n",
    "                        print((len(dtsx_sql), sql_comment, sql_file))\n",
    "                        with open(sql_file, \"w\") as file:\n",
    "                            file.write(dtsx_sql)\n",
    "print(('total sql bytes',total_bytes))"
   ]
  },
  {
   "cell_type": "code",
   "execution_count": null,
   "metadata": {
    "collapsed": true
   },
   "outputs": [],
   "source": []
  }
 ],
 "metadata": {
  "kernelspec": {
   "display_name": "Python 3",
   "language": "python",
   "name": "python3"
  },
  "language_info": {
   "codemirror_mode": {
    "name": "ipython",
    "version": 3
   },
   "file_extension": ".py",
   "mimetype": "text/x-python",
   "name": "python",
   "nbconvert_exporter": "python",
   "pygments_lexer": "ipython3",
   "version": "3.6.3"
  }
 },
 "nbformat": 4,
 "nbformat_minor": 2
}
