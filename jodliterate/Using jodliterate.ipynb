{
 "cells": [
  {
   "cell_type": "markdown",
   "metadata": {},
   "source": [
    "# Using `jodliterate`\n",
    "\n",
    "The [JODSOURCE](https://code.jsoftware.com/wiki/Addons/general/jodsource) addon, (a part of the [JOD](https://code.jsoftware.com/wiki/Addons/general/jod) system), contains a handy \n",
    "*literate programming* tool that enables the generation of *beautiful* J source code \n",
    "documents.\n",
    "\n",
    "The *Bible*, *Koran* and *Bhagavad Gita* of Literate Programming is Donald Knuth's \n",
    "[masterful tome](https://www.goodreads.com/book/show/112245.Literate_Programming) of the same name.\n",
    "\n",
    "![](inclusions/Literate_Programming_book_cover_smaller.jpg)\n",
    "\n",
    "Knuth applied Literate Programming to his own $\\TeX$ systems and produced what \n",
    "many consider [enduring masterpieces](https://www.amazon.com/TeXbook-Donald-Knuth/dp/0201134489#customerReviews) \n",
    "of program documentation.\n",
    "\n",
    "`jodliterate` is certainly [not worthy](https://www.youtube.com/watch?v=o5FT3IGXtAk) of $\\TeX$ \n",
    "level accolades but with a little work it's possible to produce fine documents. \n",
    "This [J kernel notebook](https://github.com/martin-saurer/jkernel) outlines how you can install\n",
    "and use `jodliterate`. [Jupyter](https://jupyter.org/) notebooks are typically executed but to accomdate J\n",
    "users that do hot have Jupyter this notebook is also available on GitHub \n",
    "as a [static PDF document](https://github.com/bakerjd99/jacks/blob/master/jodliterate/UsingJodliterate.pdf)."
   ]
  },
  {
   "cell_type": "markdown",
   "metadata": {},
   "source": [
    "## Notebook Preliminaries"
   ]
  },
  {
   "cell_type": "code",
   "execution_count": 1,
   "metadata": {},
   "outputs": [
    {
     "name": "stdout",
     "output_type": "stream",
     "text": [
      "\n",
      "j901/j64avx2/windows/release-e/commercial/www.jsoftware.com/2020-01-29T11:17:19\n"
     ]
    }
   ],
   "source": [
    "NB. show J kernel version\n",
    "9!:14 ''"
   ]
  },
  {
   "cell_type": "code",
   "execution_count": 2,
   "metadata": {},
   "outputs": [],
   "source": [
    "NB. load JOD in a clear base locale\n",
    "load 'general/jod' [ clear ''\n",
    "\n",
    "NB. The distributed JOD profile automatically RESETME's.\n",
    "NB. To safely use dictionaries with many J tasks they must\n",
    "NB. be READONLY. To prevent opening the same put dictionary\n",
    "NB. READWRITE comment out (dpset) and restart this notebook.\n",
    "dpset 'RESETME'\n",
    "\n",
    "NB. Converting Jupyter notebooks to LaTeX is \n",
    "NB. simplified by ASCII box characters.\n",
    "portchars ''\n",
    "\n",
    "NB. Verb to show large boxed displays in\n",
    "NB. the notebook without ugly wrapping.\n",
    "sbx_ijod_=: ' ... ' ,\"1~ 75&{.\"1@\":"
   ]
  },
  {
   "cell_type": "markdown",
   "metadata": {},
   "source": [
    "## Installing `jodliterate`\n",
    "\n",
    "To use `jodliterate` you need to:\n",
    "\n",
    "1. Install a current version of J.\n",
    "2. Install the J addons JOD, JODSOURCE and JODDOCUMENT.\n",
    "3. Build the JOD development dictionaries from JODSOURCE.\n",
    "4. Install a current version of [pandoc](https://pandoc.org/).\n",
    "5. Install a current version of $\\TeX$ and $\\LaTeX$.\n",
    "6. Make the `jodliterate` J script.\n",
    "7. Run `jodliterate` on a JOD *group* with pandoc compatible document fragments.\n",
    "8. Compile the files of the previous step to produce a PDF\n",
    "\n",
    "When presented with long lists of program prerequistes my impluse is to *run!* Life is too short\n",
    "for configuration wars. Everything should be easy. Installing `jodliterate` requires more work than phone apps\n",
    "but compared to [enterprise installations](https://www.cio.com/article/2429865/enterprise-resource-planning-10-famous-erp-disasters-dustups-and-disappointments.html) \n",
    "setting up `jodliterate` is trivial. We'll go through it step by step."
   ]
  },
  {
   "cell_type": "markdown",
   "metadata": {},
   "source": [
    "### Step 1: Install a current version of J\n",
    "\n",
    "J is freely availabe at [jsoftware.com](https://www.jsoftware.com). J installation instructions can be found on the\n",
    "[J Wiki](https://code.jsoftware.com/wiki/Main_Page) on [this page](https://code.jsoftware.com/wiki/System/Installation).\n",
    "\n",
    "Follow the appropriate instructions for your OS. \n",
    "\n",
    "**Note:**  JOD runs on Windows, Linux and MacOS versions of J, hence these are the only platforms that \n",
    "currently support `jodliterate`."
   ]
  },
  {
   "cell_type": "markdown",
   "metadata": {},
   "source": [
    "### Step 2: Install the J addons JOD, JODSOURCE and JODDOCUMENT\n",
    "\n",
    "After installing J install the J addons. J addons are installed with \n",
    "the J package manager [pacman](https://code.jsoftware.com/wiki/Pacman).\n",
    "Pacman has three [IDE](https://en.wikipedia.org/wiki/Integrated_development_environment) \n",
    "flavors: a command line flavor and two GUI flavors. The GUI flavors\n",
    "depend on [JQT](https://code.jsoftware.com/wiki/Guides/Qt_IDE) \n",
    "or [JHS](https://code.jsoftware.com/wiki/Guides/JHS/Server). The GUI flavors \n",
    "of pacman are only available on some versions of J whereas the command\n",
    "line version is part of the base J install and is available on all platforms. \n",
    "\n",
    "***I install all the addons. I recommend that you do the same.*** \n",
    "\n",
    "JOD depends on some J modules like `jfiles`, `regex` and `task` that are\n",
    "sometimes distributed as addons. If you install all addons JOD's modules \n",
    "and dependents are both installed."
   ]
  },
  {
   "cell_type": "markdown",
   "metadata": {},
   "source": [
    "#### Installing addons with command line `pacman`\n",
    "\n",
    "Start J and do:"
   ]
  },
  {
   "cell_type": "code",
   "execution_count": 3,
   "metadata": {},
   "outputs": [],
   "source": [
    "NB. install J addons using the command line version of pacman\n",
    "\n",
    "load 'pacman'    NB. load pacman jpkg services"
   ]
  },
  {
   "cell_type": "code",
   "execution_count": 4,
   "metadata": {},
   "outputs": [
    {
     "name": "stdout",
     "output_type": "stream",
     "text": [
      "Valid options are:\n",
      " history, install, manifest, remove, reinstall, search,\n",
      " show, showinstalled, shownotinstalled, showupgrade,\n",
      " status, update, upgrade\n",
      "\n",
      "https://code.jsoftware.com/wiki/JAL/Package_Manager/jpkg\n",
      "\n"
     ]
    }
   ],
   "source": [
    "'help' jpkg ''   NB. what can you do for me?"
   ]
  },
  {
   "cell_type": "code",
   "execution_count": 5,
   "metadata": {},
   "outputs": [],
   "source": [
    "NB. install all addons - see https://code.jsoftware.com/wiki/Pacman for details\n",
    "\n",
    "NB. 'install' jpkg '*'  NB. uncomment to run if you have not installed addons"
   ]
  },
  {
   "cell_type": "code",
   "execution_count": 6,
   "metadata": {},
   "outputs": [
    {
     "name": "stdout",
     "output_type": "stream",
     "text": [
      "+---------+------+------+----------------------------------------+\n",
      "|api/expat|1.0.11|1.0.11|libexpat                                |\n",
      "+---------+------+------+----------------------------------------+\n",
      "|api/gles |1.0.31|1.0.31|Modern OpenGL API                       |\n",
      "+---------+------+------+----------------------------------------+\n",
      "|api/java |1.0.2 |1.0.2 |api: Java to J shared library           |\n",
      "+---------+------+------+----------------------------------------+\n",
      "|api/jc   |1.0.1 |1.0.1 |api: J to C library (streams/fds/system)|\n",
      "+---------+------+------+----------------------------------------+\n",
      "|api/jni  |1.0.15|1.0.15|JNI                                     |\n",
      "+---------+------+------+----------------------------------------+\n"
     ]
    }
   ],
   "source": [
    "5 {. 'showinstalled' jpkg '' NB. first five installed addons"
   ]
  },
  {
   "cell_type": "code",
   "execution_count": 7,
   "metadata": {},
   "outputs": [],
   "source": [
    "'showupgrade' jpkg ''  NB. list addons with updates"
   ]
  },
  {
   "cell_type": "markdown",
   "metadata": {},
   "source": [
    "#### Installing addons with JQT GUI `pacman`"
   ]
  },
  {
   "cell_type": "markdown",
   "metadata": {},
   "source": [
    "I mostly use the Windows JQT version of pacman to install and maintain J addons. \n",
    "You can find pacman on the tools menu. \n",
    "\n",
    "![](inclusions/jqt_pacman_menu.png)\n",
    "\n",
    "pacman shows all available addons and provides tools for installing, updating and removing them. \n",
    "\n",
    "![](inclusions/jqt_pacman.png)\n",
    "\n",
    "The GUI version is easy to use. Press the `Select All` button and then press the `Install` button to install\n",
    "all the addons. To update addons select the `Upgrades` menu and select the addons you want to update."
   ]
  },
  {
   "cell_type": "markdown",
   "metadata": {},
   "source": [
    "### Step 3: Build the JOD development dictionaries from JODSOURCE\n",
    "\n",
    "JOD source code is distributed in the form of [JOD dictionary dumps](https://github.com/bakerjd99/joddumps). \n",
    "Dictionary dumps are large J scripts that serialize JOD dictionaries. Dumps contain everything stored in dictionaries. \n",
    "You will find source code, binary data, test scripts, documentation, build macros and more\n",
    "in typical JOD dictionaries. \n",
    "\n",
    "`jodliterate` is stored as a JOD dictionary group. A dictionary group is simply a collection\n",
    "of J words with an optional *header* and *post-processor*. JOD generates J scripts from groups.\n",
    "Before we can *make* `jodliterate` we must load the JOD developement dictionaries. The JODSOURCE\n",
    "addon includes a J script that \n",
    "[loads development dictionaries](https://github.com/bakerjd99/jod/blob/master/jodsource/jodsourcesetup.ijs).\n",
    "\n",
    "Again, start J and do:"
   ]
  },
  {
   "cell_type": "code",
   "execution_count": 8,
   "metadata": {},
   "outputs": [],
   "source": [
    "require 'general/jod'"
   ]
  },
  {
   "cell_type": "code",
   "execution_count": 9,
   "metadata": {},
   "outputs": [
    {
     "name": "stdout",
     "output_type": "stream",
     "text": [
      "+-----------+-------------------------------------------------------------- ... \n",
      "|Demos      |c:/j64/j901/addons/demos                                       ... \n",
      "+-----------+-------------------------------------------------------------- ... \n",
      "|Projects   |c:/users/john.baker/j901-user/projects                         ... \n",
      "+-----------+-------------------------------------------------------------- ... \n",
      "|User       |c:/users/john.baker/j901-user                                  ... \n",
      "+-----------+-------------------------------------------------------------- ... \n",
      "|JOD        |c:/users/john.baker/onedrive - jackson companies/jod           ... \n",
      "+-----------+-------------------------------------------------------------- ... \n",
      "|JODDUMPS   |c:/users/john.baker/onedrive - jackson companies/jod/joddumps  ... \n",
      "+-----------+-------------------------------------------------------------- ... \n",
      "|JODPRVDUMPS|c:/users/john.baker/onedrive - jackson companies/wd/jacksons/g ... \n",
      "+-----------+-------------------------------------------------------------- ... \n",
      "|JODSOURCE  |c:/jodtest/labtesting                                          ... \n",
      "+-----------+-------------------------------------------------------------- ... \n",
      "|JODTEST    |c:/jodtest/test                                                ... \n",
      "+-----------+-------------------------------------------------------------- ... \n",
      "|JACK       |c:/users/john.baker/onedrive - jackson companies/wd/jacksons/g ... \n",
      "+-----------+-------------------------------------------------------------- ... \n",
      "|BIDATA     |c:/bidata                                                      ... \n",
      "+-----------+-------------------------------------------------------------- ... \n",
      "|JODroot    |c:/jodtest/joddicts                                            ... \n",
      "+-----------+-------------------------------------------------------------- ... \n"
     ]
    }
   ],
   "source": [
    "NB. set a JODroot user folder \n",
    "NB. if not set /jod/ is the default\n",
    "\n",
    "NB. use paths for your OS\n",
    "UserFolders_j_=: UserFolders_j_ , 'JODroot';'c:/jodtest/joddicts'\n",
    "\n",
    "sbx UserFolders_j_"
   ]
  },
  {
   "cell_type": "code",
   "execution_count": 11,
   "metadata": {},
   "outputs": [
    {
     "name": "stdout",
     "output_type": "stream",
     "text": [
      "+-+----+---+----+--------+-----------+---+------+-------------------------- ... \n",
      "|1|docs|gps|imex|jacksons|jacksonsdev|jod|joddev|lit33017452023556220966624 ... \n",
      "+-+----+---+----+--------+-----------+---+------+-------------------------- ... \n"
     ]
    }
   ],
   "source": [
    "NB. list registered JOD dictionaries \n",
    "NB. joddev, jod, utils must not be on list\n",
    "\n",
    "sbx od ''"
   ]
  },
  {
   "cell_type": "code",
   "execution_count": 12,
   "metadata": {},
   "outputs": [],
   "source": [
    "NB. uncomment the next line and run to load JOD developement dictionaries\n",
    "NB. WARNING: do not do this if you have already built the development dictionaries\n",
    "\n",
    "NB. 0!:0<jpath'~addons/general/jodsource/jodsourcesetup.ijs'"
   ]
  },
  {
   "cell_type": "code",
   "execution_count": 13,
   "metadata": {},
   "outputs": [
    {
     "name": "stdout",
     "output_type": "stream",
     "text": [
      "+-+------------------------------------------------------------------------ ... \n",
      "|1|+------------------------------------------+---------------------------- ... \n",
      "| ||docs                                      |c:/users/john.baker/onedrive ... \n",
      "| |+------------------------------------------+---------------------------- ... \n",
      "| ||gps                                       |c:/users/john.baker/onedrive ... \n",
      "| |+------------------------------------------+---------------------------- ... \n",
      "| ||imex                                      |c:/users/john.baker/onedrive ... \n",
      "| |+------------------------------------------+---------------------------- ... \n",
      "| ||jacksons                                  |c:/users/john.baker/onedrive ... \n",
      "| |+------------------------------------------+---------------------------- ... \n",
      "| ||jacksonsdev                               |c:/users/john.baker/onedrive ... \n",
      "| |+------------------------------------------+---------------------------- ... \n",
      "| ||jod                                       |c:/users/john.baker/onedrive ... \n",
      "| |+------------------------------------------+---------------------------- ... \n",
      "| ||joddev                                    |c:/users/john.baker/onedrive ... \n",
      "| |+------------------------------------------+---------------------------- ... \n",
      "| ||lit330174520235562209666245375417904664402|c:/users/john.baker/j901-use ... \n",
      "| |+------------------------------------------+---------------------------- ... \n",
      "| ||play                                      |c:/users/john.baker/onedrive ... \n",
      "| |+------------------------------------------+---------------------------- ... \n",
      "| ||smugpyter                                 |c:/users/john.baker/onedrive ... \n",
      "| |+------------------------------------------+---------------------------- ... \n",
      "| ||utils                                     |c:/users/john.baker/onedrive ... \n",
      "| |+------------------------------------------+---------------------------- ... \n",
      "+-+------------------------------------------------------------------------ ... \n"
     ]
    }
   ],
   "source": [
    "NB. list dictionaries with locations - joddev, jod, utils should exist\n",
    "sbx 4 od ''"
   ]
  },
  {
   "cell_type": "markdown",
   "metadata": {},
   "source": [
    "### Step 4: Install a current version of `pandoc`\n",
    "\n",
    "[pandoc](https://pandoc.org/) is easily one of the most useful markup utilities on the \n",
    "[intertubes](https://www.urbandictionary.com/define.php?term=intertubes). If you\n",
    "routinely deal with markup formats like markdown, XML, $\\LaTeX$, json and\n",
    "you aren't using pandoc you are working too hard.\n",
    "\n",
    "Be lazy! [Install pandoc](https://pandoc.org/installing.html). \n",
    "\n",
    "`jodliterate` uses the `task` addon to *shell out* to pandoc. Versions of pandoc after\n",
    "`2.9.1.1` support J syntax high-lighting."
   ]
  },
  {
   "cell_type": "code",
   "execution_count": 14,
   "metadata": {},
   "outputs": [
    {
     "name": "stdout",
     "output_type": "stream",
     "text": [
      "pandoc 2.9.1.1\n",
      "Compiled with pandoc-types 1.20, texmath 0.12, skylighting 0.8.3\n",
      "Default user data directory: C:\\Users\\john.baker\\AppData\\Roaming\\pandoc\n",
      "Copyright (C) 2006-2019 John MacFarlane\n",
      "Web:  https://pandoc.org\n",
      "This is free software; see the source for copying conditions.\n",
      "There is no warranty, not even for merchantability or fitness\n",
      "for a particular purpose.\n",
      "\n"
     ]
    }
   ],
   "source": [
    "NB. show pandoc version from J - make sure you are running \n",
    "NB. a recent version of pandoc. There may be different\n",
    "NB. versions in many locations on various systems.\n",
    "\n",
    "THISPANDOC_ajodliterate_=: '\"C:\\Users\\john.baker\\AppData\\Local\\Pandoc\\pandoc\"'\n",
    "shell THISPANDOC_ajodliterate_,' --version'"
   ]
  },
  {
   "cell_type": "code",
   "execution_count": 15,
   "metadata": {},
   "outputs": [
    {
     "name": "stdout",
     "output_type": "stream",
     "text": [
      "1\n"
     ]
    }
   ],
   "source": [
    "NB. make sure your version of pandoc supports J syntax-highlighting\n",
    "\n",
    "NB. appends trailing line feed character if necessary\n",
    "tlf=:] , ((10{a.)\"_ = {:) }. (10{a.)\"_\n",
    "\n",
    "NB. J is on the supported languages list\n",
    "(<;._2 tlf (shell THISPANDOC_ajodliterate_,' --list-highlight-languages') -. CR) e.~ <,'j'"
   ]
  },
  {
   "cell_type": "markdown",
   "metadata": {},
   "source": [
    "### Step 5: Install a current version of  $\\TeX$ and  $\\LaTeX$\n",
    "\n",
    "`jodliterate` uses $\\LaTeX$ to compile PDF documents. When `setjodliterate` runs \n",
    "it sets an output directory and writes\n",
    "a $\\LaTeX$ preamble file `JODLiteratePreamble.tex` to it.\n",
    "It's a good idea to review this file to get an idea of the $\\LaTeX$ packages\n",
    "`jodliterate` uses. It's possible that some of these packages are not in your $\\LaTeX$ distribution\n",
    "and will have to be installed.\n",
    "\n",
    "To ease the burden of $\\LaTeX$ package maintenance I use freely available\n",
    "$\\TeX$ versions that automatically install missing packages. \n",
    "\n",
    "1. On Windows I use [MiKTeX](https://miktex.org/)\n",
    "2. On other platforms I use [TeXLive](https://en.wikipedia.org/wiki/TeX_Live)\n",
    "\n",
    "If your system automatically installs packages the first time you\n",
    "compile `jodliterate` output it may fetch missing packages from\n",
    "The Comprehensive $\\TeX$ Archive Network [(CTAN)](https://www.ctan.org/). \n",
    "If new packages are installed reprocess your files a few times to insure all the \n",
    "required packages are downloaded and installed."
   ]
  },
  {
   "cell_type": "markdown",
   "metadata": {},
   "source": [
    "### Step: 6 Make the `jodliterate` J script\n",
    "\n",
    "Once the JOD developement dictionaries are built (Step 3) making `jodliterate` is easy. Start J and do:"
   ]
  },
  {
   "cell_type": "code",
   "execution_count": 16,
   "metadata": {},
   "outputs": [
    {
     "name": "stdout",
     "output_type": "stream",
     "text": [
      "+-+-----------------------+----+------+---+-----+\n",
      "|1|opened (rw/ro/ro/ro) ->|imex|joddev|jod|utils|\n",
      "+-+-----------------------+----+------+---+-----+\n"
     ]
    }
   ],
   "source": [
    "require 'general/jod'\n",
    "\n",
    "NB. open dictionaries\n",
    "od ;:'imex joddev jod utils' [ 3 od ''"
   ]
  },
  {
   "cell_type": "code",
   "execution_count": 17,
   "metadata": {},
   "outputs": [
    {
     "name": "stdout",
     "output_type": "stream",
     "text": [
      "+-+--------------------+--------------------------------------------------- ... \n",
      "|1|load script saved ->|c:/users/john.baker/onedrive - jackson companies/jo ... \n",
      "+-+--------------------+--------------------------------------------------- ... \n"
     ]
    }
   ],
   "source": [
    "NB. generate jodliterate\n",
    "sbx mls 'jodliterate'"
   ]
  },
  {
   "cell_type": "markdown",
   "metadata": {},
   "source": [
    "`mls` creates a standard J load script. Once generated this script can be loaded with the standard\n",
    " J `load` utility. You can test this by restarting J without JOD and loading `jodliterate`."
   ]
  },
  {
   "cell_type": "code",
   "execution_count": 18,
   "metadata": {},
   "outputs": [
    {
     "name": "stdout",
     "output_type": "stream",
     "text": [
      "NB. (jodliterate) interface word(s):\n",
      "NB. --------------------------------\n",
      "NB. THISPANDOC      NB. full pandoc path - use pandoc only if on shell path\n",
      "NB. grplit          NB. make latex for group (y)\n",
      "NB. ifacesection    NB. interface section summary string\n",
      "NB. ifc             NB. format interface comment text\n",
      "NB. setjodliterate  NB. prepare LaTeX processing - sets directory - writes preamble\n",
      "\n",
      "ERROR: pandoc not set - adjust THISPANDOC\n",
      "THISPANDOC_ajodliterate_=: 'pandoc' NB. use when proper pandoc on path\n"
     ]
    }
   ],
   "source": [
    "NB. load generated script\n",
    "load 'jodliterate'"
   ]
  },
  {
   "cell_type": "code",
   "execution_count": 19,
   "metadata": {},
   "outputs": [],
   "source": [
    "THISPANDOC_ajodliterate_=: 'pandoc'"
   ]
  },
  {
   "cell_type": "markdown",
   "metadata": {},
   "source": [
    "### Step 7: Run `jodliterate` on a JOD group with pandoc compatible document fragments\n",
    "\n",
    "This sounds a lot worse than it is. There is a group in `utils` called `sunmoon` that has \n",
    "an interesting *pandoc compatible document fragment*. \n",
    "\n",
    "Start J and do:"
   ]
  },
  {
   "cell_type": "code",
   "execution_count": 20,
   "metadata": {},
   "outputs": [
    {
     "name": "stdout",
     "output_type": "stream",
     "text": [
      "+-+--------------+-----+\n",
      "|1|opened (ro) ->|utils|\n",
      "+-+--------------+-----+\n"
     ]
    }
   ],
   "source": [
    "require 'general/jod'\n",
    "\n",
    "od 'utils' [ 3 od ''"
   ]
  },
  {
   "cell_type": "code",
   "execution_count": 21,
   "metadata": {},
   "outputs": [
    {
     "name": "stdout",
     "output_type": "stream",
     "text": [
      "IFACEWORDSsunmoon NORISESET         ROOTWORDSsunmoon  arctan            \n",
      "calmoons          cos               fromjulian        moons             \n",
      "round             sin               sunriseset0       sunriseset1       \n",
      "tabit             tan               today             yeardates         \n"
     ]
    }
   ],
   "source": [
    "NB. list words in the (sunmoon) group\n",
    "80 list }. grp 'sunmoon'"
   ]
  },
  {
   "cell_type": "code",
   "execution_count": 22,
   "metadata": {},
   "outputs": [
    {
     "name": "stdout",
     "output_type": "stream",
     "text": [
      "+-----------------+-------------------------------------------------------- ... \n",
      "|IFACEWORDSsunmoon|interface words (IFACEWORDSsunmoon) group                ... \n",
      "|NORISESET        |indicates sun never rises or sets in (sunriseset0) and ( ... \n",
      "|ROOTWORDSsunmoon |root words (ROOTWORDSsunmoon) group                      ... \n",
      "|arctan           |arc tangent                                              ... \n",
      "|calmoons         |calendar dates of new and full moons                     ... \n",
      "|cos              |cosine radians                                           ... \n",
      "|fromjulian       |converts Julian day numbers to dates, converse (tojulian ... \n",
      "|moons            |times of new and full moons for n calendar years         ... \n",
      "|round            |round (y) to nearest (x) (e.g. 1000 round 12345)         ... \n",
      "|sin              |sine radians                                             ... \n",
      "|sunriseset0      |computes sun rise and set times - see group documentatio ... \n",
      "|sunriseset1      |computes sun rise and set times - see group documentatio ... \n",
      "|tabit            |promotes only atoms and lists to tables                  ... \n",
      "|tan              |tan radians                                              ... \n",
      "|today            |returns todays date                                      ... \n",
      "|yeardates        |returns all valid dates for n calendar years             ... \n",
      "+-----------------+-------------------------------------------------------- ... \n"
     ]
    }
   ],
   "source": [
    "NB. display short word explanations for (sunmoon)\n",
    "sbx hlpnl }. grp 'sunmoon'"
   ]
  },
  {
   "cell_type": "code",
   "execution_count": 23,
   "metadata": {},
   "outputs": [
    {
     "name": "stdout",
     "output_type": "stream",
     "text": [
      "﻿`sunmoon` is a collection of basic astronomical algorithms\n",
      "The key verbs are `moons`, `sunriseset0` and `sunriseset1.`  \n",
      "All of these verbs were derived from BASIC programs published\n",
      "in *Sky & Telescope* magazine in the 1990's. The rest of\n",
      "the verbs in `sunmoon` are mostly date and trigonometric\n",
      "utilities.\n",
      "\n",
      "\\subsection{\\texttt{sunmoon} Interface}\n",
      "\n",
      "~~~~ { .j }\n",
      "  calmoons      NB. calendar dates of new and full moons                     \n",
      "  moons         NB. times of new and full moons for n calendar years         \n",
      "  sunriseset0   NB. computes sun rise and set times - see group documentation\n",
      "  sunriseset1   NB. computes sun rise and set times - see group documentation\n",
      "~~~~\n",
      "\n",
      "\\subsection{\\textbf\\texttt{sunriseset0} \\textsl{v--} sunrise and sunset times}\n",
      "\n",
      "This  verb has been adapted from a BASIC program submitted by\n",
      "Robin  G.  Stuart  *Sky & Telescope's*  shortest  sunrise/set\n",
      "program  contest. Winning  entries were listed  in the  March\n",
      "1995 Astronomical Computing column.\n",
      "\n",
      "The  J version of this algorithm has been vectorized.  It can\n",
      "compute any number of sunrise and sunset times in one call.\n",
      "\n",
      "The `(y)` argument is a `5*n` floating point table where:\n",
      "\n",
      "    0{ is latitude in degrees with northern latitudes positive.\n",
      "    1{ is longitude in degrees with western longitudes negative.\n",
      "    2{ is western time zones expressed as positive whole hours.\n",
      "    3{ is the month number.\n",
      "    4{ is the day number.\n",
      "\n",
      "The result is a numeric table with four rows.  To handle the cases\n",
      "when the sun never rises or sets the first two elements of the\n",
      "corresponding result columns are:\n",
      "\n",
      "    0{ is NORISESET an invalid hour indicating no rise or set\n",
      "    1{ is 0 when the sun never rises\n",
      "    1{ is 1 when the sun never sets\n",
      "\n",
      "Warning: this algorithm breaks for latitudes close\n",
      "to the South pole.\n",
      "\n",
      "The original BASIC code has been slightly modified\n",
      "to use control structures in place of GOTO's and line numbers.\n",
      "\n",
      "Adapted from:\n",
      "\n",
      "~~~~ { .c .numberLines startFrom=\"1\"} \n",
      "/* Sunrise/set by R. G. Stuart,  Mexico City, Mexico */\n",
      "PI = 3.14159265#: DR = PI / 180: RD = 1 / DR\n",
      "INPUT \"Lat, Long (deg)\"; B5, L5\n",
      "INPUT \"Time zone (hrs)\"; H\n",
      "B5 = DR * B5\n",
      "INPUT \"Month, day\"; M, D\n",
      "N = INT(275 * M / 9) - 2 * INT((M + 9) / 12) + D - 30\n",
      "L0 = 4.8771 + .0172 * (N + .5 - L5 / 360)\n",
      "C = .03342 * SIN(L0 + 1.345)\n",
      "C2 = RD * (ATN(TAN(L0 + C)) - ATN(.9175 * TAN(L0 + C)) - C)\n",
      "SD = .3978 * SIN(L0 + C): CD = SQR(1 - SD * SD)\n",
      "SC = (SD * SIN(B5) + .0145) / (COS(B5) * CD)\n",
      "IF ABS(SC) <= 1 THEN\n",
      "  C3 = RD * ATN(SC / SQR(1 - SC * SC))\n",
      "  R1 = 6 - H - (L5 + C2 + C3) / 15\n",
      "  HR = INT(R1): MR = INT((R1 - HR) * 60)\n",
      "  PRINT USING \"Sunrise at ##:##\"; HR; MR\n",
      "  S1 = 18 - H - (L5 + C2 - C3) / 15\n",
      "  HS = INT(S1): MS = INT((S1 - HS) * 60)\n",
      "  PRINT USING \"Sunset at ##:##\"; HS; MS\n",
      "ELSEIF SC > 1 THEN\n",
      "  PRINT \"Sun up all day\"\n",
      "ELSEIF SC < -1 THEN\n",
      "  PRINT \"Sun down all day\"\n",
      "END IF\n",
      "END\n",
      "~~~~\n",
      "\n",
      "~~~~ { .j }\n",
      "monad: ntRiseset =. sunriseset0 flBLHMD\n",
      "\n",
      "  NB. rise and set times at Dog Lake today (daylight savings)\n",
      "  td=. (44 + 19%60),(- 76 + 21%60), 4 , }. today 0\n"
     ]
    }
   ],
   "source": [
    "NB. display part of the (sunmoon) group document header\n",
    "NB. this is pandoc compatible markdown - note the inclusion\n",
    "NB. of LaTeX commands - pandoc allows mixtures of markdown and LaTeX\n",
    "3000 {. 2 9 disp 'sunmoon'"
   ]
  },
  {
   "cell_type": "code",
   "execution_count": 24,
   "metadata": {},
   "outputs": [
    {
     "name": "stdout",
     "output_type": "stream",
     "text": [
      "+-+---------------------------------+\n",
      "|1|C:\\Users\\john.baker\\bixml\\grplit\\|\n",
      "+-+---------------------------------+\n"
     ]
    }
   ],
   "source": [
    "NB. run jodliterate on (sunmoon)\n",
    "require 'jodliterate'\n",
    "\n",
    "NB. set the output directory - when running in Jupyter \n",
    "NB. use a subdirectory of your notebook directory.\n",
    "setjodliterate 'C:\\Users\\john.baker\\bixml\\grplit'"
   ]
  },
  {
   "cell_type": "code",
   "execution_count": 25,
   "metadata": {},
   "outputs": [
    {
     "name": "stdout",
     "output_type": "stream",
     "text": [
      "+-------------------------------------------------+\n",
      "|1                                                |\n",
      "+-------------------------------------------------+\n",
      "|C:\\Users\\john.baker\\bixml\\grplit\\sunmoon.tex     |\n",
      "+-------------------------------------------------+\n",
      "|C:\\Users\\john.baker\\bixml\\grplit\\sunmoontitle.tex|\n",
      "+-------------------------------------------------+\n",
      "|C:\\Users\\john.baker\\bixml\\grplit\\sunmoonoview.tex|\n",
      "+-------------------------------------------------+\n",
      "|C:\\Users\\john.baker\\bixml\\grplit\\sunmooncode.tex |\n",
      "+-------------------------------------------------+\n",
      "|C:\\Users\\john.baker\\bixml\\grplit\\sunmoon.bat     |\n",
      "+-------------------------------------------------+\n"
     ]
    }
   ],
   "source": [
    "NB. (grplit) returns a list of generated LaTeX and command\n",
    "NB. files. The *.bat file compiles the generated LaTeX\n",
    ",. grplit 'sunmoon'"
   ]
  },
  {
   "cell_type": "markdown",
   "metadata": {},
   "source": [
    "### Step 8: Compile the files of the previous step to produce a PDF"
   ]
  },
  {
   "cell_type": "code",
   "execution_count": 26,
   "metadata": {},
   "outputs": [
    {
     "name": "stdout",
     "output_type": "stream",
     "text": [
      "9/fonts/opentype/p\n",
      "ublic/lm/lmroman12-bold.otf><c:/users/john.baker/appdata/local/programs/miktex \n",
      "2.9/fonts/opentype/public/lm/lmroman12-regular.otf><c:/users/john.baker/appdata\n",
      "/local/programs/miktex 2.9/fonts/opentype/public/lm/lmroman17-regular.otf><c:/u\n",
      "sers/john.baker/appdata/local/programs/miktex 2.9/fonts/opentype/public/lm/lmmo\n",
      "no12-regular.otf>\n",
      "Output written on sunmoon.pdf (19 pages, 83583 bytes).\n",
      "Transcript written on sunmoon.log.\n",
      "\n",
      "C:\\Users\\john.baker\\bixml\\grplit>endlocal\n",
      "\n"
     ]
    }
   ],
   "source": [
    "_500 {. shell 'C:\\Users\\john.baker\\bixml\\grplit\\sunmoon.bat'"
   ]
  },
  {
   "cell_type": "code",
   "execution_count": 27,
   "metadata": {},
   "outputs": [
    {
     "name": "stdout",
     "output_type": "stream",
     "text": [
      "\n"
     ]
    }
   ],
   "source": [
    " NB. display generated PDF \n",
    " shell 'C:\\Users\\john.baker\\bixml\\grplit\\sunmoon.pdf'"
   ]
  },
  {
   "cell_type": "markdown",
   "metadata": {},
   "source": [
    "## Storing `jodliterate` pandoc compatible document fragments in JOD\n",
    "\n",
    "Effective use of `jodliterate` requires a melange of Markdown, $\\LaTeX$, JOD and J skills combined with a healthly\n",
    "attitude about *experimentation*.  \n",
    "\n",
    "***You have to try things and see if they work!*** \n",
    "\n",
    "However, before you can *try*  `jodliterate` document fragments you have `put` them in JOD dictionaries.\n",
    "\n",
    "`jodliterate` uses two types of document fragments:\n",
    "\n",
    "1. markdown overview group documents.\n",
    "2. $\\LaTeX$ overview macros.\n",
    "\n",
    "Markdown group documents are transformed by pandoc into $\\LaTeX$ but the overview macros are not altered\n",
    "in anyway. This enables the use of arbitrarily complex $\\LaTeX$.  The following examples show how to insert\n",
    "document fragments."
   ]
  },
  {
   "cell_type": "markdown",
   "metadata": {},
   "source": [
    "### Create a `jodliterate` Demo Dictionary"
   ]
  },
  {
   "cell_type": "code",
   "execution_count": 28,
   "metadata": {},
   "outputs": [
    {
     "name": "stdout",
     "output_type": "stream",
     "text": [
      "+-+---------------------+------------------------------------------+------- ... \n",
      "|1|dictionary created ->|aaa267351136527926997318622658535796271244|c:/user ... \n",
      "+-+---------------------+------------------------------------------+------- ... \n"
     ]
    }
   ],
   "source": [
    "NB. create a demo dictionary - uses (didnum) to insure new name\n",
    "require 'general/jod'\n",
    "\n",
    "NB. creates new dictionary in default JOD directory\n",
    "sbx newd itslit_ijod_=: 'aaa',\":didnum_ajod_ ''"
   ]
  },
  {
   "cell_type": "code",
   "execution_count": 29,
   "metadata": {},
   "outputs": [
    {
     "name": "stdout",
     "output_type": "stream",
     "text": [
      "+-+------------------------------------------+----+---+----+--------+------ ... \n",
      "|1|aaa267351136527926997318622658535796271244|docs|gps|imex|jacksons|jackso ... \n",
      "+-+------------------------------------------+----+---+----+--------+------ ... \n"
     ]
    }
   ],
   "source": [
    "sbx od'' NB. show dictionaries"
   ]
  },
  {
   "cell_type": "code",
   "execution_count": 30,
   "metadata": {},
   "outputs": [
    {
     "name": "stdout",
     "output_type": "stream",
     "text": [
      "+-+--------------+------------------------------------------+\n",
      "|1|opened (rw) ->|aaa267351136527926997318622658535796271244|\n",
      "+-+--------------+------------------------------------------+\n"
     ]
    }
   ],
   "source": [
    "od itslit [ 3 od '' NB. open only new dictionary"
   ]
  },
  {
   "cell_type": "code",
   "execution_count": 31,
   "metadata": {},
   "outputs": [
    {
     "name": "stdout",
     "output_type": "stream",
     "text": [
      "NB. body mass index (y) weight in pounds (x) height in inches\n",
      "bmi=:704.5\"_ * ] % [: *: [\n",
      "\n",
      "NB. wind chill from temperature (x) F and wind speed (y) mph\n",
      "windchill=:(0.42749900000000002 * [ * 0.16 ^~ ]) + (35.75 * 0.16 ^~ ]) -~ 35.740000000000002 + 0.62150000000000005 * [\n"
     ]
    }
   ],
   "source": [
    "NB. define some words\n",
    "windchill=:(0.427499 * [ * 0.16 ^~ ]) + (35.75 * 0.16 ^~ ]) -~ 35.74 + 0.6215 * [\n",
    "bmi=: 704.5\"_ * ] % [: *: [\n",
    "put ;:'bmi windchill'\n",
    "\n",
    "NB. short word explanations\n",
    "0 8 put 'bmi';'body mass index (y) weight in pounds (x) height in inches'\n",
    "0 8 put 'windchill';'wind chill from temperature (x) F and wind speed (y) mph'\n",
    "\n",
    "disp ;:'bmi windchill'"
   ]
  },
  {
   "cell_type": "code",
   "execution_count": 32,
   "metadata": {},
   "outputs": [
    {
     "name": "stdout",
     "output_type": "stream",
     "text": [
      "+-+--------------------------+------------------------------------------+\n",
      "|1|group <litmacro> put in ->|aaa267351136527926997318622658535796271244|\n",
      "+-+--------------------------+------------------------------------------+\n"
     ]
    }
   ],
   "source": [
    "NB. make header and macro groups\n",
    "grp 'litheader' ; ;:'bmi windchill'\n",
    "grp 'litmacro'  ; ;:'bmi windchill'"
   ]
  },
  {
   "cell_type": "code",
   "execution_count": 33,
   "metadata": {},
   "outputs": [
    {
     "name": "stdout",
     "output_type": "stream",
     "text": [
      "+-+-------------------+------------------------------------------+\n",
      "|1|1 word(s) put in ->|aaa267351136527926997318622658535796271244|\n",
      "+-+-------------------+------------------------------------------+\n"
     ]
    }
   ],
   "source": [
    "IFACEWORDSlitheader=: ;:'bmi windchill'\n",
    "put 'IFACEWORDSlitheader'"
   ]
  },
  {
   "cell_type": "markdown",
   "metadata": {},
   "source": [
    "### Use Group Document Overview Markdown"
   ]
  },
  {
   "cell_type": "code",
   "execution_count": 34,
   "metadata": {},
   "outputs": [
    {
     "name": "stdout",
     "output_type": "stream",
     "text": [
      "+-+-----------------------------+------------------------------------------+\n",
      "|1|1 group document(s) put in ->|aaa267351136527926997318622658535796271244|\n",
      "+-+-----------------------------+------------------------------------------+\n"
     ]
    }
   ],
   "source": [
    "NB. add group header markdown\n",
    "litheader=: (0 : 0)\n",
    "`litheader` is a markdown demo group. \n",
    "\n",
    "This markdown text will be [transmogrified](https://calvinandhobbes.fandom.com/wiki/Transmogrifier) \n",
    "by `pandoc` to \\LaTeX. A group interface will be generated from the `IFACEWORDSlitheader`\n",
    "list. Interface lists are usually, but not always, associated with a *class group*.\n",
    "\n",
    "\\subsection{\\texttt{litheader} Interface}\n",
    "\n",
    "`{~{insert_interface_md_}~}`\n",
    ")\n",
    "\n",
    "NB. store markdown as a JOD group document\n",
    "2 9 put 'litheader';litheader"
   ]
  },
  {
   "cell_type": "code",
   "execution_count": 35,
   "metadata": {},
   "outputs": [
    {
     "name": "stdout",
     "output_type": "stream",
     "text": [
      "+---------------------------------------------------+\n",
      "|1                                                  |\n",
      "+---------------------------------------------------+\n",
      "|C:\\Users\\john.baker\\bixml\\grplit\\litheader.tex     |\n",
      "+---------------------------------------------------+\n",
      "|C:\\Users\\john.baker\\bixml\\grplit\\litheadertitle.tex|\n",
      "+---------------------------------------------------+\n",
      "|C:\\Users\\john.baker\\bixml\\grplit\\litheaderoview.tex|\n",
      "+---------------------------------------------------+\n",
      "|C:\\Users\\john.baker\\bixml\\grplit\\litheadercode.tex |\n",
      "+---------------------------------------------------+\n",
      "|C:\\Users\\john.baker\\bixml\\grplit\\litheader.bat     |\n",
      "+---------------------------------------------------+\n"
     ]
    }
   ],
   "source": [
    "NB. run jodliterate on group\n",
    "setjodliterate 'C:\\Users\\john.baker\\bixml\\grplit'\n",
    ",. grplit 'litheader'"
   ]
  },
  {
   "cell_type": "code",
   "execution_count": 36,
   "metadata": {},
   "outputs": [
    {
     "name": "stdout",
     "output_type": "stream",
     "text": [
      "/fonts/opentype/public/lm/lmroman12-bold.otf><c:/users/john.bak\n",
      "er/appdata/local/programs/miktex 2.9/fonts/opentype/public/lm/lmroman12-regular\n",
      ".otf><c:/users/john.baker/appdata/local/programs/miktex 2.9/fonts/opentype/publ\n",
      "ic/lm/lmroman17-regular.otf><c:/users/john.baker/appdata/local/programs/miktex \n",
      "2.9/fonts/opentype/public/lm/lmmono12-regular.otf>\n",
      "Output written on litheader.pdf (3 pages, 41091 bytes).\n",
      "Transcript written on litheader.log.\n",
      "\n",
      "C:\\Users\\john.baker\\bixml\\grplit>endlocal\n",
      "\n"
     ]
    }
   ],
   "source": [
    "NB. compile latex\n",
    "_500 {. shell 'C:\\Users\\john.baker\\bixml\\grplit\\litheader.bat'"
   ]
  },
  {
   "cell_type": "code",
   "execution_count": 37,
   "metadata": {},
   "outputs": [
    {
     "name": "stdout",
     "output_type": "stream",
     "text": [
      "\n"
     ]
    }
   ],
   "source": [
    "NB. show PDF\n",
    "shell 'C:\\Users\\john.baker\\bixml\\grplit\\litheader.pdf'"
   ]
  },
  {
   "cell_type": "markdown",
   "metadata": {},
   "source": [
    "### Use Macro Overview $\\LaTeX$"
   ]
  },
  {
   "cell_type": "code",
   "execution_count": 38,
   "metadata": {},
   "outputs": [
    {
     "name": "stdout",
     "output_type": "stream",
     "text": [
      "+-+--------------------+------------------------------------------+\n",
      "|1|1 macro(s) put in ->|aaa267351136527926997318622658535796271244|\n",
      "+-+--------------------+------------------------------------------+\n"
     ]
    }
   ],
   "source": [
    "NB. add a LaTeX overview - this code will not be altered by jodliterate the suffix\n",
    "NB. '_oview_tex' is required to associate the overview with the group 'litmacro'\n",
    "litmacro_oview_tex=: (0 : 0)\n",
    "\n",
    "This \\LaTeX\\ code will not be touched by \\texttt{jodliterate}. \n",
    "\n",
    "\\subsection{Business Babel}\n",
    "\n",
    "``Truth management is enabled.''\n",
    "\n",
    "\\emph{Excerpt from an actual business document!}  Obviously composed in\n",
    "an irony free zone.\n",
    "\n",
    "\\subsection{Some Complicated \\LaTeX}\n",
    "\n",
    "\\medskip\n",
    "\n",
    "\\[\n",
    "\\frac{1}{\\Bigl(\\sqrt{\\phi \\sqrt{5}}-\\phi\\Bigr) e^{\\frac25 \\pi}} =\n",
    "1+\\frac{e^{-2\\pi}} {1+\\frac{e^{-4\\pi}} {1+\\frac{e^{-6\\pi}}\n",
    "{1+\\frac{e^{-8\\pi}} {1+\\ldots} } } }\n",
    "\\]\n",
    "\n",
    "\\medskip\n",
    "\n",
    "\\[\n",
    "\\begin{aligned}\n",
    "\\nabla \\times \\vec{\\mathbf{B}} -\\, \\frac1c\\, \\frac{\\partial\\vec{\\mathbf{E}}}{\\partial t} & = \\frac{4\\pi}{c}\\vec{\\mathbf{j}} \\\\   \\nabla \\cdot \\vec{\\mathbf{E}} & = 4 \\pi \\rho \\\\\n",
    "\\nabla \\times \\vec{\\mathbf{E}}\\, +\\, \\frac1c\\, \\frac{\\partial\\vec{\\mathbf{B}}}{\\partial t} & = \\vec{\\mathbf{0}} \\\\\n",
    "\\nabla \\cdot \\vec{\\mathbf{B}} & = 0 \n",
    "\\end{aligned}\n",
    "\\]\n",
    "\n",
    ")\n",
    "\n",
    "NB. store LaTeX as JOD text macro \n",
    "4 put 'litmacro_oview_tex';LATEX_ajod_;litmacro_oview_tex"
   ]
  },
  {
   "cell_type": "code",
   "execution_count": 39,
   "metadata": {},
   "outputs": [
    {
     "name": "stdout",
     "output_type": "stream",
     "text": [
      "+--------------------------------------------------+\n",
      "|1                                                 |\n",
      "+--------------------------------------------------+\n",
      "|C:\\Users\\john.baker\\bixml\\grplit\\litmacro.tex     |\n",
      "+--------------------------------------------------+\n",
      "|C:\\Users\\john.baker\\bixml\\grplit\\litmacrotitle.tex|\n",
      "+--------------------------------------------------+\n",
      "|C:\\Users\\john.baker\\bixml\\grplit\\litmacrooview.tex|\n",
      "+--------------------------------------------------+\n",
      "|C:\\Users\\john.baker\\bixml\\grplit\\litmacrocode.tex |\n",
      "+--------------------------------------------------+\n",
      "|C:\\Users\\john.baker\\bixml\\grplit\\litmacro.bat     |\n",
      "+--------------------------------------------------+\n"
     ]
    }
   ],
   "source": [
    "NB. run jodliterate on group\n",
    ",. grplit 'litmacro'"
   ]
  },
  {
   "cell_type": "code",
   "execution_count": 40,
   "metadata": {},
   "outputs": [
    {
     "name": "stdout",
     "output_type": "stream",
     "text": [
      "\n",
      "b><C:/Users/john.baker/AppData/Local/Programs/MiKTeX 2.9/fonts/type1/public/lm/\n",
      "lmr8.pfb><C:/Users/john.baker/AppData/Local/Programs/MiKTeX 2.9/fonts/type1/pub\n",
      "lic/lm/lmsy10.pfb><C:/Users/john.baker/AppData/Local/Programs/MiKTeX 2.9/fonts/\n",
      "type1/public/lm/lmsy6.pfb><C:/Users/john.baker/AppData/Local/Programs/MiKTeX 2.\n",
      "9/fonts/type1/public/lm/lmsy8.pfb>\n",
      "Output written on litmacro.pdf (3 pages, 157191 bytes).\n",
      "Transcript written on litmacro.log.\n",
      "\n",
      "C:\\Users\\john.baker\\bixml\\grplit>endlocal\n",
      "\n"
     ]
    }
   ],
   "source": [
    "NB. compile latex\n",
    "_500 {. shell 'C:\\Users\\john.baker\\bixml\\grplit\\litmacro.bat'"
   ]
  },
  {
   "cell_type": "code",
   "execution_count": 41,
   "metadata": {},
   "outputs": [
    {
     "name": "stdout",
     "output_type": "stream",
     "text": [
      "\n"
     ]
    }
   ],
   "source": [
    "NB. display PDF\n",
    "shell 'C:\\Users\\john.baker\\bixml\\grplit\\litmacro.pdf'"
   ]
  },
  {
   "cell_type": "markdown",
   "metadata": {},
   "source": [
    "## Terminal Words"
   ]
  },
  {
   "cell_type": "code",
   "execution_count": null,
   "metadata": {},
   "outputs": [],
   "source": []
  }
 ],
 "metadata": {
  "kernelspec": {
   "display_name": "J",
   "language": "J",
   "name": "jkernel"
  },
  "language_info": {
   "file_extension": "ijs",
   "mimetype": "text/J",
   "name": "J"
  }
 },
 "nbformat": 4,
 "nbformat_minor": 2
}
