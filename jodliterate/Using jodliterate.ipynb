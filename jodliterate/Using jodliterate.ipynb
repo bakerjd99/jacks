{
 "cells": [
  {
   "cell_type": "markdown",
   "metadata": {},
   "source": [
    "## Using jodliterate\n",
    "\n",
    "The [JODSOURCE](https://code.jsoftware.com/wiki/Addons/general/jodsource) addon, (a part of the [JOD](https://code.jsoftware.com/wiki/Addons/general/jod) system), contains a handy \n",
    "*literate programming* tool that enables the generation of *beautiful* J source code \n",
    "documents.\n",
    "\n",
    "The *Bible*, *Koran*, and *Bhagavad Gita* of Literate Programming is Donald Knuth's \n",
    "[masterful tome](https://www.goodreads.com/book/show/112245.Literate_Programming) of the same name.\n",
    "\n",
    "![](https://bakerjd99.files.wordpress.com/2020/05/literate_programming_book_cover_smaller.png)\n",
    "\n",
    "Knuth applied Literate Programming to his $\\TeX$ systems and produced what \n",
    "many consider [enduring masterpieces](https://www.amazon.com/TeXbook-Donald-Knuth/dp/0201134489#customerReviews) \n",
    "of program documentation.\n",
    "\n",
    "`jodliterate` is certainly [not worthy](https://www.youtube.com/watch?v=o5FT3IGXtAk) of $\\TeX$ \n",
    "level accolades but with a little work it's possible to produce fine documents. \n",
    "This [J kernel notebook](https://github.com/martin-saurer/jkernel) outlines how you can install\n",
    "and use `jodliterate`. [Jupyter](https://jupyter.org/) notebooks are typically executed but to accommodate J\n",
    "users that do hot have Jupyter this notebook is also available on GitHub \n",
    "as a [static PDF document](https://github.com/bakerjd99/jacks/blob/master/jodliterate/UsingJodliterate.pdf)."
   ]
  },
  {
   "cell_type": "markdown",
   "metadata": {},
   "source": [
    "#### Notebook Preliminaries"
   ]
  },
  {
   "cell_type": "code",
   "execution_count": 1,
   "metadata": {},
   "outputs": [
    {
     "name": "stdout",
     "output_type": "stream",
     "text": [
      "j901/j64avx/windows/release-e/commercial/www.jsoftware.com/2020-01-29T11:15:50\n"
     ]
    }
   ],
   "source": [
    "NB. show J kernel version\n",
    "9!:14 ''"
   ]
  },
  {
   "cell_type": "code",
   "execution_count": 2,
   "metadata": {
    "collapsed": true
   },
   "outputs": [],
   "source": [
    "NB. load JOD in a clear base locale\n",
    "load 'general/jod' [ clear ''\n",
    "\n",
    "NB. The distributed JOD profile automatically RESETME's.\n",
    "NB. To safely use dictionaries with many J tasks they must\n",
    "NB. be READONLY. To prevent opening the same put dictionary\n",
    "NB. READWRITE comment out (dpset) and restart this notebook.\n",
    "dpset 'RESETME'\n",
    "\n",
    "NB. Converting Jupyter notebooks to LaTeX is \n",
    "NB. simplified by ASCII box characters.\n",
    "portchars ''\n",
    "\n",
    "NB. Verb to show large boxed displays in\n",
    "NB. the notebook without ugly wrapping.\n",
    "sbx_ijod_=: ' ... ' ,\"1~ 75&{.\"1@\":"
   ]
  },
  {
   "cell_type": "markdown",
   "metadata": {},
   "source": [
    "\n",
    "#### Installing jodliterate\n",
    "\n",
    "To use `jodliterate` you need to:\n",
    "\n",
    "1. Install a current version of J.\n",
    "2. Install the J addons JOD, JODSOURCE, and JODDOCUMENT.\n",
    "3. Build the JOD development dictionaries from JODSOURCE.\n",
    "4. Install a current version of [pandoc](https://pandoc.org/).\n",
    "5. Install a current version of $\\TeX$ and $\\LaTeX$.\n",
    "6. Make the `jodliterate` J script.\n",
    "7. Run `jodliterate` on a JOD *group* with pandoc compatible document fragments.\n",
    "8. Compile the files of the previous step to produce a PDF\n",
    "\n",
    "When presented with long lists of program prerequisites  my impulse  is to *run!* Life is too short\n",
    "for configuration wars. Everything should be easy. Installing `jodliterate` requires more \n",
    "work than phone apps\n",
    "but compared to [enterprise installations](https://www.cio.com/article/2429865/enterprise-resource-planning-10-famous-erp-disasters-dustups-and-disappointments.html) \n",
    "setting up `jodliterate` is trivial. We'll go through it step by step."
   ]
  },
  {
   "cell_type": "markdown",
   "metadata": {},
   "source": [
    "#### Step 1: Install a current version of J\n",
    "\n",
    "J is freely available  at [jsoftware.com](https://www.jsoftware.com). J installation instructions can be found on the\n",
    "[J Wiki](https://code.jsoftware.com/wiki/Main_Page) on [this page](https://code.jsoftware.com/wiki/System/Installation).\n",
    "\n",
    "Follow the appropriate instructions for your OS. \n",
    "\n",
    "**Note:**  JOD runs on Windows, Linux, and MacOS versions of J, hence these are the only platforms that \n",
    "currently support `jodliterate`."
   ]
  },
  {
   "cell_type": "markdown",
   "metadata": {},
   "source": [
    "#### Step 2: Install the J addons JOD, JODSOURCE and JODDOCUMENT\n",
    "\n",
    "After installing J install the J addons. J addons are installed with \n",
    "the J package manager [pacman](https://code.jsoftware.com/wiki/Pacman).\n",
    "Pacman has three [IDE](https://en.wikipedia.org/wiki/Integrated_development_environment) \n",
    "flavors: a command-line flavor and two GUI flavors. The GUI flavors\n",
    "depend on [JQT](https://code.jsoftware.com/wiki/Guides/Qt_IDE) \n",
    "or [JHS](https://code.jsoftware.com/wiki/Guides/JHS/Server). The GUI flavors \n",
    "of pacman are only available on some versions of J whereas the command\n",
    "line version is part of the base J install and is available on all platforms. \n",
    "\n",
    "***I install all the addons. I recommend that you do the same.*** \n",
    "\n",
    "JOD depends on some J modules like `jfiles`, `regex`, and `task` that are\n",
    "sometimes distributed as addons. If you install all addons JOD's modules \n",
    "and dependents are both installed."
   ]
  },
  {
   "cell_type": "markdown",
   "metadata": {},
   "source": [
    "#### Installing addons with command line pacman\n",
    "\n",
    "Start J and do:"
   ]
  },
  {
   "cell_type": "code",
   "execution_count": 3,
   "metadata": {
    "collapsed": true
   },
   "outputs": [],
   "source": [
    "NB. install J addons with command-line pacman\n",
    "\n",
    "load 'pacman'    NB. load pacman jpkg services"
   ]
  },
  {
   "cell_type": "code",
   "execution_count": 4,
   "metadata": {},
   "outputs": [
    {
     "name": "stdout",
     "output_type": "stream",
     "text": [
      "Valid options are:\n",
      " history, install, manifest, remove, reinstall, search,\n",
      " show, showinstalled, shownotinstalled, showupgrade,\n",
      " status, update, upgrade\n",
      "\n",
      "https://code.jsoftware.com/wiki/JAL/Package_Manager/jpkg\n",
      "\n"
     ]
    }
   ],
   "source": [
    "'help' jpkg ''   NB. what can you do for me?"
   ]
  },
  {
   "cell_type": "code",
   "execution_count": 5,
   "metadata": {
    "collapsed": true
   },
   "outputs": [],
   "source": [
    "NB. install all addons\n",
    "NB. see https://code.jsoftware.com/wiki/Pacman\n",
    "\n",
    "NB. uncomment next line if addons not installed\n",
    "NB. 'install' jpkg '*'  NB. "
   ]
  },
  {
   "cell_type": "code",
   "execution_count": 6,
   "metadata": {},
   "outputs": [
    {
     "name": "stdout",
     "output_type": "stream",
     "text": [
      "+---------+------+------+-----------------------------+\n",
      "|api/expat|1.0.11|1.0.11|libexpat                     |\n",
      "+---------+------+------+-----------------------------+\n",
      "|api/gles |1.0.31|1.0.31|Modern OpenGL API            |\n",
      "+---------+------+------+-----------------------------+\n",
      "|api/java |1.0.2 |1.0.2 |api: Java to J shared library|\n",
      "+---------+------+------+-----------------------------+\n"
     ]
    }
   ],
   "source": [
    "3 {. 'showinstalled' jpkg '' NB. first few installed addons"
   ]
  },
  {
   "cell_type": "code",
   "execution_count": 7,
   "metadata": {
    "collapsed": true
   },
   "outputs": [],
   "source": [
    "'showupgrade' jpkg ''  NB. list addon updates"
   ]
  },
  {
   "cell_type": "markdown",
   "metadata": {},
   "source": [
    "#### Installing addons with JQT GUI pacman"
   ]
  },
  {
   "cell_type": "markdown",
   "metadata": {},
   "source": [
    "I mostly use the Windows JQT version of pacman to install and maintain J addons. \n",
    "You can find pacman on the tools menu. \n",
    "\n",
    "![](https://bakerjd99.files.wordpress.com/2020/05/jqt_pacman_menu-1.png)\n",
    "\n",
    "pacman shows all available addons and provides tools for installing, updating, and removing them. \n",
    "\n",
    "![](https://bakerjd99.files.wordpress.com/2020/05/jqt_pacman.png)\n",
    "\n",
    "The GUI version is easy to use. Press the `Select All` button and then press the `Install` button to install\n",
    "all the addons. To update addons select the `Upgrades` menu and select the addons you want to update."
   ]
  },
  {
   "cell_type": "markdown",
   "metadata": {},
   "source": [
    "#### Step 3: Build the JOD development dictionaries from JODSOURCE\n",
    "\n",
    "JOD source code is distributed in the form of [JOD dictionary dumps](https://github.com/bakerjd99/joddumps). \n",
    "Dictionary dumps are large J scripts that serialize JOD dictionaries. Dumps contain everything stored in dictionaries. \n",
    "You will find source code, binary data, test scripts, documentation, build macros, and more\n",
    "in typical JOD dictionaries. \n",
    "\n",
    "`jodliterate` is stored as a JOD dictionary group. A dictionary group is simply a collection\n",
    "of J words with optional *header* and *post-processor* scripts. JOD generates J scripts from groups.\n",
    "Before we can *make* `jodliterate` we must load the JOD development dictionaries. The JODSOURCE\n",
    "addon includes a J script that \n",
    "[loads development dictionaries](https://github.com/bakerjd99/jod/blob/master/jodsource/jodsourcesetup.ijs).\n",
    "\n",
    "Again, start J and do:"
   ]
  },
  {
   "cell_type": "code",
   "execution_count": 8,
   "metadata": {
    "collapsed": true
   },
   "outputs": [],
   "source": [
    "require 'general/jod'"
   ]
  },
  {
   "cell_type": "code",
   "execution_count": 9,
   "metadata": {},
   "outputs": [
    {
     "name": "stdout",
     "output_type": "stream",
     "text": [
      "+-------+-------+\n",
      "|JODroot|c:/temp|\n",
      "+-------+-------+\n"
     ]
    }
   ],
   "source": [
    "NB. set a JODroot user folder \n",
    "NB. if not set /jod/ is the default\n",
    "\n",
    "NB. use paths for your OS\n",
    "UserFolders_j_=: UserFolders_j_ , 'JODroot';'c:/temp'\n",
    "\n",
    "NB. show added folder\n",
    "UserFolders_j_ {~ (0 {\"1 UserFolders_j_) i. <'JODroot'"
   ]
  },
  {
   "cell_type": "code",
   "execution_count": 10,
   "metadata": {},
   "outputs": [
    {
     "name": "stdout",
     "output_type": "stream",
     "text": [
      "dev dictionaries exist\n"
     ]
    }
   ],
   "source": [
    "NB. load JOD developement dictionaries\n",
    "load_dev_tmp=: 3 : 0\n",
    "if. +./ (;:'joddev jod utils') e. od '' do.\n",
    "  'dev dictionaries exist'\n",
    "else.\n",
    "  0!:0<jpath'~addons/general/jodsource/jodsourcesetup.ijs'\n",
    "end.\n",
    ")\n",
    "\n",
    "load_dev_tmp 0"
   ]
  },
  {
   "cell_type": "code",
   "execution_count": 11,
   "metadata": {},
   "outputs": [
    {
     "name": "stdout",
     "output_type": "stream",
     "text": [
      "1 1 1\n"
     ]
    }
   ],
   "source": [
    "NB. joddev, jod, utils should exist\n",
    "\n",
    "erase 'load_dev_tmp'\n",
    "(;:'joddev jod utils') e. od '' "
   ]
  },
  {
   "cell_type": "markdown",
   "metadata": {},
   "source": [
    "#### Step 4: Install a current version of pandoc\n",
    "\n",
    "[pandoc](https://pandoc.org/) is easily one of the most useful markup utilities on the \n",
    "[intertubes](https://www.urbandictionary.com/define.php?term=intertubes). If you\n",
    "routinely deal with markup formats like markdown, XML, $\\LaTeX$, json and\n",
    "you aren't using pandoc you are working too hard.\n",
    "\n",
    "Be lazy! [Install pandoc](https://pandoc.org/installing.html). \n",
    "\n",
    "`jodliterate` uses the `task` addon to *shell out* to pandoc. Versions of pandoc after\n",
    "`2.9.1.1` support J syntax high-lighting."
   ]
  },
  {
   "cell_type": "code",
   "execution_count": 12,
   "metadata": {},
   "outputs": [
    {
     "name": "stdout",
     "output_type": "stream",
     "text": [
      "pandoc 2.9.1.1\n",
      "Compiled with pandoc-types 1.20, texmath 0.12, skylighting 0.8.3\n",
      "Default user data directory: C:\\Users\\john\\AppData\\Roaming\\pandoc\n",
      "Copyright (C) 2006-2019 John MacFarlane\n",
      "Web:  https://pandoc.org\n",
      "This is free software; see the source for copying conditions.\n",
      "There is no warranty, not even for merchantability or fitness\n",
      "for a particular purpose.\n",
      "\n"
     ]
    }
   ],
   "source": [
    "NB. show pandoc version from J - make sure you are running \n",
    "NB. a recent version of pandoc. There may be different\n",
    "NB. versions in many locations on various systems.\n",
    "\n",
    "ppath=: '\"C:\\Program Files\\Pandoc\\pandoc\"'\n",
    "THISPANDOC_ajodliterate_=: ppath\n",
    "shell THISPANDOC_ajodliterate_,' --version'"
   ]
  },
  {
   "cell_type": "code",
   "execution_count": 13,
   "metadata": {},
   "outputs": [
    {
     "name": "stdout",
     "output_type": "stream",
     "text": [
      "1\n"
     ]
    }
   ],
   "source": [
    "NB. make sure your version of pandoc \n",
    "NB. supports J syntax-highlighting\n",
    "\n",
    "NB. appends line feed character if necessary\n",
    "tlf=:] , ((10{a.)\"_ = {:) }. (10{a.)\"_\n",
    "\n",
    "NB. J is on the supported languages list\n",
    "pcmd=: THISPANDOC_ajodliterate_,' --list-highlight-languages'\n",
    "(<;._2 tlf (shell pcmd) -. CR) e.~ <,'j'"
   ]
  },
  {
   "cell_type": "markdown",
   "metadata": {},
   "source": [
    "#### Step 5: Install a current version of LaTeX\n",
    "\n",
    "`jodliterate` uses $\\LaTeX$ to compile PDF documents. When `setjodliterate` runs \n",
    "it sets an output directory and writes\n",
    "a $\\LaTeX$ preamble file `JODLiteratePreamble.tex` to it.\n",
    "It's a good idea to review this file to get an idea of the $\\LaTeX$ packages\n",
    "`jodliterate` uses. It's possible that some of these packages are not in your $\\LaTeX$ distribution\n",
    "and will have to be installed.\n",
    "\n",
    "To ease the burden of $\\LaTeX$ package maintenance I use freely available\n",
    "$\\TeX$ versions that automatically install missing packages. \n",
    "\n",
    "1. On Windows I use [MiKTeX](https://miktex.org/)\n",
    "2. On other platforms I use [TeXLive](https://en.wikipedia.org/wiki/TeX_Live)\n",
    "\n",
    "If your system automatically installs packages the first time you\n",
    "compile `jodliterate` output it may fetch missing packages from\n",
    "The Comprehensive $\\TeX$ Archive Network [(CTAN)](https://www.ctan.org/). \n",
    "If new packages are installed reprocess your files a few times to insure all the \n",
    "required packages are downloaded and installed."
   ]
  },
  {
   "cell_type": "markdown",
   "metadata": {},
   "source": [
    "#### Step: 6 Make the jodliterate J script\n",
    "\n",
    "Once the JOD development dictionaries are built (Step 3) making `jodliterate` is easy. Start J and do:"
   ]
  },
  {
   "cell_type": "code",
   "execution_count": 14,
   "metadata": {},
   "outputs": [
    {
     "name": "stdout",
     "output_type": "stream",
     "text": [
      "+-+--------------------+------+---+-----+\n",
      "|1|opened (rw/ro/ro) ->|joddev|jod|utils|\n",
      "+-+--------------------+------+---+-----+\n"
     ]
    }
   ],
   "source": [
    "require 'general/jod'\n",
    "\n",
    "NB. open dictionaries\n",
    "od ;:'joddev jod utils' [ 3 od ''"
   ]
  },
  {
   "cell_type": "code",
   "execution_count": 15,
   "metadata": {},
   "outputs": [
    {
     "name": "stdout",
     "output_type": "stream",
     "text": [
      "+-+--------------------+------------------------------------+               ... \n",
      "|1|load script saved ->|c:/jod/joddev/script/jodliterate.ijs|               ... \n",
      "+-+--------------------+------------------------------------+               ... \n"
     ]
    }
   ],
   "source": [
    "NB. generate jodliterate\n",
    "sbx mls 'jodliterate'"
   ]
  },
  {
   "cell_type": "markdown",
   "metadata": {},
   "source": [
    "`mls` creates a standard J load script. Once generated this script can be loaded with the standard\n",
    " J `load` utility. You can test this by restarting J without JOD and loading `jodliterate`."
   ]
  },
  {
   "cell_type": "code",
   "execution_count": 16,
   "metadata": {},
   "outputs": [
    {
     "name": "stdout",
     "output_type": "stream",
     "text": [
      "NB. (jodliterate) interface word(s):\n",
      "NB. --------------------------------\n",
      "NB. THISPANDOC      NB. full pandoc path - use (pandoc) if on shell path\n",
      "NB. grplit          NB. make latex for group (y)\n",
      "NB. ifacesection    NB. interface section summary string\n",
      "NB. ifc             NB. format interface comment text\n",
      "NB. setjodliterate  NB. prepare LaTeX processing - sets out directory writes preamble\n",
      "\n",
      "NOTE: adjust pandoc path if version (pandoc 2.9.1.1) is not >= 2.9.1.1\n"
     ]
    }
   ],
   "source": [
    "NB. load generated script\n",
    "load 'jodliterate'"
   ]
  },
  {
   "cell_type": "markdown",
   "metadata": {},
   "source": [
    "#### Step 7: Run jodliterate on a JOD group with pandoc compatible document fragments\n",
    "\n",
    "This sounds a lot worse than it is. There is a group in `utils` called `sunmoon` that has \n",
    "an interesting *pandoc compatible document fragment*. \n",
    "\n",
    "Start J and do:"
   ]
  },
  {
   "cell_type": "code",
   "execution_count": 17,
   "metadata": {},
   "outputs": [
    {
     "name": "stdout",
     "output_type": "stream",
     "text": [
      "+-+--------------+-----+\n",
      "|1|opened (ro) ->|utils|\n",
      "+-+--------------+-----+\n"
     ]
    }
   ],
   "source": [
    "require 'general/jod'\n",
    "\n",
    "od 'utils' [ 3 od ''"
   ]
  },
  {
   "cell_type": "code",
   "execution_count": 18,
   "metadata": {},
   "outputs": [
    {
     "name": "stdout",
     "output_type": "stream",
     "text": [
      "+-----------------+-------------------------------------------------------- ... \n",
      "|IFACEWORDSsunmoon|interface words (IFACEWORDSsunmoon) group                ... \n",
      "|NORISESET        |indicates sun never rises or sets in (sunriseset0) and ( ... \n",
      "|ROOTWORDSsunmoon |root words (ROOTWORDSsunmoon) group                      ... \n",
      "|arctan           |arc tangent                                              ... \n",
      "|calmoons         |calendar dates of new and full moons                     ... \n",
      "|cos              |cosine radians                                           ... \n",
      "|fromjulian       |converts Julian day numbers to dates, converse (tojulian ... \n",
      "|moons            |times of new and full moons for n calendar years         ... \n",
      "|round            |round (y) to nearest (x) (e.g. 1000 round 12345)         ... \n",
      "|sin              |sine radians                                             ... \n",
      "|sunriseset0      |computes sun rise and set times - see group documentatio ... \n",
      "|sunriseset1      |computes sun rise and set times - see group documentatio ... \n",
      "|tabit            |promotes only atoms and lists to tables                  ... \n",
      "|tan              |tan radians                                              ... \n",
      "|today            |returns todays date                                      ... \n",
      "|yeardates        |returns all valid dates for n calendar years             ... \n",
      "+-----------------+-------------------------------------------------------- ... \n"
     ]
    }
   ],
   "source": [
    "NB. display short explanations for (sunmoon) words\n",
    "sbx hlpnl }. grp 'sunmoon'"
   ]
  },
  {
   "cell_type": "code",
   "execution_count": 19,
   "metadata": {},
   "outputs": [
    {
     "name": "stdout",
     "output_type": "stream",
     "text": [
      "﻿`sunmoon` is a collection of basic astronomical algorithms\n",
      "The key verbs are `moons`, `sunriseset0` and `sunriseset1.`  \n",
      "All of these verbs were derived from BASIC programs published\n",
      "in *Sky & Telescope* magazine in the 1990's. The rest of\n",
      "the verbs in `sunmoon` are mostly date and trigonometric\n",
      "utilities.\n",
      "\n",
      "\\subsection{\\texttt{sunmoon} Interface}\n",
      "\n",
      "~~~~ { .j }\n",
      "  calmoons      NB. calendar dates of new and full moons                     \n",
      "  moons         NB. times of new and full moons for n calendar years         \n",
      "  sunriseset0   NB. computes sun rise and set times - see group documentation\n",
      "  sunriseset1   NB. computes sun rise and set times - see group documentation\n",
      "~~~~\n",
      "\n",
      "\\subsection{\\textbf\\texttt{sunriseset0} \\textsl{v--} sunrise and sunset times}\n",
      "\n",
      "This  verb has been adapted from a BASIC program submitted by\n",
      "Robin  G.  Stuart  *Sky & Telescope's*  shortest  sunrise/set\n",
      "program  cont\n"
     ]
    }
   ],
   "source": [
    "NB. display part of the (sunmoon) group document header\n",
    "NB. this is pandoc compatible markdown - note the LaTeX\n",
    "NB. commands - pandoc allows markdown/LaTeX mixtures\n",
    "900 {. 2 9 disp 'sunmoon'"
   ]
  },
  {
   "cell_type": "code",
   "execution_count": 20,
   "metadata": {},
   "outputs": [
    {
     "name": "stdout",
     "output_type": "stream",
     "text": [
      "+-+-------------------------------------------------+\n",
      "|1|C:\\Users\\john\\AnacondaProjects\\testfolder\\grplit\\|\n",
      "+-+-------------------------------------------------+\n"
     ]
    }
   ],
   "source": [
    "NB. run jodliterate on (sunmoon)\n",
    "require 'jodliterate'\n",
    "\n",
    "NB. set the output directory - when \n",
    "NB. running in Jupyter use a subdirectory\n",
    "NB. of your notebook directory.\n",
    "\n",
    "ltxpath=: 'C:\\Users\\john\\AnacondaProjects\\testfolder\\grplit\\' \n",
    "setjodliterate ltxpath"
   ]
  },
  {
   "cell_type": "code",
   "execution_count": 21,
   "metadata": {},
   "outputs": [
    {
     "name": "stdout",
     "output_type": "stream",
     "text": [
      "+-----------------------------------------------------------------+\n",
      "|1                                                                |\n",
      "+-----------------------------------------------------------------+\n",
      "|C:\\Users\\john\\AnacondaProjects\\testfolder\\grplit\\sunmoon.tex     |\n",
      "+-----------------------------------------------------------------+\n",
      "|C:\\Users\\john\\AnacondaProjects\\testfolder\\grplit\\sunmoontitle.tex|\n",
      "+-----------------------------------------------------------------+\n",
      "|C:\\Users\\john\\AnacondaProjects\\testfolder\\grplit\\sunmoonoview.tex|\n",
      "+-----------------------------------------------------------------+\n",
      "|C:\\Users\\john\\AnacondaProjects\\testfolder\\grplit\\sunmooncode.tex |\n",
      "+-----------------------------------------------------------------+\n",
      "|C:\\Users\\john\\AnacondaProjects\\testfolder\\grplit\\sunmoon.bat     |\n",
      "+-----------------------------------------------------------------+\n"
     ]
    }
   ],
   "source": [
    "NB. (grplit) returns a list of generated \n",
    "NB. LaTeX and command files. The *.bat \n",
    "NB. file compiles the generated LaTeX\n",
    "\n",
    ",. grplit 'sunmoon'"
   ]
  },
  {
   "cell_type": "markdown",
   "metadata": {},
   "source": [
    "#### Step 8: Compile the files of the previous step to produce a PDF"
   ]
  },
  {
   "cell_type": "code",
   "execution_count": 22,
   "metadata": {},
   "outputs": [
    {
     "name": "stdout",
     "output_type": "stream",
     "text": [
      "gular.otf><c:/program files/miktex 2.9/fonts/ope\n",
      "ntype/public/lm/lmmono12-regular.otf>\n",
      "Output written on sunmoon.pdf (22 pages, 107711 bytes).\n",
      "Transcript written on sunmoon.log.\n",
      "\n",
      "(base) C:\\Users\\john\\AnacondaProjects\\testfolder\\grplit>endlocal\n",
      "\n"
     ]
    }
   ],
   "source": [
    "_250 {. shell ltxpath,'sunmoon.bat'"
   ]
  },
  {
   "cell_type": "code",
   "execution_count": 23,
   "metadata": {
    "collapsed": true
   },
   "outputs": [],
   "source": [
    " NB. uncomment to display generated PDF \n",
    " NB. shell ltxpath,'sunmoon.pdf'"
   ]
  },
  {
   "cell_type": "markdown",
   "metadata": {},
   "source": [
    "#### Storing jodliterate pandoc compatible document fragments in JOD\n",
    "\n",
    "Effective use of `jodliterate` requires a melange of Markdown, $\\LaTeX$, JOD, and J skills combined with a healthy \n",
    "attitude about *experimentation*. You have to try things and see if they work! \n",
    "\n",
    "However, before you can *try*  `jodliterate` document fragments you have `put` them in JOD dictionaries.\n",
    "\n",
    "`jodliterate` uses two types of document fragments:\n",
    "\n",
    "1. markdown overview group documents.\n",
    "2. $\\LaTeX$ overview macros.\n",
    "\n",
    "Markdown group documents are transformed by pandoc into $\\LaTeX$ but the overview macros are not altered\n",
    "in any way. This enables the use of arbitrarily complex $\\LaTeX$.  The following examples show how to insert\n",
    "document fragments."
   ]
  },
  {
   "cell_type": "markdown",
   "metadata": {},
   "source": [
    "#### Create a jodliterate Demo Dictionary"
   ]
  },
  {
   "cell_type": "code",
   "execution_count": 24,
   "metadata": {},
   "outputs": [
    {
     "name": "stdout",
     "output_type": "stream",
     "text": [
      "+-+---------------------+------------------------------------------+------- ... \n",
      "|1|dictionary created ->|aaa327403631806685638405507439206657280913|c:/user ... \n",
      "+-+---------------------+------------------------------------------+------- ... \n"
     ]
    }
   ],
   "source": [
    "NB. create a demo dictionary - (didnum) insures new name\n",
    "require 'general/jod'\n",
    "\n",
    "NB. new dictionary in default JOD directory\n",
    "sbx newd itslit_ijod_=: 'aaa',\":didnum_ajod_ ''"
   ]
  },
  {
   "cell_type": "code",
   "execution_count": 25,
   "metadata": {},
   "outputs": [
    {
     "name": "stdout",
     "output_type": "stream",
     "text": [
      "1\n"
     ]
    }
   ],
   "source": [
    "NB. 1 if new dictionary created\n",
    "(<itslit) e. od '' "
   ]
  },
  {
   "cell_type": "code",
   "execution_count": 26,
   "metadata": {},
   "outputs": [
    {
     "name": "stdout",
     "output_type": "stream",
     "text": [
      "+-+--------------+------------------------------------------+\n",
      "|1|opened (rw) ->|aaa327403631806685638405507439206657280913|\n",
      "+-+--------------+------------------------------------------+\n"
     ]
    }
   ],
   "source": [
    "od itslit [ 3 od '' NB. open only new dictionary"
   ]
  },
  {
   "cell_type": "code",
   "execution_count": 27,
   "metadata": {},
   "outputs": [
    {
     "name": "stdout",
     "output_type": "stream",
     "text": [
      "+-+-------------------------------+------------------------------------------+\n",
      "|1|5 word explanation(s) put in ->|aaa327403631806685638405507439206657280913|\n",
      "+-+-------------------------------+------------------------------------------+\n"
     ]
    }
   ],
   "source": [
    "NB. define some words\n",
    "freq=:~. ; #/.~\n",
    "movmean=:-@[ (+/ % #)\\ ]\n",
    "geomean=:# %: */\n",
    "bmi=: 704.5\"_ * ] % [: *: [\n",
    "polyprod=:+//.@(*/)\n",
    "\n",
    "wlst=: ;:'freq movmean geomean bmi polyprod'\n",
    "\n",
    "NB. put in dictionary\n",
    "put wlst\n",
    "\n",
    "NB. short word explanations\n",
    "t=: ,:  'freq';'frequency distribution'\n",
    "t=: t , 'movmean';'moving mean'\n",
    "t=: t , 'geomean';'geometric mean of a list'\n",
    "t=: t , 'bmi';'body mass index - (x) inches (y) lbs'\n",
    "t=: t , 'polyprod';'polynomial product'\n",
    "\n",
    "0 8 put t"
   ]
  },
  {
   "cell_type": "code",
   "execution_count": 28,
   "metadata": {},
   "outputs": [
    {
     "name": "stdout",
     "output_type": "stream",
     "text": [
      "+-+--------------------------+------------------------------------------+\n",
      "|1|group <litmacro> put in ->|aaa327403631806685638405507439206657280913|\n",
      "+-+--------------------------+------------------------------------------+\n"
     ]
    }
   ],
   "source": [
    "NB. make header and macro groups\n",
    "grp 'litheader' ; wlst\n",
    "grp 'litmacro'  ; wlst"
   ]
  },
  {
   "cell_type": "code",
   "execution_count": 29,
   "metadata": {},
   "outputs": [
    {
     "name": "stdout",
     "output_type": "stream",
     "text": [
      "+-+-------------------+------------------------------------------+\n",
      "|1|1 word(s) put in ->|aaa327403631806685638405507439206657280913|\n",
      "+-+-------------------+------------------------------------------+\n"
     ]
    }
   ],
   "source": [
    "IFACEWORDSlitheader=: wlst\n",
    "put 'IFACEWORDSlitheader'"
   ]
  },
  {
   "cell_type": "markdown",
   "metadata": {},
   "source": [
    "#### Use Group Document Overview Markdown"
   ]
  },
  {
   "cell_type": "code",
   "execution_count": 30,
   "metadata": {},
   "outputs": [
    {
     "name": "stdout",
     "output_type": "stream",
     "text": [
      "+-+-----------------------------+------------------------------------------+\n",
      "|1|1 group document(s) put in ->|aaa327403631806685638405507439206657280913|\n",
      "+-+-----------------------------+------------------------------------------+\n"
     ]
    }
   ],
   "source": [
    "NB. add group header markdown\n",
    "litheader=: (0 : 0)\n",
    "`litheader` is a markdown demo group. \n",
    "\n",
    "This markdown text will be \n",
    "[transmogrified](https://calvinandhobbes.fandom.com) \n",
    "by `pandoc` to \\LaTeX. A group interface will be \n",
    "generated from the `IFACEWORDSlitheader`\n",
    "list. Interface lists are usually, but \n",
    "not always, associated with a *class group*.\n",
    "\n",
    "\\subsection{\\texttt{litheader} Interface}\n",
    "\n",
    "`{~{insert_interface_md_}~}`\n",
    ")\n",
    "\n",
    "NB. store markdown as a JOD group document\n",
    "2 9 put 'litheader';litheader"
   ]
  },
  {
   "cell_type": "code",
   "execution_count": 31,
   "metadata": {},
   "outputs": [
    {
     "name": "stdout",
     "output_type": "stream",
     "text": [
      "+--------------------------------------------------------------+\n",
      "|C:\\Users\\john\\AnacondaProjects\\testfolder\\grplit\\litheader.bat|\n",
      "+--------------------------------------------------------------+\n"
     ]
    }
   ],
   "source": [
    "NB. run jodliterate on group\n",
    "ltxpath=: 'C:\\Users\\john\\AnacondaProjects\\testfolder\\grplit\\' \n",
    "setjodliterate ltxpath\n",
    "{: grplit 'litheader'"
   ]
  },
  {
   "cell_type": "code",
   "execution_count": 32,
   "metadata": {},
   "outputs": [
    {
     "name": "stdout",
     "output_type": "stream",
     "text": [
      "lar.otf><c:/program files/miktex 2.9/fonts/o\n",
      "pentype/public/lm/lmmono12-regular.otf>\n",
      "Output written on litheader.pdf (4 pages, 47726 bytes).\n",
      "Transcript written on litheader.log.\n",
      "\n",
      "(base) C:\\Users\\john\\AnacondaProjects\\testfolder\\grplit>endlocal\n",
      "\n"
     ]
    }
   ],
   "source": [
    "NB. compile latex\n",
    "_250 {. shell ltxpath,'litheader.bat'"
   ]
  },
  {
   "cell_type": "code",
   "execution_count": 33,
   "metadata": {
    "collapsed": true
   },
   "outputs": [],
   "source": [
    "NB. uncomment to show PDF\n",
    "NB. shell ltxpath,'litheader.pdf'"
   ]
  },
  {
   "cell_type": "markdown",
   "metadata": {},
   "source": [
    "#### Use Macro Overview LaTeX"
   ]
  },
  {
   "cell_type": "code",
   "execution_count": 34,
   "metadata": {},
   "outputs": [
    {
     "name": "stdout",
     "output_type": "stream",
     "text": [
      "+-+--------------------+------------------------------------------+\n",
      "|1|1 macro(s) put in ->|aaa327403631806685638405507439206657280913|\n",
      "+-+--------------------+------------------------------------------+\n"
     ]
    }
   ],
   "source": [
    "NB. add a LaTeX overview - this code will not \n",
    "NB. be altered by jodliterate the suffix\n",
    "NB. '_oview_tex' is required to associate \n",
    "NB. the overview with the group 'litmacro'\n",
    "\n",
    "litmacro_oview_tex=: (0 : 0)\n",
    "\n",
    "This \\LaTeX\\ code will not be \n",
    "touched by \\texttt{jodliterate}. \n",
    "\n",
    "\\subsection{Business Babel}\n",
    "\n",
    "``Truth management is enabled.''\n",
    "\n",
    "\\emph{Excerpt from an actual business document!}\n",
    "Obviously composed in an irony free zone.\n",
    "\n",
    "\\subsection{Some Complicated \\LaTeX}\n",
    "\n",
    "\\medskip\n",
    "\n",
    "\\[\n",
    "\\frac{1}{\\Bigl(\\sqrt{\\phi \\sqrt{5}}-\\phi\\Bigr) e^{\\frac25 \\pi}} =\n",
    "1+\\frac{e^{-2\\pi}} {1+\\frac{e^{-4\\pi}} {1+\\frac{e^{-6\\pi}}\n",
    "{1+\\frac{e^{-8\\pi}} {1+\\ldots} } } }\n",
    "\\]\n",
    "\n",
    ")\n",
    "\n",
    "NB. store LaTeX as JOD text macro \n",
    "4 put 'litmacro_oview_tex';LATEX_ajod_;litmacro_oview_tex"
   ]
  },
  {
   "cell_type": "code",
   "execution_count": 35,
   "metadata": {},
   "outputs": [
    {
     "name": "stdout",
     "output_type": "stream",
     "text": [
      "+-------------------------------------------------------------+\n",
      "|C:\\Users\\john\\AnacondaProjects\\testfolder\\grplit\\litmacro.bat|\n",
      "+-------------------------------------------------------------+\n"
     ]
    }
   ],
   "source": [
    "NB. run jodliterate on group\n",
    "{: grplit 'litmacro'"
   ]
  },
  {
   "cell_type": "code",
   "execution_count": 36,
   "metadata": {},
   "outputs": [
    {
     "name": "stdout",
     "output_type": "stream",
     "text": [
      "e1/public/lm/lmsy6.pfb><C:/Program Files/MiKTeX 2.9/fonts/type1/public/lm/lms\n",
      "y8.pfb>\n",
      "Output written on litmacro.pdf (4 pages, 138976 bytes).\n",
      "Transcript written on litmacro.log.\n",
      "\n",
      "(base) C:\\Users\\john\\AnacondaProjects\\testfolder\\grplit>endlocal\n",
      "\n"
     ]
    }
   ],
   "source": [
    "NB. compile latex\n",
    "_250 {. shell ltxpath,'litmacro.bat'"
   ]
  },
  {
   "cell_type": "code",
   "execution_count": 37,
   "metadata": {
    "collapsed": true
   },
   "outputs": [],
   "source": [
    "NB. display PDF\n",
    "NB. shell ltxpath,'litmacro.pdf'"
   ]
  },
  {
   "cell_type": "markdown",
   "metadata": {},
   "source": [
    "#### Using jodliterate with larger J systems\n",
    "\n",
    "The main `jodliterate` verb `grplit` works with single JOD groups. Larger systems are\n",
    "typically made from many groups. JOD macro and test scripts are one way to work\n",
    "around this limitation. The JOD development dictionaries contain several macros that illustrate this approach."
   ]
  },
  {
   "cell_type": "code",
   "execution_count": 38,
   "metadata": {},
   "outputs": [
    {
     "name": "stdout",
     "output_type": "stream",
     "text": [
      "+-+-------------+---------------------+\n",
      "|1|buildjodlatex|buildjodliteratelatex|\n",
      "+-+-------------+---------------------+\n"
     ]
    }
   ],
   "source": [
    "od ;:'joddev jod utils' [ 3 od ''\n",
    "\n",
    "NB. list macros with substring 'latex'\n",
    "4 2 dnl 'latex'"
   ]
  },
  {
   "cell_type": "code",
   "execution_count": 39,
   "metadata": {},
   "outputs": [
    {
     "name": "stdout",
     "output_type": "stream",
     "text": [
      "NB.*buildjodlatex s--  generates syntax highlighted JOD source LaTeX.\n",
      "NB.\n",
      "NB. Files are written to the put dictionary's document directory.\n",
      "NB.\n",
      "NB. assumes: current versions of pandoc (pandoc 2.9.1.1 or later)\n",
      "NB.          check noun (THISPANDOC\n"
     ]
    }
   ],
   "source": [
    "NB. display start of macro that \n",
    "NB. applies jodliterate to JOD code\n",
    "250 {. 4 disp 'buildjodlatex'"
   ]
  },
  {
   "cell_type": "markdown",
   "metadata": {},
   "source": [
    "#### Final Remarks\n",
    "\n",
    "`jodliterate` is an idiosyncratic anal-retentive software utility; it's mainly for\n",
    "people that consider source code an art form. *Nobody likes ugly undocumented art!*\n",
    "\n",
    "If you have any questions, suggestions, or complaints please leave a comment on this post.\n",
    "To include others join one of [J discussion forums](https://code.jsoftware.com/wiki/System/Forums) and \n",
    "post your queries there.\n",
    "\n",
    "***May the source be with you!***"
   ]
  }
 ],
 "metadata": {
  "kernelspec": {
   "display_name": "J",
   "language": "J",
   "name": "jkernel"
  },
  "language_info": {
   "file_extension": "ijs",
   "mimetype": "text/x-J",
   "name": "J"
  }
 },
 "nbformat": 4,
 "nbformat_minor": 2
}
